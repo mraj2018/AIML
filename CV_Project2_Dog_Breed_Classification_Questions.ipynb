{
  "nbformat": 4,
  "nbformat_minor": 0,
  "metadata": {
    "colab": {
      "name": "CV_Project2_Dog_Breed_Classification_Questions.ipynb",
      "version": "0.3.2",
      "provenance": [],
      "collapsed_sections": [],
      "include_colab_link": true
    },
    "kernelspec": {
      "name": "python3",
      "display_name": "Python 3"
    },
    "accelerator": "GPU"
  },
  "cells": [
    {
      "cell_type": "markdown",
      "metadata": {
        "id": "view-in-github",
        "colab_type": "text"
      },
      "source": [
        "<a href=\"https://colab.research.google.com/github/mraj2018/AIML/blob/master/CV_Project2_Dog_Breed_Classification_Questions.ipynb\" target=\"_parent\"><img src=\"https://colab.research.google.com/assets/colab-badge.svg\" alt=\"Open In Colab\"/></a>"
      ]
    },
    {
      "metadata": {
        "colab_type": "text",
        "id": "2kIWaR5ZpKlJ"
      },
      "cell_type": "markdown",
      "source": [
        "## Dog Breed Classification\n",
        "\n",
        "In this project we will use traditional CNN, CNN with data augmentation and finally transfer Learning by VGG16 model with weights pre-trained on Imagenet to solve the dog breed classification problem"
      ]
    },
    {
      "metadata": {
        "colab_type": "text",
        "id": "F7MDmaAw2xGO"
      },
      "cell_type": "markdown",
      "source": [
        "### Load Dataset Files"
      ]
    },
    {
      "metadata": {
        "colab_type": "code",
        "id": "BZWpQv1OwqYK",
        "outputId": "2500fe84-6a40-4261-954e-236ec7ba8e0b",
        "colab": {
          "base_uri": "https://localhost:8080/",
          "height": 34
        }
      },
      "cell_type": "code",
      "source": [
        "from google.colab import drive\n",
        "drive.mount('/content/drive')"
      ],
      "execution_count": 1,
      "outputs": [
        {
          "output_type": "stream",
          "text": [
            "Drive already mounted at /content/drive; to attempt to forcibly remount, call drive.mount(\"/content/drive\", force_remount=True).\n"
          ],
          "name": "stdout"
        }
      ]
    },
    {
      "metadata": {
        "colab_type": "text",
        "id": "1q2zzIaUprk_"
      },
      "cell_type": "markdown",
      "source": [
        "Now, upload the given dataset file shared with you in your google drive and give its path for the below given `project_path` variable. For example, a path is given below according to the file path in our google drive. You need to change this to match the path of yours."
      ]
    },
    {
      "metadata": {
        "colab_type": "code",
        "id": "Tp6FvAToxUFs",
        "outputId": "a8068ea4-7545-45d2-e108-001f649d1a8c",
        "colab": {
          "base_uri": "https://localhost:8080/",
          "height": 85
        }
      },
      "cell_type": "code",
      "source": [
        "project_path = \"/content/drive/My Drive/R8-Dog-Breed-Classification\"\n",
        "\n",
        "!ls \"/content/drive/My Drive/R8-Dog-Breed-Classification\"\n"
      ],
      "execution_count": 2,
      "outputs": [
        {
          "output_type": "stream",
          "text": [
            "labels.csv\t\t   Test\n",
            "labels.csv.zip\t\t   Train\n",
            "labels.gsheet\t\t   vgg16_weights_tf_dim_ordering_tf_kernels_notop.h5\n",
            "sample_submission.csv.zip\n"
          ],
          "name": "stdout"
        }
      ]
    },
    {
      "metadata": {
        "colab_type": "text",
        "id": "rydR_j8lqUei"
      },
      "cell_type": "markdown",
      "source": [
        "Run the below code to extract all the images in the train.zip files given in the dataset. We are going to use these images as train and validation sets and their labels in further steps."
      ]
    },
    {
      "metadata": {
        "colab_type": "code",
        "id": "3350WZM4w4EL",
        "colab": {}
      },
      "cell_type": "code",
      "source": [
        "# no need to run again as we have extracted the images once\n",
        "from zipfile import ZipFile\n",
        "with ZipFile(project_path+'/Train/train.zip', 'r') as z:\n",
        "  z.extractall()"
      ],
      "execution_count": 0,
      "outputs": []
    },
    {
      "metadata": {
        "id": "3NHq1iBCfFjE",
        "colab_type": "text"
      },
      "cell_type": "markdown",
      "source": [
        "Repeat the same step for test.zip"
      ]
    },
    {
      "metadata": {
        "colab_type": "code",
        "id": "_fxzynvB2YCb",
        "colab": {
          "base_uri": "https://localhost:8080/",
          "height": 1030
        },
        "outputId": "d66f152e-c5eb-43c2-c631-3fa15a0568b5"
      },
      "cell_type": "code",
      "source": [
        "from zipfile import ZipFile\n",
        "with ZipFile(project_path+'/Test/test.zip', 'r') as z:\n",
        "  z.extractall()"
      ],
      "execution_count": 4,
      "outputs": [
        {
          "output_type": "error",
          "ename": "KeyboardInterrupt",
          "evalue": "ignored",
          "traceback": [
            "\u001b[0;31m---------------------------------------------------------------------------\u001b[0m",
            "\u001b[0;31mKeyboardInterrupt\u001b[0m                         Traceback (most recent call last)",
            "\u001b[0;32m<ipython-input-4-0ea302b4ce3e>\u001b[0m in \u001b[0;36m<module>\u001b[0;34m()\u001b[0m\n\u001b[1;32m      1\u001b[0m \u001b[0;32mfrom\u001b[0m \u001b[0mzipfile\u001b[0m \u001b[0;32mimport\u001b[0m \u001b[0mZipFile\u001b[0m\u001b[0;34m\u001b[0m\u001b[0;34m\u001b[0m\u001b[0m\n\u001b[1;32m      2\u001b[0m \u001b[0;32mwith\u001b[0m \u001b[0mZipFile\u001b[0m\u001b[0;34m(\u001b[0m\u001b[0mproject_path\u001b[0m\u001b[0;34m+\u001b[0m\u001b[0;34m'/Test/test.zip'\u001b[0m\u001b[0;34m,\u001b[0m \u001b[0;34m'r'\u001b[0m\u001b[0;34m)\u001b[0m \u001b[0;32mas\u001b[0m \u001b[0mz\u001b[0m\u001b[0;34m:\u001b[0m\u001b[0;34m\u001b[0m\u001b[0;34m\u001b[0m\u001b[0m\n\u001b[0;32m----> 3\u001b[0;31m   \u001b[0mz\u001b[0m\u001b[0;34m.\u001b[0m\u001b[0mextractall\u001b[0m\u001b[0;34m(\u001b[0m\u001b[0;34m)\u001b[0m\u001b[0;34m\u001b[0m\u001b[0;34m\u001b[0m\u001b[0m\n\u001b[0m",
            "\u001b[0;32m/usr/lib/python3.6/zipfile.py\u001b[0m in \u001b[0;36mextractall\u001b[0;34m(self, path, members, pwd)\u001b[0m\n\u001b[1;32m   1522\u001b[0m \u001b[0;34m\u001b[0m\u001b[0m\n\u001b[1;32m   1523\u001b[0m         \u001b[0;32mfor\u001b[0m \u001b[0mzipinfo\u001b[0m \u001b[0;32min\u001b[0m \u001b[0mmembers\u001b[0m\u001b[0;34m:\u001b[0m\u001b[0;34m\u001b[0m\u001b[0;34m\u001b[0m\u001b[0m\n\u001b[0;32m-> 1524\u001b[0;31m             \u001b[0mself\u001b[0m\u001b[0;34m.\u001b[0m\u001b[0m_extract_member\u001b[0m\u001b[0;34m(\u001b[0m\u001b[0mzipinfo\u001b[0m\u001b[0;34m,\u001b[0m \u001b[0mpath\u001b[0m\u001b[0;34m,\u001b[0m \u001b[0mpwd\u001b[0m\u001b[0;34m)\u001b[0m\u001b[0;34m\u001b[0m\u001b[0;34m\u001b[0m\u001b[0m\n\u001b[0m\u001b[1;32m   1525\u001b[0m \u001b[0;34m\u001b[0m\u001b[0m\n\u001b[1;32m   1526\u001b[0m     \u001b[0;34m@\u001b[0m\u001b[0mclassmethod\u001b[0m\u001b[0;34m\u001b[0m\u001b[0;34m\u001b[0m\u001b[0m\n",
            "\u001b[0;32m/usr/lib/python3.6/zipfile.py\u001b[0m in \u001b[0;36m_extract_member\u001b[0;34m(self, member, targetpath, pwd)\u001b[0m\n\u001b[1;32m   1577\u001b[0m         \u001b[0;32mwith\u001b[0m \u001b[0mself\u001b[0m\u001b[0;34m.\u001b[0m\u001b[0mopen\u001b[0m\u001b[0;34m(\u001b[0m\u001b[0mmember\u001b[0m\u001b[0;34m,\u001b[0m \u001b[0mpwd\u001b[0m\u001b[0;34m=\u001b[0m\u001b[0mpwd\u001b[0m\u001b[0;34m)\u001b[0m \u001b[0;32mas\u001b[0m \u001b[0msource\u001b[0m\u001b[0;34m,\u001b[0m\u001b[0;31m \u001b[0m\u001b[0;31m\\\u001b[0m\u001b[0;34m\u001b[0m\u001b[0;34m\u001b[0m\u001b[0m\n\u001b[1;32m   1578\u001b[0m              \u001b[0mopen\u001b[0m\u001b[0;34m(\u001b[0m\u001b[0mtargetpath\u001b[0m\u001b[0;34m,\u001b[0m \u001b[0;34m\"wb\"\u001b[0m\u001b[0;34m)\u001b[0m \u001b[0;32mas\u001b[0m \u001b[0mtarget\u001b[0m\u001b[0;34m:\u001b[0m\u001b[0;34m\u001b[0m\u001b[0;34m\u001b[0m\u001b[0m\n\u001b[0;32m-> 1579\u001b[0;31m             \u001b[0mshutil\u001b[0m\u001b[0;34m.\u001b[0m\u001b[0mcopyfileobj\u001b[0m\u001b[0;34m(\u001b[0m\u001b[0msource\u001b[0m\u001b[0;34m,\u001b[0m \u001b[0mtarget\u001b[0m\u001b[0;34m)\u001b[0m\u001b[0;34m\u001b[0m\u001b[0;34m\u001b[0m\u001b[0m\n\u001b[0m\u001b[1;32m   1580\u001b[0m \u001b[0;34m\u001b[0m\u001b[0m\n\u001b[1;32m   1581\u001b[0m         \u001b[0;32mreturn\u001b[0m \u001b[0mtargetpath\u001b[0m\u001b[0;34m\u001b[0m\u001b[0;34m\u001b[0m\u001b[0m\n",
            "\u001b[0;32m/usr/lib/python3.6/shutil.py\u001b[0m in \u001b[0;36mcopyfileobj\u001b[0;34m(fsrc, fdst, length)\u001b[0m\n\u001b[1;32m     77\u001b[0m     \u001b[0;34m\"\"\"copy data from file-like object fsrc to file-like object fdst\"\"\"\u001b[0m\u001b[0;34m\u001b[0m\u001b[0;34m\u001b[0m\u001b[0m\n\u001b[1;32m     78\u001b[0m     \u001b[0;32mwhile\u001b[0m \u001b[0;36m1\u001b[0m\u001b[0;34m:\u001b[0m\u001b[0;34m\u001b[0m\u001b[0;34m\u001b[0m\u001b[0m\n\u001b[0;32m---> 79\u001b[0;31m         \u001b[0mbuf\u001b[0m \u001b[0;34m=\u001b[0m \u001b[0mfsrc\u001b[0m\u001b[0;34m.\u001b[0m\u001b[0mread\u001b[0m\u001b[0;34m(\u001b[0m\u001b[0mlength\u001b[0m\u001b[0;34m)\u001b[0m\u001b[0;34m\u001b[0m\u001b[0;34m\u001b[0m\u001b[0m\n\u001b[0m\u001b[1;32m     80\u001b[0m         \u001b[0;32mif\u001b[0m \u001b[0;32mnot\u001b[0m \u001b[0mbuf\u001b[0m\u001b[0;34m:\u001b[0m\u001b[0;34m\u001b[0m\u001b[0;34m\u001b[0m\u001b[0m\n\u001b[1;32m     81\u001b[0m             \u001b[0;32mbreak\u001b[0m\u001b[0;34m\u001b[0m\u001b[0;34m\u001b[0m\u001b[0m\n",
            "\u001b[0;32m/usr/lib/python3.6/zipfile.py\u001b[0m in \u001b[0;36mread\u001b[0;34m(self, n)\u001b[0m\n\u001b[1;32m    870\u001b[0m         \u001b[0mself\u001b[0m\u001b[0;34m.\u001b[0m\u001b[0m_offset\u001b[0m \u001b[0;34m=\u001b[0m \u001b[0;36m0\u001b[0m\u001b[0;34m\u001b[0m\u001b[0;34m\u001b[0m\u001b[0m\n\u001b[1;32m    871\u001b[0m         \u001b[0;32mwhile\u001b[0m \u001b[0mn\u001b[0m \u001b[0;34m>\u001b[0m \u001b[0;36m0\u001b[0m \u001b[0;32mand\u001b[0m \u001b[0;32mnot\u001b[0m \u001b[0mself\u001b[0m\u001b[0;34m.\u001b[0m\u001b[0m_eof\u001b[0m\u001b[0;34m:\u001b[0m\u001b[0;34m\u001b[0m\u001b[0;34m\u001b[0m\u001b[0m\n\u001b[0;32m--> 872\u001b[0;31m             \u001b[0mdata\u001b[0m \u001b[0;34m=\u001b[0m \u001b[0mself\u001b[0m\u001b[0;34m.\u001b[0m\u001b[0m_read1\u001b[0m\u001b[0;34m(\u001b[0m\u001b[0mn\u001b[0m\u001b[0;34m)\u001b[0m\u001b[0;34m\u001b[0m\u001b[0;34m\u001b[0m\u001b[0m\n\u001b[0m\u001b[1;32m    873\u001b[0m             \u001b[0;32mif\u001b[0m \u001b[0mn\u001b[0m \u001b[0;34m<\u001b[0m \u001b[0mlen\u001b[0m\u001b[0;34m(\u001b[0m\u001b[0mdata\u001b[0m\u001b[0;34m)\u001b[0m\u001b[0;34m:\u001b[0m\u001b[0;34m\u001b[0m\u001b[0;34m\u001b[0m\u001b[0m\n\u001b[1;32m    874\u001b[0m                 \u001b[0mself\u001b[0m\u001b[0;34m.\u001b[0m\u001b[0m_readbuffer\u001b[0m \u001b[0;34m=\u001b[0m \u001b[0mdata\u001b[0m\u001b[0;34m\u001b[0m\u001b[0;34m\u001b[0m\u001b[0m\n",
            "\u001b[0;32m/usr/lib/python3.6/zipfile.py\u001b[0m in \u001b[0;36m_read1\u001b[0;34m(self, n)\u001b[0m\n\u001b[1;32m    938\u001b[0m             \u001b[0mdata\u001b[0m \u001b[0;34m=\u001b[0m \u001b[0mself\u001b[0m\u001b[0;34m.\u001b[0m\u001b[0m_decompressor\u001b[0m\u001b[0;34m.\u001b[0m\u001b[0munconsumed_tail\u001b[0m\u001b[0;34m\u001b[0m\u001b[0;34m\u001b[0m\u001b[0m\n\u001b[1;32m    939\u001b[0m             \u001b[0;32mif\u001b[0m \u001b[0mn\u001b[0m \u001b[0;34m>\u001b[0m \u001b[0mlen\u001b[0m\u001b[0;34m(\u001b[0m\u001b[0mdata\u001b[0m\u001b[0;34m)\u001b[0m\u001b[0;34m:\u001b[0m\u001b[0;34m\u001b[0m\u001b[0;34m\u001b[0m\u001b[0m\n\u001b[0;32m--> 940\u001b[0;31m                 \u001b[0mdata\u001b[0m \u001b[0;34m+=\u001b[0m \u001b[0mself\u001b[0m\u001b[0;34m.\u001b[0m\u001b[0m_read2\u001b[0m\u001b[0;34m(\u001b[0m\u001b[0mn\u001b[0m \u001b[0;34m-\u001b[0m \u001b[0mlen\u001b[0m\u001b[0;34m(\u001b[0m\u001b[0mdata\u001b[0m\u001b[0;34m)\u001b[0m\u001b[0;34m)\u001b[0m\u001b[0;34m\u001b[0m\u001b[0;34m\u001b[0m\u001b[0m\n\u001b[0m\u001b[1;32m    941\u001b[0m         \u001b[0;32melse\u001b[0m\u001b[0;34m:\u001b[0m\u001b[0;34m\u001b[0m\u001b[0;34m\u001b[0m\u001b[0m\n\u001b[1;32m    942\u001b[0m             \u001b[0mdata\u001b[0m \u001b[0;34m=\u001b[0m \u001b[0mself\u001b[0m\u001b[0;34m.\u001b[0m\u001b[0m_read2\u001b[0m\u001b[0;34m(\u001b[0m\u001b[0mn\u001b[0m\u001b[0;34m)\u001b[0m\u001b[0;34m\u001b[0m\u001b[0;34m\u001b[0m\u001b[0m\n",
            "\u001b[0;32m/usr/lib/python3.6/zipfile.py\u001b[0m in \u001b[0;36m_read2\u001b[0;34m(self, n)\u001b[0m\n\u001b[1;32m    970\u001b[0m         \u001b[0mn\u001b[0m \u001b[0;34m=\u001b[0m \u001b[0mmin\u001b[0m\u001b[0;34m(\u001b[0m\u001b[0mn\u001b[0m\u001b[0;34m,\u001b[0m \u001b[0mself\u001b[0m\u001b[0;34m.\u001b[0m\u001b[0m_compress_left\u001b[0m\u001b[0;34m)\u001b[0m\u001b[0;34m\u001b[0m\u001b[0;34m\u001b[0m\u001b[0m\n\u001b[1;32m    971\u001b[0m \u001b[0;34m\u001b[0m\u001b[0m\n\u001b[0;32m--> 972\u001b[0;31m         \u001b[0mdata\u001b[0m \u001b[0;34m=\u001b[0m \u001b[0mself\u001b[0m\u001b[0;34m.\u001b[0m\u001b[0m_fileobj\u001b[0m\u001b[0;34m.\u001b[0m\u001b[0mread\u001b[0m\u001b[0;34m(\u001b[0m\u001b[0mn\u001b[0m\u001b[0;34m)\u001b[0m\u001b[0;34m\u001b[0m\u001b[0;34m\u001b[0m\u001b[0m\n\u001b[0m\u001b[1;32m    973\u001b[0m         \u001b[0mself\u001b[0m\u001b[0;34m.\u001b[0m\u001b[0m_compress_left\u001b[0m \u001b[0;34m-=\u001b[0m \u001b[0mlen\u001b[0m\u001b[0;34m(\u001b[0m\u001b[0mdata\u001b[0m\u001b[0;34m)\u001b[0m\u001b[0;34m\u001b[0m\u001b[0;34m\u001b[0m\u001b[0m\n\u001b[1;32m    974\u001b[0m         \u001b[0;32mif\u001b[0m \u001b[0;32mnot\u001b[0m \u001b[0mdata\u001b[0m\u001b[0;34m:\u001b[0m\u001b[0;34m\u001b[0m\u001b[0;34m\u001b[0m\u001b[0m\n",
            "\u001b[0;32m/usr/lib/python3.6/zipfile.py\u001b[0m in \u001b[0;36mread\u001b[0;34m(self, n)\u001b[0m\n\u001b[1;32m    727\u001b[0m                         \"Close the writing handle before trying to read.\")\n\u001b[1;32m    728\u001b[0m             \u001b[0mself\u001b[0m\u001b[0;34m.\u001b[0m\u001b[0m_file\u001b[0m\u001b[0;34m.\u001b[0m\u001b[0mseek\u001b[0m\u001b[0;34m(\u001b[0m\u001b[0mself\u001b[0m\u001b[0;34m.\u001b[0m\u001b[0m_pos\u001b[0m\u001b[0;34m)\u001b[0m\u001b[0;34m\u001b[0m\u001b[0;34m\u001b[0m\u001b[0m\n\u001b[0;32m--> 729\u001b[0;31m             \u001b[0mdata\u001b[0m \u001b[0;34m=\u001b[0m \u001b[0mself\u001b[0m\u001b[0;34m.\u001b[0m\u001b[0m_file\u001b[0m\u001b[0;34m.\u001b[0m\u001b[0mread\u001b[0m\u001b[0;34m(\u001b[0m\u001b[0mn\u001b[0m\u001b[0;34m)\u001b[0m\u001b[0;34m\u001b[0m\u001b[0;34m\u001b[0m\u001b[0m\n\u001b[0m\u001b[1;32m    730\u001b[0m             \u001b[0mself\u001b[0m\u001b[0;34m.\u001b[0m\u001b[0m_pos\u001b[0m \u001b[0;34m=\u001b[0m \u001b[0mself\u001b[0m\u001b[0;34m.\u001b[0m\u001b[0m_file\u001b[0m\u001b[0;34m.\u001b[0m\u001b[0mtell\u001b[0m\u001b[0;34m(\u001b[0m\u001b[0;34m)\u001b[0m\u001b[0;34m\u001b[0m\u001b[0;34m\u001b[0m\u001b[0m\n\u001b[1;32m    731\u001b[0m             \u001b[0;32mreturn\u001b[0m \u001b[0mdata\u001b[0m\u001b[0;34m\u001b[0m\u001b[0;34m\u001b[0m\u001b[0m\n",
            "\u001b[0;31mKeyboardInterrupt\u001b[0m: "
          ]
        }
      ]
    },
    {
      "metadata": {
        "id": "jnUMhQrDfJmz",
        "colab_type": "text"
      },
      "cell_type": "markdown",
      "source": [
        "Repeat the same step for sample_submission.csv.zip"
      ]
    },
    {
      "metadata": {
        "colab_type": "code",
        "id": "4PyTxE8q2jLf",
        "colab": {}
      },
      "cell_type": "code",
      "source": [
        "from zipfile import ZipFile\n",
        "with ZipFile(project_path+'/sample_submission.csv.zip', 'r') as z:\n",
        "  z.extractall()"
      ],
      "execution_count": 0,
      "outputs": []
    },
    {
      "metadata": {
        "colab_type": "code",
        "id": "fVhB9OopxFbX",
        "outputId": "f740bca8-4e38-42e8-f4fd-efc0a10447b9",
        "colab": {
          "base_uri": "https://localhost:8080/",
          "height": 270
        }
      },
      "cell_type": "code",
      "source": [
        "import pandas as pd\n",
        "import numpy as np\n",
        "\n",
        "def append_ext(fn):\n",
        "    return fn+\".jpg\"\n",
        "ds_ss = pd.read_csv('sample_submission.csv')\n",
        "ds_ss[\"id\"]=ds_ss[\"id\"].apply(append_ext)\n",
        "ds_ss.head()"
      ],
      "execution_count": 6,
      "outputs": [
        {
          "output_type": "execute_result",
          "data": {
            "text/html": [
              "<div>\n",
              "<style scoped>\n",
              "    .dataframe tbody tr th:only-of-type {\n",
              "        vertical-align: middle;\n",
              "    }\n",
              "\n",
              "    .dataframe tbody tr th {\n",
              "        vertical-align: top;\n",
              "    }\n",
              "\n",
              "    .dataframe thead th {\n",
              "        text-align: right;\n",
              "    }\n",
              "</style>\n",
              "<table border=\"1\" class=\"dataframe\">\n",
              "  <thead>\n",
              "    <tr style=\"text-align: right;\">\n",
              "      <th></th>\n",
              "      <th>id</th>\n",
              "      <th>affenpinscher</th>\n",
              "      <th>afghan_hound</th>\n",
              "      <th>african_hunting_dog</th>\n",
              "      <th>airedale</th>\n",
              "      <th>american_staffordshire_terrier</th>\n",
              "      <th>appenzeller</th>\n",
              "      <th>australian_terrier</th>\n",
              "      <th>basenji</th>\n",
              "      <th>basset</th>\n",
              "      <th>...</th>\n",
              "      <th>toy_poodle</th>\n",
              "      <th>toy_terrier</th>\n",
              "      <th>vizsla</th>\n",
              "      <th>walker_hound</th>\n",
              "      <th>weimaraner</th>\n",
              "      <th>welsh_springer_spaniel</th>\n",
              "      <th>west_highland_white_terrier</th>\n",
              "      <th>whippet</th>\n",
              "      <th>wire-haired_fox_terrier</th>\n",
              "      <th>yorkshire_terrier</th>\n",
              "    </tr>\n",
              "  </thead>\n",
              "  <tbody>\n",
              "    <tr>\n",
              "      <th>0</th>\n",
              "      <td>000621fb3cbb32d8935728e48679680e.jpg</td>\n",
              "      <td>0.008333</td>\n",
              "      <td>0.008333</td>\n",
              "      <td>0.008333</td>\n",
              "      <td>0.008333</td>\n",
              "      <td>0.008333</td>\n",
              "      <td>0.008333</td>\n",
              "      <td>0.008333</td>\n",
              "      <td>0.008333</td>\n",
              "      <td>0.008333</td>\n",
              "      <td>...</td>\n",
              "      <td>0.008333</td>\n",
              "      <td>0.008333</td>\n",
              "      <td>0.008333</td>\n",
              "      <td>0.008333</td>\n",
              "      <td>0.008333</td>\n",
              "      <td>0.008333</td>\n",
              "      <td>0.008333</td>\n",
              "      <td>0.008333</td>\n",
              "      <td>0.008333</td>\n",
              "      <td>0.008333</td>\n",
              "    </tr>\n",
              "    <tr>\n",
              "      <th>1</th>\n",
              "      <td>00102ee9d8eb90812350685311fe5890.jpg</td>\n",
              "      <td>0.008333</td>\n",
              "      <td>0.008333</td>\n",
              "      <td>0.008333</td>\n",
              "      <td>0.008333</td>\n",
              "      <td>0.008333</td>\n",
              "      <td>0.008333</td>\n",
              "      <td>0.008333</td>\n",
              "      <td>0.008333</td>\n",
              "      <td>0.008333</td>\n",
              "      <td>...</td>\n",
              "      <td>0.008333</td>\n",
              "      <td>0.008333</td>\n",
              "      <td>0.008333</td>\n",
              "      <td>0.008333</td>\n",
              "      <td>0.008333</td>\n",
              "      <td>0.008333</td>\n",
              "      <td>0.008333</td>\n",
              "      <td>0.008333</td>\n",
              "      <td>0.008333</td>\n",
              "      <td>0.008333</td>\n",
              "    </tr>\n",
              "    <tr>\n",
              "      <th>2</th>\n",
              "      <td>0012a730dfa437f5f3613fb75efcd4ce.jpg</td>\n",
              "      <td>0.008333</td>\n",
              "      <td>0.008333</td>\n",
              "      <td>0.008333</td>\n",
              "      <td>0.008333</td>\n",
              "      <td>0.008333</td>\n",
              "      <td>0.008333</td>\n",
              "      <td>0.008333</td>\n",
              "      <td>0.008333</td>\n",
              "      <td>0.008333</td>\n",
              "      <td>...</td>\n",
              "      <td>0.008333</td>\n",
              "      <td>0.008333</td>\n",
              "      <td>0.008333</td>\n",
              "      <td>0.008333</td>\n",
              "      <td>0.008333</td>\n",
              "      <td>0.008333</td>\n",
              "      <td>0.008333</td>\n",
              "      <td>0.008333</td>\n",
              "      <td>0.008333</td>\n",
              "      <td>0.008333</td>\n",
              "    </tr>\n",
              "    <tr>\n",
              "      <th>3</th>\n",
              "      <td>001510bc8570bbeee98c8d80c8a95ec1.jpg</td>\n",
              "      <td>0.008333</td>\n",
              "      <td>0.008333</td>\n",
              "      <td>0.008333</td>\n",
              "      <td>0.008333</td>\n",
              "      <td>0.008333</td>\n",
              "      <td>0.008333</td>\n",
              "      <td>0.008333</td>\n",
              "      <td>0.008333</td>\n",
              "      <td>0.008333</td>\n",
              "      <td>...</td>\n",
              "      <td>0.008333</td>\n",
              "      <td>0.008333</td>\n",
              "      <td>0.008333</td>\n",
              "      <td>0.008333</td>\n",
              "      <td>0.008333</td>\n",
              "      <td>0.008333</td>\n",
              "      <td>0.008333</td>\n",
              "      <td>0.008333</td>\n",
              "      <td>0.008333</td>\n",
              "      <td>0.008333</td>\n",
              "    </tr>\n",
              "    <tr>\n",
              "      <th>4</th>\n",
              "      <td>001a5f3114548acdefa3d4da05474c2e.jpg</td>\n",
              "      <td>0.008333</td>\n",
              "      <td>0.008333</td>\n",
              "      <td>0.008333</td>\n",
              "      <td>0.008333</td>\n",
              "      <td>0.008333</td>\n",
              "      <td>0.008333</td>\n",
              "      <td>0.008333</td>\n",
              "      <td>0.008333</td>\n",
              "      <td>0.008333</td>\n",
              "      <td>...</td>\n",
              "      <td>0.008333</td>\n",
              "      <td>0.008333</td>\n",
              "      <td>0.008333</td>\n",
              "      <td>0.008333</td>\n",
              "      <td>0.008333</td>\n",
              "      <td>0.008333</td>\n",
              "      <td>0.008333</td>\n",
              "      <td>0.008333</td>\n",
              "      <td>0.008333</td>\n",
              "      <td>0.008333</td>\n",
              "    </tr>\n",
              "  </tbody>\n",
              "</table>\n",
              "<p>5 rows × 121 columns</p>\n",
              "</div>"
            ],
            "text/plain": [
              "                                     id  affenpinscher  afghan_hound  \\\n",
              "0  000621fb3cbb32d8935728e48679680e.jpg       0.008333      0.008333   \n",
              "1  00102ee9d8eb90812350685311fe5890.jpg       0.008333      0.008333   \n",
              "2  0012a730dfa437f5f3613fb75efcd4ce.jpg       0.008333      0.008333   \n",
              "3  001510bc8570bbeee98c8d80c8a95ec1.jpg       0.008333      0.008333   \n",
              "4  001a5f3114548acdefa3d4da05474c2e.jpg       0.008333      0.008333   \n",
              "\n",
              "   african_hunting_dog  airedale  american_staffordshire_terrier  appenzeller  \\\n",
              "0             0.008333  0.008333                        0.008333     0.008333   \n",
              "1             0.008333  0.008333                        0.008333     0.008333   \n",
              "2             0.008333  0.008333                        0.008333     0.008333   \n",
              "3             0.008333  0.008333                        0.008333     0.008333   \n",
              "4             0.008333  0.008333                        0.008333     0.008333   \n",
              "\n",
              "   australian_terrier   basenji    basset        ...          toy_poodle  \\\n",
              "0            0.008333  0.008333  0.008333        ...            0.008333   \n",
              "1            0.008333  0.008333  0.008333        ...            0.008333   \n",
              "2            0.008333  0.008333  0.008333        ...            0.008333   \n",
              "3            0.008333  0.008333  0.008333        ...            0.008333   \n",
              "4            0.008333  0.008333  0.008333        ...            0.008333   \n",
              "\n",
              "   toy_terrier    vizsla  walker_hound  weimaraner  welsh_springer_spaniel  \\\n",
              "0     0.008333  0.008333      0.008333    0.008333                0.008333   \n",
              "1     0.008333  0.008333      0.008333    0.008333                0.008333   \n",
              "2     0.008333  0.008333      0.008333    0.008333                0.008333   \n",
              "3     0.008333  0.008333      0.008333    0.008333                0.008333   \n",
              "4     0.008333  0.008333      0.008333    0.008333                0.008333   \n",
              "\n",
              "   west_highland_white_terrier   whippet  wire-haired_fox_terrier  \\\n",
              "0                     0.008333  0.008333                 0.008333   \n",
              "1                     0.008333  0.008333                 0.008333   \n",
              "2                     0.008333  0.008333                 0.008333   \n",
              "3                     0.008333  0.008333                 0.008333   \n",
              "4                     0.008333  0.008333                 0.008333   \n",
              "\n",
              "   yorkshire_terrier  \n",
              "0           0.008333  \n",
              "1           0.008333  \n",
              "2           0.008333  \n",
              "3           0.008333  \n",
              "4           0.008333  \n",
              "\n",
              "[5 rows x 121 columns]"
            ]
          },
          "metadata": {
            "tags": []
          },
          "execution_count": 6
        }
      ]
    },
    {
      "metadata": {
        "id": "2G9RIxB-fOLT",
        "colab_type": "text"
      },
      "cell_type": "markdown",
      "source": [
        "Repeat the same step for labels.csv.zip"
      ]
    },
    {
      "metadata": {
        "colab_type": "code",
        "id": "rXtnEoEixbgi",
        "colab": {}
      },
      "cell_type": "code",
      "source": [
        "from zipfile import ZipFile\n",
        "with ZipFile(project_path+'/labels.csv.zip', 'r') as z:\n",
        "  z.extractall()"
      ],
      "execution_count": 0,
      "outputs": []
    },
    {
      "metadata": {
        "id": "sJc1lVrW_jmL",
        "colab_type": "text"
      },
      "cell_type": "markdown",
      "source": [
        "After this process, we will have 4 files - Train folder, test folder and labels.csv and sample_submission.csv as part of your google drive"
      ]
    },
    {
      "metadata": {
        "colab_type": "text",
        "id": "aYmJKmDqqpng"
      },
      "cell_type": "markdown",
      "source": [
        "### Read labels.csv file using pandas"
      ]
    },
    {
      "metadata": {
        "id": "WmlJ2VMY96IZ",
        "colab_type": "code",
        "outputId": "ec464f6e-be06-47d7-b37b-30be98cddc55",
        "colab": {
          "base_uri": "https://localhost:8080/",
          "height": 34
        }
      },
      "cell_type": "code",
      "source": [
        "import pandas as pd\n",
        "import numpy as np\n",
        "\n",
        "  \n",
        "labelds = pd.read_csv('labels.csv')\n",
        "\n",
        "\n",
        "labelds[\"id\"]=labelds[\"id\"].apply(append_ext)\n",
        "\n",
        "print(len(labelds.breed.unique()))\n"
      ],
      "execution_count": 8,
      "outputs": [
        {
          "output_type": "stream",
          "text": [
            "120\n"
          ],
          "name": "stdout"
        }
      ]
    },
    {
      "metadata": {
        "id": "hPvb1RSc96If",
        "colab_type": "code",
        "outputId": "f6c18a5f-4124-4737-bb46-046d33b7a472",
        "colab": {
          "base_uri": "https://localhost:8080/",
          "height": 204
        }
      },
      "cell_type": "code",
      "source": [
        "labelds.head()"
      ],
      "execution_count": 9,
      "outputs": [
        {
          "output_type": "execute_result",
          "data": {
            "text/html": [
              "<div>\n",
              "<style scoped>\n",
              "    .dataframe tbody tr th:only-of-type {\n",
              "        vertical-align: middle;\n",
              "    }\n",
              "\n",
              "    .dataframe tbody tr th {\n",
              "        vertical-align: top;\n",
              "    }\n",
              "\n",
              "    .dataframe thead th {\n",
              "        text-align: right;\n",
              "    }\n",
              "</style>\n",
              "<table border=\"1\" class=\"dataframe\">\n",
              "  <thead>\n",
              "    <tr style=\"text-align: right;\">\n",
              "      <th></th>\n",
              "      <th>id</th>\n",
              "      <th>breed</th>\n",
              "    </tr>\n",
              "  </thead>\n",
              "  <tbody>\n",
              "    <tr>\n",
              "      <th>0</th>\n",
              "      <td>000bec180eb18c7604dcecc8fe0dba07.jpg</td>\n",
              "      <td>boston_bull</td>\n",
              "    </tr>\n",
              "    <tr>\n",
              "      <th>1</th>\n",
              "      <td>001513dfcb2ffafc82cccf4d8bbaba97.jpg</td>\n",
              "      <td>dingo</td>\n",
              "    </tr>\n",
              "    <tr>\n",
              "      <th>2</th>\n",
              "      <td>001cdf01b096e06d78e9e5112d419397.jpg</td>\n",
              "      <td>pekinese</td>\n",
              "    </tr>\n",
              "    <tr>\n",
              "      <th>3</th>\n",
              "      <td>00214f311d5d2247d5dfe4fe24b2303d.jpg</td>\n",
              "      <td>bluetick</td>\n",
              "    </tr>\n",
              "    <tr>\n",
              "      <th>4</th>\n",
              "      <td>0021f9ceb3235effd7fcde7f7538ed62.jpg</td>\n",
              "      <td>golden_retriever</td>\n",
              "    </tr>\n",
              "  </tbody>\n",
              "</table>\n",
              "</div>"
            ],
            "text/plain": [
              "                                     id             breed\n",
              "0  000bec180eb18c7604dcecc8fe0dba07.jpg       boston_bull\n",
              "1  001513dfcb2ffafc82cccf4d8bbaba97.jpg             dingo\n",
              "2  001cdf01b096e06d78e9e5112d419397.jpg          pekinese\n",
              "3  00214f311d5d2247d5dfe4fe24b2303d.jpg          bluetick\n",
              "4  0021f9ceb3235effd7fcde7f7538ed62.jpg  golden_retriever"
            ]
          },
          "metadata": {
            "tags": []
          },
          "execution_count": 9
        }
      ]
    },
    {
      "metadata": {
        "colab_type": "text",
        "id": "QP8YAzQvqyK-"
      },
      "cell_type": "markdown",
      "source": [
        "### Print the count of each category of Dogs given in the dataset\n",
        "\n"
      ]
    },
    {
      "metadata": {
        "id": "3L2naXlr96Im",
        "colab_type": "code",
        "outputId": "43011d23-736e-48eb-f25a-302f37c87ddb",
        "colab": {
          "base_uri": "https://localhost:8080/",
          "height": 460
        }
      },
      "cell_type": "code",
      "source": [
        "\n",
        "\n",
        "labelds['breed'].value_counts().plot.bar(figsize=(20,5))\n"
      ],
      "execution_count": 0,
      "outputs": [
        {
          "output_type": "execute_result",
          "data": {
            "text/plain": [
              "<matplotlib.axes._subplots.AxesSubplot at 0x7f5021da2e10>"
            ]
          },
          "metadata": {
            "tags": []
          },
          "execution_count": 4
        },
        {
          "output_type": "display_data",
          "data": {
            "image/png": "[encoded data removed]",
            "text/plain": [
              "<Figure size 1440x360 with 1 Axes>"
            ]
          },
          "metadata": {
            "tags": []
          }
        }
      ]
    },
    {
      "metadata": {
        "id": "CLm3W5RN96Ir",
        "colab_type": "code",
        "outputId": "5b490b1e-6cb5-46f7-d8f4-3cc332a96f4f",
        "colab": {
          "base_uri": "https://localhost:8080/",
          "height": 1071
        }
      },
      "cell_type": "code",
      "source": [
        "labelds.breed.value_counts()"
      ],
      "execution_count": 0,
      "outputs": [
        {
          "output_type": "execute_result",
          "data": {
            "text/plain": [
              "scottish_deerhound                126\n",
              "maltese_dog                       117\n",
              "afghan_hound                      116\n",
              "entlebucher                       115\n",
              "bernese_mountain_dog              114\n",
              "shih-tzu                          112\n",
              "pomeranian                        111\n",
              "great_pyrenees                    111\n",
              "basenji                           110\n",
              "samoyed                           109\n",
              "tibetan_terrier                   107\n",
              "airedale                          107\n",
              "leonberg                          106\n",
              "cairn                             106\n",
              "beagle                            105\n",
              "japanese_spaniel                  105\n",
              "blenheim_spaniel                  102\n",
              "miniature_pinscher                102\n",
              "australian_terrier                102\n",
              "irish_wolfhound                   101\n",
              "lakeland_terrier                   99\n",
              "saluki                             99\n",
              "papillon                           96\n",
              "siberian_husky                     95\n",
              "whippet                            95\n",
              "norwegian_elkhound                 95\n",
              "pug                                94\n",
              "chow                               93\n",
              "italian_greyhound                  92\n",
              "pembroke                           92\n",
              "                                 ... \n",
              "english_springer                   75\n",
              "bull_mastiff                       75\n",
              "boxer                              75\n",
              "borzoi                             75\n",
              "great_dane                         75\n",
              "doberman                           74\n",
              "cocker_spaniel                     74\n",
              "american_staffordshire_terrier     74\n",
              "brittany_spaniel                   73\n",
              "malinois                           73\n",
              "redbone                            72\n",
              "border_collie                      72\n",
              "standard_schnauzer                 72\n",
              "curly-coated_retriever             72\n",
              "flat-coated_retriever              72\n",
              "soft-coated_wheaten_terrier        71\n",
              "kuvasz                             71\n",
              "chihuahua                          71\n",
              "vizsla                             70\n",
              "french_bulldog                     70\n",
              "german_shepherd                    69\n",
              "otterhound                         69\n",
              "tibetan_mastiff                    69\n",
              "walker_hound                       69\n",
              "giant_schnauzer                    69\n",
              "brabancon_griffon                  67\n",
              "komondor                           67\n",
              "golden_retriever                   67\n",
              "eskimo_dog                         66\n",
              "briard                             66\n",
              "Name: breed, Length: 120, dtype: int64"
            ]
          },
          "metadata": {
            "tags": []
          },
          "execution_count": 7
        }
      ]
    },
    {
      "metadata": {
        "colab_type": "text",
        "id": "WI94_Qcc0D4M"
      },
      "cell_type": "markdown",
      "source": [
        "### Get one-hot encodings of labels"
      ]
    },
    {
      "metadata": {
        "id": "Q48iAcY196I3",
        "colab_type": "code",
        "colab": {}
      },
      "cell_type": "code",
      "source": [
        "from sklearn.preprocessing import LabelEncoder\n",
        "\n",
        "le = LabelEncoder()\n",
        "y = le.fit_transform(labelds['breed'])\n",
        "\n",
        "labelds['breed_cat'] =le.fit_transform(labelds['breed'])\n",
        "\n",
        "labelds['breed_cat'] = labelds['breed_cat'].astype('str')\n",
        "#y_train = np_utils.to_categorical(y, num_classes=120)\n",
        "\n",
        "#y_train.shape"
      ],
      "execution_count": 0,
      "outputs": []
    },
    {
      "metadata": {
        "id": "VWaJ9naXfoiU",
        "colab_type": "text"
      },
      "cell_type": "markdown",
      "source": [
        "## Preparing training dataset\n",
        "1. Write a code which reads each and every id from labels.csv file and loads the corresponding image (in RGB - 128, 128, 3) from the train folder. <br>\n",
        "2. Create 2 variables <br> \n",
        "     a.  x_train - Should have all the images of the dogs from train folder <br>\n",
        "     b.  y_train - Corresponding label of the dog <br>\n",
        "<u>Note:</u> The id of the dog images and its corresponding labels are available in labels.csv file   \n",
        "<u>Hint:</u> Watch the video shared on \"Preparing the training dataset\" if you face issue on creating the training dataset"
      ]
    },
    {
      "metadata": {
        "colab_type": "code",
        "id": "aC2f9ecR0XGR",
        "colab": {}
      },
      "cell_type": "code",
      "source": [
        "from keras.preprocessing.image import load_img\n",
        "import matplotlib.pylab as plt\n",
        "import cv2\n",
        "x_train = []\n",
        "Ytrain =[]\n",
        "for index ,row in labelds.iterrows():\n",
        "   img = cv2.imread('/content/train/'+row['id'])\n",
        "   x_train.append(cv2.resize(img, (128, 128)))\n",
        "   #x_train.append(cv2.resize(img, (224, 224)))\n",
        "   Ytrain.append(row['breed_cat'])"
      ],
      "execution_count": 0,
      "outputs": []
    },
    {
      "metadata": {
        "colab_type": "code",
        "id": "nkkZEpOe0ipk",
        "outputId": "990d4199-23d0-4249-b70d-60d1328a363a",
        "colab": {
          "base_uri": "https://localhost:8080/",
          "height": 34
        }
      },
      "cell_type": "code",
      "source": [
        "from keras.utils import np_utils\n",
        "\n",
        "y_train = np_utils.to_categorical(Ytrain, num_classes=120)\n",
        "\n",
        "y_train.shape , x_train[0].shape"
      ],
      "execution_count": 0,
      "outputs": [
        {
          "output_type": "execute_result",
          "data": {
            "text/plain": [
              "((10222, 120), (224, 224, 3))"
            ]
          },
          "metadata": {
            "tags": []
          },
          "execution_count": 11
        }
      ]
    },
    {
      "metadata": {
        "id": "6ioWDEgElBOs",
        "colab_type": "text"
      },
      "cell_type": "markdown",
      "source": [
        "Normalize the training data and convert into 4 dimensions so that it can be used as an input to conv layers in the model"
      ]
    },
    {
      "metadata": {
        "colab_type": "code",
        "id": "ARn76j3U1CDa",
        "colab": {}
      },
      "cell_type": "code",
      "source": [
        "x_train = np.array(x_train)\n",
        "x_train = x_train.astype('float32')\n",
        "x_train /= 255\n",
        "x_train = x_train.reshape(x_train.shape[0],128,128,3)\n",
        "\n"
      ],
      "execution_count": 0,
      "outputs": []
    },
    {
      "metadata": {
        "colab_type": "text",
        "id": "bdCXuAE11gZL"
      },
      "cell_type": "markdown",
      "source": [
        "### Split the training and validation data from `x_train_data` and `y_train_data` obtained from above step"
      ]
    },
    {
      "metadata": {
        "id": "kpWx-pgV96Jv",
        "colab_type": "code",
        "outputId": "28e80326-6f99-463b-d61d-ad155a90bd84",
        "colab": {
          "base_uri": "https://localhost:8080/",
          "height": 51
        }
      },
      "cell_type": "code",
      "source": [
        "from sklearn.model_selection import train_test_split\n",
        "x_train_data,x_val, y_train_data ,y_val = train_test_split(x_train, y_train, test_size=0.25, random_state=20)\n",
        "print (len(x_train_data))\n",
        "print (len(x_val))\n"
      ],
      "execution_count": 0,
      "outputs": [
        {
          "output_type": "stream",
          "text": [
            "7666\n",
            "2556\n"
          ],
          "name": "stdout"
        }
      ]
    },
    {
      "metadata": {
        "colab_type": "text",
        "id": "XkL-N1jDsU8m"
      },
      "cell_type": "markdown",
      "source": [
        "### Loading the test data\n",
        "Read the id column from the samples_submission.csv and store it in test_img"
      ]
    },
    {
      "metadata": {
        "colab_type": "code",
        "id": "DnpXdpd9b3E7",
        "colab": {}
      },
      "cell_type": "code",
      "source": [
        "test_img = ds_ss['id']"
      ],
      "execution_count": 0,
      "outputs": []
    },
    {
      "metadata": {
        "id": "DEJqZIMbm0Jo",
        "colab_type": "text"
      },
      "cell_type": "markdown",
      "source": [
        "Run the below code to load the test image files in x_test_feature"
      ]
    },
    {
      "metadata": {
        "colab_type": "code",
        "id": "zf7n4WG-b3Hv",
        "outputId": "40f37502-5c32-4129-b11f-6fb5438b30bb",
        "colab": {
          "base_uri": "https://localhost:8080/",
          "height": 34
        }
      },
      "cell_type": "code",
      "source": [
        "from tqdm import tqdm\n",
        "x_test_feature = []\n",
        "i = 0 # initialisation\n",
        "for f in tqdm(test_img.values): # f for format ,jpg\n",
        "    img = cv2.imread('/content/test/' + f)\n",
        "    img_resize = cv2.resize(img, (128, 128)) \n",
        "    img_resize_224 = cv2.resize(img, (224, 224))\n",
        "    x_test_feature.append(img_resize)"
      ],
      "execution_count": 0,
      "outputs": [
        {
          "output_type": "stream",
          "text": [
            "100%|██████████| 10357/10357 [00:36<00:00, 283.55it/s]\n"
          ],
          "name": "stderr"
        }
      ]
    },
    {
      "metadata": {
        "id": "9My6qSyDnE-_",
        "colab_type": "text"
      },
      "cell_type": "markdown",
      "source": [
        "Normalize the test data and convert it into 4 dimensions"
      ]
    },
    {
      "metadata": {
        "id": "93n-IntMnJGI",
        "colab_type": "code",
        "outputId": "c1d0b984-c442-46de-fa4b-f02cf7bbc98c",
        "colab": {
          "base_uri": "https://localhost:8080/",
          "height": 34
        }
      },
      "cell_type": "code",
      "source": [
        "x_test_feature = np.array(x_test_feature)\n",
        "x_test_feature = x_test_feature.astype('float32')\n",
        "x_test_feature /= 255\n",
        "#x_test_feature = x_test_feature.reshape(len(x_test_feature),128,128,3)\n",
        "\n",
        "x_test_feature.shape"
      ],
      "execution_count": 0,
      "outputs": [
        {
          "output_type": "execute_result",
          "data": {
            "text/plain": [
              "(10357, 128, 128, 3)"
            ]
          },
          "metadata": {
            "tags": []
          },
          "execution_count": 22
        }
      ]
    },
    {
      "metadata": {
        "colab_type": "text",
        "id": "zKezNJVMsocP"
      },
      "cell_type": "markdown",
      "source": [
        "### Build a basic conv neural network with 2 conv layers (kernel sizes - 5 and 3) add layers as mentioned below for classification.\n",
        "\n",
        "1. Add a Dense layer with 256 neurons with `relu` activation\n",
        "\n",
        "2. Add a Dense layer with 120 neurons as final layer (as there are 120 classes in the given dataset) with `softmax` activation for classifiaction. "
      ]
    },
    {
      "metadata": {
        "id": "Ulr_lofBaVBl",
        "colab_type": "code",
        "colab": {}
      },
      "cell_type": "code",
      "source": [
        "import keras.backend as K\n",
        "from keras.models import Sequential\n",
        "from keras.layers import Convolution2D, Dropout, Dense\n",
        "from keras.layers import BatchNormalization\n",
        "from keras.layers import MaxPooling2D, Conv2D\n",
        "from keras.layers import Flatten\n",
        "from keras.optimizers import adam,SGD\n",
        "K.set_image_dim_ordering('th')\n"
      ],
      "execution_count": 0,
      "outputs": []
    },
    {
      "metadata": {
        "id": "D2jxTY2S96J4",
        "colab_type": "code",
        "colab": {}
      },
      "cell_type": "code",
      "source": [
        "\n",
        "\n",
        "model = Sequential()\n",
        "\n",
        "model.add(Conv2D(32,(5, 5), activation='relu',padding='same', input_shape=(128, 128, 3),data_format=\"channels_last\"))\n",
        "#model.add(BatchNormalization())\n",
        "model.add(MaxPooling2D(pool_size=(3, 3),strides=2))\n",
        "\n",
        "model.add(Conv2D(32,(3, 3), activation='relu',padding='same'))\n",
        "#model.add(BatchNormalization())\n",
        "model.add(MaxPooling2D(pool_size=(3, 3)))\n",
        "\n",
        "\n",
        "\n",
        "model.add(Flatten()) \n",
        "\n",
        "# fully connected layer\n",
        "model.add(Dense(256,activation = 'relu'))\n",
        "model.add(Dense(120, activation = 'softmax')) \n",
        "\n",
        "#optimizer = adam(lr=0.001)\n",
        "#earlystop = EarlyStopping(patience=5)\n",
        "\n",
        "#sgd = SGD(lr=0.01, momentum=0.0, decay=0.0, nesterov=False)\n",
        "\n",
        "model.compile(optimizer='adam', loss = 'categorical_crossentropy',metrics = ['accuracy'])\n"
      ],
      "execution_count": 0,
      "outputs": []
    },
    {
      "metadata": {
        "id": "f_BAvCzo96J6",
        "colab_type": "code",
        "colab": {}
      },
      "cell_type": "code",
      "source": [
        "model.summary()"
      ],
      "execution_count": 0,
      "outputs": []
    },
    {
      "metadata": {
        "id": "ui8EXw6_oqpR",
        "colab_type": "text"
      },
      "cell_type": "markdown",
      "source": [
        "### Use batch_size = 128 and epochs = 10 and execute the model"
      ]
    },
    {
      "metadata": {
        "id": "IriIc37NozbK",
        "colab_type": "code",
        "colab": {}
      },
      "cell_type": "code",
      "source": [
        "batch_size = 128\n",
        "\n",
        "history = model.fit(x_train_data,y_train_data,\n",
        "                    epochs=10, \n",
        "                    batch_size=batch_size,\n",
        "                    validation_data=(x_val,y_val),\n",
        "                    verbose = 1,\n",
        "                    initial_epoch=0)"
      ],
      "execution_count": 0,
      "outputs": []
    },
    {
      "metadata": {
        "id": "0PR9j5_Xozmd",
        "colab_type": "code",
        "colab": {}
      },
      "cell_type": "code",
      "source": [
        ""
      ],
      "execution_count": 0,
      "outputs": []
    },
    {
      "metadata": {
        "id": "Z8hWaKmjoz69",
        "colab_type": "text"
      },
      "cell_type": "markdown",
      "source": [
        "#The model accuracy is very poor !!!!"
      ]
    },
    {
      "metadata": {
        "colab_type": "text",
        "id": "agJKkc6xtKiq"
      },
      "cell_type": "markdown",
      "source": [
        "### Use Data Augmentation in the above model to see if the accuracy improves\n"
      ]
    },
    {
      "metadata": {
        "colab_type": "code",
        "id": "31Mn8qnZb3Ru",
        "colab": {}
      },
      "cell_type": "code",
      "source": [
        "from keras.preprocessing.image import ImageDataGenerator\n",
        "\n",
        "IMAGE_SIZE =(128,128)\n",
        "\n",
        "datagen1=ImageDataGenerator(rescale=1./255.,validation_split=0.25,\n",
        "    shear_range=0.2,\n",
        "    width_shift_range=0.2,\n",
        "    height_shift_range=0.2,\n",
        "    horizontal_flip=True,\n",
        "    data_format ='channels_last'\n",
        "  \n",
        "   )"
      ],
      "execution_count": 0,
      "outputs": []
    },
    {
      "metadata": {
        "colab_type": "text",
        "id": "6sssbaTfxlkk"
      },
      "cell_type": "markdown",
      "source": [
        "### Using the above objects, create the image generators with variable names `train_generator` and `val_generator`\n",
        "\n",
        "You need to use train_datagen.flow() and val_datagen.flow()"
      ]
    },
    {
      "metadata": {
        "id": "sehaRgT-96KQ",
        "colab_type": "code",
        "colab": {}
      },
      "cell_type": "code",
      "source": [
        "train_generator1 = datagen1.flow_from_dataframe(\n",
        "dataframe=labelds,\n",
        "directory=\"/content/train/\",\n",
        "x_col=\"id\",\n",
        "y_col=\"breed\",\n",
        "has_ext=True,\n",
        "subset=\"training\",\n",
        "seed=32,\n",
        "shuffle=True,\n",
        "class_mode=\"categorical\",\n",
        "target_size=IMAGE_SIZE)\n",
        "\n",
        "\n",
        "valid_generator1=datagen1.flow_from_dataframe(\n",
        "dataframe=labelds,\n",
        "directory=\"/content/train/\",\n",
        "x_col=\"id\",\n",
        "y_col=\"breed\",\n",
        "subset=\"validation\",\n",
        "has_ext=True,\n",
        "seed=32,\n",
        "shuffle=True,\n",
        "class_mode=\"categorical\",\n",
        "target_size=IMAGE_SIZE)\n",
        "\n",
        "test_datagen1 = ImageDataGenerator(rescale=1./255)\n",
        "\n",
        "test_generator1=test_datagen1.flow_from_dataframe(\n",
        "dataframe=ds_ss,\n",
        "directory=\"/content/test/\",\n",
        "x_col=\"id\",\n",
        "y_col=None,\n",
        "has_ext=True,\n",
        "seed=32,\n",
        "shuffle=True,\n",
        "class_mode=None,\n",
        "target_size=IMAGE_SIZE)"
      ],
      "execution_count": 0,
      "outputs": []
    },
    {
      "metadata": {
        "id": "GQvtinZWfQ3n",
        "colab_type": "code",
        "colab": {}
      },
      "cell_type": "code",
      "source": [
        "train_generator1.image_shape"
      ],
      "execution_count": 0,
      "outputs": []
    },
    {
      "metadata": {
        "colab_type": "text",
        "id": "TVFQJZw3x4-C"
      },
      "cell_type": "markdown",
      "source": [
        "### Fit the model using fit_generator() using `train_generator` and `val_generator` from the above step with 10 epochs"
      ]
    },
    {
      "metadata": {
        "colab_type": "code",
        "id": "J1K2MqHbuPUa",
        "colab": {}
      },
      "cell_type": "code",
      "source": [
        "STEP_SIZE_TRAIN=train_generator1.n//train_generator1.batch_size\n",
        "STEP_SIZE_VALID=valid_generator1.n//valid_generator1.batch_size\n",
        "STEP_SIZE_TEST=test_generator1.n//test_generator1.batch_size\n",
        "\n",
        "history = model.fit_generator(generator=train_generator1,\n",
        "                    steps_per_epoch=STEP_SIZE_TRAIN,\n",
        "                    validation_data=valid_generator1,\n",
        "                    validation_steps=STEP_SIZE_VALID,\n",
        "                    epochs=10)"
      ],
      "execution_count": 0,
      "outputs": []
    },
    {
      "metadata": {
        "id": "Q2zmLztqo5DY",
        "colab_type": "text"
      },
      "cell_type": "markdown",
      "source": [
        "# Model accuracy is still poor!!!"
      ]
    },
    {
      "metadata": {
        "id": "rSTATrhsAo7L",
        "colab_type": "text"
      },
      "cell_type": "markdown",
      "source": [
        "### Lets use Transfer Learning\n",
        "\n",
        "Download the vgg wieght file from here : https://github.com/MinerKasch/applied_deep_learning/blob/master/vgg16_weights_tf_dim_ordering_tf_kernels_notop.h5"
      ]
    },
    {
      "metadata": {
        "id": "zy5JdbW6pIvD",
        "colab_type": "text"
      },
      "cell_type": "markdown",
      "source": [
        "Use the below code to load VGG16 weights trained on ImageNet"
      ]
    },
    {
      "metadata": {
        "id": "yrqs0zg7ApNw",
        "colab_type": "code",
        "outputId": "51edb55c-9886-483a-ed3f-5819c5a92d6f",
        "colab": {
          "base_uri": "https://localhost:8080/",
          "height": 88
        }
      },
      "cell_type": "code",
      "source": [
        "from keras.applications.vgg16 import VGG16, preprocess_input\n",
        "\n",
        "\n",
        "#Instantiate the model with the pre-trained weights (no top)\n",
        "#vgg_model= VGG16(weights=(project_path+'/vgg16_weights_tf_dim_ordering_tf_kernels_notop.h5'),include_top=False, pooling='avg',input_shape=(224,224,3))\n",
        "\n",
        "vgg_model = VGG16(weights=\"imagenet\", include_top=False,input_shape=(224,224,3))"
      ],
      "execution_count": 0,
      "outputs": [
        {
          "output_type": "stream",
          "text": [
            "WARNING:tensorflow:From /usr/local/lib/python3.6/dist-packages/tensorflow/python/framework/op_def_library.py:263: colocate_with (from tensorflow.python.framework.ops) is deprecated and will be removed in a future version.\n",
            "Instructions for updating:\n",
            "Colocations handled automatically by placer.\n"
          ],
          "name": "stdout"
        }
      ]
    },
    {
      "metadata": {
        "id": "EItOlRBGpV_A",
        "colab_type": "text"
      },
      "cell_type": "markdown",
      "source": [
        "Print the summary of the base_model"
      ]
    },
    {
      "metadata": {
        "id": "lQsEBgnlpHjH",
        "colab_type": "code",
        "outputId": "44e733f8-e6c0-49e9-be50-e94fd8540942",
        "colab": {
          "base_uri": "https://localhost:8080/",
          "height": 782
        }
      },
      "cell_type": "code",
      "source": [
        "vgg_model.summary()\n"
      ],
      "execution_count": 0,
      "outputs": [
        {
          "output_type": "stream",
          "text": [
            "_________________________________________________________________\n",
            "Layer (type)                 Output Shape              Param #   \n",
            "=================================================================\n",
            "input_1 (InputLayer)         (None, 224, 224, 3)       0         \n",
            "_________________________________________________________________\n",
            "block1_conv1 (Conv2D)        (None, 224, 224, 64)      1792      \n",
            "_________________________________________________________________\n",
            "block1_conv2 (Conv2D)        (None, 224, 224, 64)      36928     \n",
            "_________________________________________________________________\n",
            "block1_pool (MaxPooling2D)   (None, 112, 112, 64)      0         \n",
            "_________________________________________________________________\n",
            "block2_conv1 (Conv2D)        (None, 112, 112, 128)     73856     \n",
            "_________________________________________________________________\n",
            "block2_conv2 (Conv2D)        (None, 112, 112, 128)     147584    \n",
            "_________________________________________________________________\n",
            "block2_pool (MaxPooling2D)   (None, 56, 56, 128)       0         \n",
            "_________________________________________________________________\n",
            "block3_conv1 (Conv2D)        (None, 56, 56, 256)       295168    \n",
            "_________________________________________________________________\n",
            "block3_conv2 (Conv2D)        (None, 56, 56, 256)       590080    \n",
            "_________________________________________________________________\n",
            "block3_conv3 (Conv2D)        (None, 56, 56, 256)       590080    \n",
            "_________________________________________________________________\n",
            "block3_pool (MaxPooling2D)   (None, 28, 28, 256)       0         \n",
            "_________________________________________________________________\n",
            "block4_conv1 (Conv2D)        (None, 28, 28, 512)       1180160   \n",
            "_________________________________________________________________\n",
            "block4_conv2 (Conv2D)        (None, 28, 28, 512)       2359808   \n",
            "_________________________________________________________________\n",
            "block4_conv3 (Conv2D)        (None, 28, 28, 512)       2359808   \n",
            "_________________________________________________________________\n",
            "block4_pool (MaxPooling2D)   (None, 14, 14, 512)       0         \n",
            "_________________________________________________________________\n",
            "block5_conv1 (Conv2D)        (None, 14, 14, 512)       2359808   \n",
            "_________________________________________________________________\n",
            "block5_conv2 (Conv2D)        (None, 14, 14, 512)       2359808   \n",
            "_________________________________________________________________\n",
            "block5_conv3 (Conv2D)        (None, 14, 14, 512)       2359808   \n",
            "_________________________________________________________________\n",
            "block5_pool (MaxPooling2D)   (None, 7, 7, 512)         0         \n",
            "=================================================================\n",
            "Total params: 14,714,688\n",
            "Trainable params: 14,714,688\n",
            "Non-trainable params: 0\n",
            "_________________________________________________________________\n"
          ],
          "name": "stdout"
        }
      ]
    },
    {
      "metadata": {
        "id": "fHpeOyW0qauW",
        "colab_type": "text"
      },
      "cell_type": "markdown",
      "source": [
        "### Add the following classification layers to the imported VGG Model <br>\n",
        "1. Flatten Layer\n",
        "2. Dense layer with 1024 neurons with activation as Relu\n",
        "3. Dense layer with 256 neurons with activation as Relu\n",
        "4. Dense layer with 120 neurons with activation as Softmax"
      ]
    },
    {
      "metadata": {
        "id": "0BpT4MLkqoaO",
        "colab_type": "code",
        "outputId": "7fbd4120-100e-4cf5-c580-1eaf442e7217",
        "colab": {
          "base_uri": "https://localhost:8080/",
          "height": 88
        }
      },
      "cell_type": "code",
      "source": [
        "from keras.models import Model, Input\n",
        "from keras import layers \n",
        "import datetime\n",
        "from keras.callbacks import EarlyStopping, ReduceLROnPlateau,ModelCheckpoint\n",
        "from keras.layers import GlobalAveragePooling2D,Activation,Flatten,Dense,BatchNormalization,Dropout\n",
        "from keras.optimizers import adam,SGD\n",
        "\n",
        "for layer in vgg_model.layers[:5]:\n",
        "    layer.trainable = False\n",
        "\n",
        "    \n",
        "x = vgg_model.output\n",
        "x = Flatten()(x)\n",
        "x = BatchNormalization()(x)\n",
        "#x = GlobalAveragePooling2D()(x)\n",
        "# let's add a fully-connected layer\n",
        "x = Dropout(0.35)(x)\n",
        "x = Dense(1024, activation='relu')(x)\n",
        "x = Dense(256, activation='relu')(x)\n",
        "x = Dense(256, activation='relu')(x)\n",
        "x = Dropout(0.15)(x)\n",
        "predictions = Dense(120, activation='softmax')(x)\n",
        "\n",
        "# this is the model we will train\n",
        "\n",
        "model_t = Model(inputs=vgg_model.input, outputs=predictions)\n",
        "\n"
      ],
      "execution_count": 0,
      "outputs": [
        {
          "output_type": "stream",
          "text": [
            "WARNING:tensorflow:From /usr/local/lib/python3.6/dist-packages/keras/backend/tensorflow_backend.py:3445: calling dropout (from tensorflow.python.ops.nn_ops) with keep_prob is deprecated and will be removed in a future version.\n",
            "Instructions for updating:\n",
            "Please use `rate` instead of `keep_prob`. Rate should be set to `rate = 1 - keep_prob`.\n"
          ],
          "name": "stdout"
        }
      ]
    },
    {
      "metadata": {
        "id": "LeQem0pHITIj",
        "colab_type": "text"
      },
      "cell_type": "markdown",
      "source": [
        "### Make all the layers in the base_model (VGG16) to be non-trainable"
      ]
    },
    {
      "metadata": {
        "id": "C7w9CSPvIRnX",
        "colab_type": "code",
        "colab": {}
      },
      "cell_type": "code",
      "source": [
        "import datetime\n",
        "from keras.callbacks import ModelCheckpoint, EarlyStopping\n",
        "for layer in vgg_model.layers:\n",
        "    layer.trainable = False\n",
        "\n",
        "checkpoint = ModelCheckpoint(\"vgg16_best.h5\", monitor='val_acc', verbose=1, save_best_only=True, mode='auto')\n",
        "early_stopping = EarlyStopping(monitor='val_acc', min_delta=0, patience=5, verbose=1, mode='auto')\n",
        "\n",
        "\n",
        "learning_rate_reduction = ReduceLROnPlateau(monitor='val_acc', \n",
        "                                            patience=2, \n",
        "                                            verbose=1, \n",
        "                                            factor=0.25, \n",
        "                                            min_lr=0.00001)\n",
        "\n",
        "callbacks = [early_stopping, learning_rate_reduction,checkpoint]\n",
        "\n",
        "model_t.compile(optimizer='adam',\n",
        "              loss='categorical_crossentropy',\n",
        "              metrics=[\"accuracy\"]\n",
        "              )"
      ],
      "execution_count": 0,
      "outputs": []
    },
    {
      "metadata": {
        "id": "kj-BwqgfIkdv",
        "colab_type": "text"
      },
      "cell_type": "markdown",
      "source": [
        "### Fit and compile the model with batch_size = 128 and epochs = 10 and execute the model"
      ]
    },
    {
      "metadata": {
        "id": "YD5fAgVQIpKZ",
        "colab_type": "text"
      },
      "cell_type": "markdown",
      "source": [
        "Try to get training and validation accuracy to be more than 90%"
      ]
    },
    {
      "metadata": {
        "id": "josC7apN5RZv",
        "colab_type": "code",
        "outputId": "adf022a6-385d-40a4-e851-ff9160f0ef69",
        "colab": {
          "base_uri": "https://localhost:8080/",
          "height": 68
        }
      },
      "cell_type": "code",
      "source": [
        "# Need to regenerate the images with 224,224 \n",
        "\n",
        "from keras.preprocessing.image import ImageDataGenerator\n",
        "\n",
        "def X_preprocess(img):\n",
        "    input_img = preprocess_input(np.expand_dims(img, axis=0))\n",
        "    return input_img[0]\n",
        "\n",
        "\n",
        "IMAGE_SIZE =(224,224)\n",
        "\n",
        "datagen=ImageDataGenerator(rescale=1./255.,validation_split=0.25,\n",
        "     rotation_range=15, shear_range=0.1, channel_shift_range=20,width_shift_range=0.1,  height_shift_range=0.1, zoom_range=0.1, horizontal_flip=True)\n",
        "\n",
        "train_generator = datagen.flow_from_dataframe(\n",
        "dataframe=labelds,\n",
        "directory=\"./train/\",\n",
        "x_col=\"id\",\n",
        "y_col=\"breed_cat\",\n",
        "subset=\"training\",\n",
        "batch_size=128,\n",
        "seed=32,\n",
        "has_ext=True,\n",
        "shuffle=False,\n",
        "class_mode=\"categorical\",\n",
        "target_size=IMAGE_SIZE,preprocessing_function=X_preprocess)\n",
        "\n",
        "\n",
        "valid_generator=datagen.flow_from_dataframe(\n",
        "dataframe=labelds,\n",
        "directory=\"./train/\",\n",
        "x_col=\"id\",\n",
        "y_col=\"breed_cat\",\n",
        "has_ext=True,\n",
        "subset=\"validation\",\n",
        "batch_size=128,\n",
        "seed=32,\n",
        "shuffle=False,\n",
        "class_mode=\"categorical\",\n",
        "target_size=IMAGE_SIZE,preprocessing_function=X_preprocess)\n",
        "\n",
        "test_datagen = ImageDataGenerator(rescale=1./255.)\n",
        "\n",
        "test_generator=test_datagen.flow_from_dataframe(\n",
        "dataframe=ds_ss,\n",
        "directory=\"./test/\",\n",
        "x_col=\"id\",\n",
        "y_col=None,\n",
        "batch_size=128,\n",
        "seed=32,\n",
        "shuffle=False,\n",
        "class_mode=None,\n",
        "target_size=IMAGE_SIZE,preprocessing_function=X_preprocess)"
      ],
      "execution_count": 0,
      "outputs": [
        {
          "output_type": "stream",
          "text": [
            "Found 7667 images belonging to 120 classes.\n",
            "Found 2555 images belonging to 120 classes.\n",
            "Found 10357 images.\n"
          ],
          "name": "stdout"
        }
      ]
    },
    {
      "metadata": {
        "id": "SZk2SWvjIoRP",
        "colab_type": "code",
        "outputId": "d82e35b3-808f-4689-d482-789b5b8a7f51",
        "colab": {
          "base_uri": "https://localhost:8080/",
          "height": 408
        }
      },
      "cell_type": "code",
      "source": [
        "STEP_SIZE_TRAIN=train_generator.n//train_generator.batch_size\n",
        "STEP_SIZE_VALID=valid_generator.n//valid_generator.batch_size\n",
        "STEP_SIZE_TEST=test_generator.n//test_generator.batch_size\n",
        "\n",
        "history = model_t.fit_generator(generator=train_generator,\n",
        "                    steps_per_epoch=STEP_SIZE_TRAIN,\n",
        "                    validation_data=valid_generator,\n",
        "                    validation_steps=STEP_SIZE_VALID,\n",
        "                    epochs=10,\n",
        "                    callbacks = callbacks )"
      ],
      "execution_count": 0,
      "outputs": [
        {
          "output_type": "stream",
          "text": [
            "Epoch 1/10\n",
            "59/59 [==============================] - 141s 2s/step - loss: 0.6464 - acc: 0.8143 - val_loss: 3.9882 - val_acc: 0.2377\n",
            "Epoch 2/10\n",
            "59/59 [==============================] - 124s 2s/step - loss: 0.6391 - acc: 0.8188 - val_loss: 4.0916 - val_acc: 0.2406\n",
            "Epoch 3/10\n",
            "59/59 [==============================] - 125s 2s/step - loss: 0.6204 - acc: 0.8193 - val_loss: 4.0242 - val_acc: 0.2418\n",
            "Epoch 4/10\n",
            "59/59 [==============================] - 124s 2s/step - loss: 0.6083 - acc: 0.8196 - val_loss: 3.9971 - val_acc: 0.2497\n",
            "Epoch 5/10\n",
            "59/59 [==============================] - 122s 2s/step - loss: 0.6018 - acc: 0.8273 - val_loss: 4.0713 - val_acc: 0.2369\n",
            "Epoch 6/10\n",
            "59/59 [==============================] - 126s 2s/step - loss: 0.5787 - acc: 0.8348 - val_loss: 4.0774 - val_acc: 0.2452\n",
            "\n",
            "Epoch 00006: ReduceLROnPlateau reducing learning rate to 1.5625000742147677e-05.\n",
            "Epoch 7/10\n",
            "59/59 [==============================] - 123s 2s/step - loss: 0.5719 - acc: 0.8275 - val_loss: 4.1062 - val_acc: 0.2423\n",
            "Epoch 8/10\n",
            "59/59 [==============================] - 125s 2s/step - loss: 0.5593 - acc: 0.8358 - val_loss: 4.1417 - val_acc: 0.2398\n",
            "\n",
            "Epoch 00008: ReduceLROnPlateau reducing learning rate to 1e-05.\n",
            "Epoch 9/10\n",
            "59/59 [==============================] - 124s 2s/step - loss: 0.5456 - acc: 0.8389 - val_loss: 4.2039 - val_acc: 0.2394\n",
            "Epoch 00009: early stopping\n"
          ],
          "name": "stdout"
        }
      ]
    },
    {
      "metadata": {
        "id": "BiDyEdD4eZnH",
        "colab_type": "code",
        "colab": {}
      },
      "cell_type": "code",
      "source": [
        "# Validation accuracy is still low. Lets try to use the VGG16 bottleneck feature extraction"
      ],
      "execution_count": 0,
      "outputs": []
    },
    {
      "metadata": {
        "id": "I4GIEKDpeTC4",
        "colab_type": "code",
        "outputId": "d29784dc-5419-4233-d1e7-3243527a779b",
        "colab": {
          "base_uri": "https://localhost:8080/",
          "height": 68
        }
      },
      "cell_type": "code",
      "source": [
        "from tqdm import tqdm\n",
        "import numpy as np\n",
        "import cv2\n",
        "from keras.applications.vgg16 import VGG16, preprocess_input\n",
        "\n",
        "INPUT_SIZE = 224\n",
        "POOLING = 'avg'\n",
        "x_train = np.zeros((len(labelds), INPUT_SIZE, INPUT_SIZE, 3), dtype='float32')\n",
        "for i, img_id in tqdm(enumerate(labelds['id'])):\n",
        "    img = cv2.imread('./train/'+img_id)\n",
        "    img = cv2.resize(img, (224, 224))\n",
        "    x = preprocess_input(np.expand_dims(img.copy(), axis=0))\n",
        "    x_train[i] = x\n",
        "print('Train Images shape: {} size: {:,}'.format(x_train.shape, x_train.size))"
      ],
      "execution_count": 11,
      "outputs": [
        {
          "output_type": "stream",
          "text": [
            "Using TensorFlow backend.\n",
            "10222it [00:39, 260.25it/s]"
          ],
          "name": "stderr"
        },
        {
          "output_type": "stream",
          "text": [
            "Train Images shape: (10222, 224, 224, 3) size: 1,538,697,216\n"
          ],
          "name": "stdout"
        },
        {
          "output_type": "stream",
          "text": [
            "\n"
          ],
          "name": "stderr"
        }
      ]
    },
    {
      "metadata": {
        "id": "JmVnyv6IY5vS",
        "colab_type": "code",
        "colab": {}
      },
      "cell_type": "code",
      "source": [
        "rnd = np.random.random(len(labelds))\n",
        "train_idx = rnd < 0.8\n",
        "valid_idx = rnd >= 0.8\n",
        "\n",
        "Xtr = x_train[train_idx]\n",
        "Xv = x_train[valid_idx]\n",
        "print((Xtr.shape, Xv.shape, ytr.shape, yv.shape))\n",
        "vgg_bottleneck = VGG16(weights='imagenet', include_top=False, pooling=POOLING)\n",
        "train_vgg_bf = vgg_bottleneck.predict(Xtr, batch_size=32, verbose=1)\n",
        "valid_vgg_bf = vgg_bottleneck.predict(Xv, batch_size=32, verbose=1)\n",
        "print('VGG train bottleneck features shape: {} size: {:,}'.format(train_vgg_bf.shape, train_vgg_bf.size))\n",
        "print('VGG valid bottleneck features shape: {} size: {:,}'.format(valid_vgg_bf.shape, valid_vgg_bf.size))"
      ],
      "execution_count": 0,
      "outputs": []
    },
    {
      "metadata": {
        "id": "1N9k48ngit_h",
        "colab_type": "code",
        "colab": {}
      },
      "cell_type": "code",
      "source": [
        "from sklearn.linear_model import LogisticRegression\n",
        "logreg = LogisticRegression(multi_class='multinomial', solver='lbfgs', random_state=SEED)\n",
        "logreg.fit(train_vgg_bf, (ytr * range(NUM_CLASSES)).sum(axis=1))\n",
        "valid_probs = logreg.predict_proba(valid_vgg_bf)\n",
        "valid_preds = logreg.predict(valid_vgg_bf)"
      ],
      "execution_count": 0,
      "outputs": []
    },
    {
      "metadata": {
        "id": "04q1VNFPirkF",
        "colab_type": "code",
        "colab": {}
      },
      "cell_type": "code",
      "source": [
        "print('Validation VGG LogLoss {}'.format(log_loss(yv, valid_probs)))\n",
        "print('Validation VGG Accuracy {}'.format(accuracy_score((yv * range(NUM_CLASSES)).sum(axis=1), valid_preds)))"
      ],
      "execution_count": 0,
      "outputs": []
    },
    {
      "metadata": {
        "id": "XPZcqhFSouLa",
        "colab_type": "code",
        "colab": {}
      },
      "cell_type": "code",
      "source": [
        "# Now we have accuracy of 90%"
      ],
      "execution_count": 0,
      "outputs": []
    }
  ]
}