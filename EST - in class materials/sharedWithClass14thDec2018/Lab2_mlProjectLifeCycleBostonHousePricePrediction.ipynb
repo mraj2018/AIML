{
 "cells": [
  {
   "cell_type": "markdown",
   "metadata": {},
   "source": [
    "# How do you work through a predictive modeling machine learning problem end-to-end?"
   ]
  },
  {
   "cell_type": "markdown",
   "metadata": {},
   "source": [
    "In this case study, we will work through a regression predictive modeling problem in Python including each step of the machine learning process. After completing this project, we will know:\n",
    "\n",
    "1. How to work through a regression predictive modeling problem end-to-end\n",
    "2. How to use data transforms to improve model performance\n",
    "3. How to use algorithm tuning to improve model performance\n",
    "4. How to use ensemble methods and tuning of ensemble methods to improve model performance"
   ]
  },
  {
   "cell_type": "markdown",
   "metadata": {},
   "source": [
    "## Machine Learning Project Template\n",
    "#### 1. Prepare Problem\n",
    "###### 1.1. Load libraries\n",
    "###### 1.2. Load dataset\n",
    "\n",
    "##### 2. Summarize Data\n",
    "###### 2.1. Descriptive statistics\n",
    "###### 2.2. Data visualizations\n",
    "\n",
    "##### 3. Prepare Data\n",
    "###### 3.1. Data Cleaning\n",
    "###### 3.2. Feature Selection\n",
    "###### 3.3. Data Transforms\n",
    "\n",
    "##### 4. Evaluate Algorithms\n",
    "###### 4.1. Split-out validation dataset\n",
    "###### 4.2. Test options and test metric\n",
    "###### 4.3. Spot Check Algorithms\n",
    "###### 4.4. Compare Algorithms\n",
    "\n",
    "##### 5. Improve Accuracy\n",
    "###### 5.1. Algorithm Tuning\n",
    "###### 5.2. Ensembles\n",
    "\n",
    "##### 6. Finalize Model\n",
    "###### 6.1. Predictions on validation dataset\n",
    "###### 6.2. Create standalone model on entire training dataset\n",
    "###### 6.3. Save model for later use"
   ]
  },
  {
   "cell_type": "markdown",
   "metadata": {},
   "source": [
    "# Problem Definition"
   ]
  },
  {
   "cell_type": "markdown",
   "metadata": {},
   "source": [
    "For this case study, we will investigate the Boston House Price dataset. \n",
    "\n",
    "Each record in the database describes a Boston suburb or town. \n",
    "\n",
    "The data was drawn from the Boston Standard Metropolitan Statistical Area (SMSA) in 1970. \n",
    "\n",
    "The attributes are defined as follows (taken from the UCI Machine Learning Repository1):\n",
    "\n",
    "1. CRIM: per capita crime rate by town\n",
    "2. ZN: proportion of residential land zoned for lots over 25,000 sq.ft.\n",
    "3. INDUS: proportion of non-retail business acres per town\n",
    "4. CHAS: Charles River dummy variable (= 1 if tract bounds river; 0 otherwise)\n",
    "5. NOX: nitric oxides concentration (parts per 10 million)\n",
    "6. RM: average number of rooms per dwelling\n",
    "7. AGE: proportion of owner-occupied units built prior to 1940\n",
    "8. DIS: weighted distances to Boston employment centers\n",
    "9. RAD: index of accessibility to radial highways\n",
    "10. TAX: full-value property-tax rate per 10,000 US Dollars\n",
    "11. PTRATIO: pupil-teacher ratio by town\n",
    "12. B: 1000(Bk - 0:63)^2 where Bk is the proportion of blacks by town\n",
    "13. LSTAT: % lower status of the population\n",
    "14. MEDV: Median value of owner-occupied homes in 1000s of US Dollars"
   ]
  },
  {
   "cell_type": "markdown",
   "metadata": {},
   "source": [
    "We can see that the input attributes have a mixture of units."
   ]
  },
  {
   "cell_type": "code",
   "execution_count": 41,
   "metadata": {},
   "outputs": [],
   "source": [
    "import warnings\n",
    "warnings.filterwarnings('ignore')"
   ]
  },
  {
   "cell_type": "code",
   "execution_count": 42,
   "metadata": {},
   "outputs": [],
   "source": [
    "# Load libraries\n",
    "import numpy\n",
    "from numpy import arange\n",
    "from matplotlib import pyplot\n",
    "import pandas as pd\n",
    "from pandas import read_csv\n",
    "from pandas import set_option\n",
    "from pandas.plotting import scatter_matrix\n",
    "import seaborn as sn\n",
    "from sklearn.preprocessing import StandardScaler\n",
    "from sklearn.model_selection import train_test_split\n",
    "from sklearn.model_selection import KFold\n",
    "from sklearn.model_selection import cross_val_score\n",
    "from sklearn.model_selection import GridSearchCV\n",
    "from sklearn.linear_model import LinearRegression\n",
    "from sklearn.tree import DecisionTreeRegressor\n",
    "from sklearn.neighbors import KNeighborsRegressor\n",
    "from sklearn.pipeline import Pipeline\n",
    "from sklearn.ensemble import RandomForestRegressor\n",
    "from sklearn.ensemble import AdaBoostRegressor\n",
    "from sklearn.metrics import mean_squared_error\n",
    "%matplotlib inline"
   ]
  },
  {
   "cell_type": "code",
   "execution_count": 43,
   "metadata": {},
   "outputs": [],
   "source": [
    "# Load dataset\n",
    "names = ['CRIM', 'ZN', 'INDUS', 'CHAS', 'NOX', 'RM', 'AGE', 'DIS', 'RAD', 'TAX', 'PTRATIO', 'B', 'LSTAT', 'MEDV']\n",
    "data = read_csv('housing.csv', delim_whitespace=True, names=names)"
   ]
  },
  {
   "cell_type": "markdown",
   "metadata": {},
   "source": [
    "We can see that we are specifying the short names for each attribute so that we can reference them clearly later. \n",
    "\n",
    "We can also see that attributes are delimited by whitespace rather than commas in this file and we indicate this to read_csv() function via the delim whitespace argument. \n",
    "\n",
    "We now have our data loaded."
   ]
  },
  {
   "cell_type": "markdown",
   "metadata": {},
   "source": [
    "# Analyze Data"
   ]
  },
  {
   "cell_type": "markdown",
   "metadata": {},
   "source": [
    "We can now take a closer look at our loaded data"
   ]
  },
  {
   "cell_type": "markdown",
   "metadata": {},
   "source": [
    "## Descriptive Statistics"
   ]
  },
  {
   "cell_type": "code",
   "execution_count": 44,
   "metadata": {},
   "outputs": [
    {
     "name": "stdout",
     "output_type": "stream",
     "text": [
      "<class 'pandas.core.frame.DataFrame'>\n",
      "RangeIndex: 506 entries, 0 to 505\n",
      "Data columns (total 14 columns):\n",
      "CRIM       506 non-null float64\n",
      "ZN         506 non-null float64\n",
      "INDUS      506 non-null float64\n",
      "CHAS       506 non-null int64\n",
      "NOX        506 non-null float64\n",
      "RM         506 non-null float64\n",
      "AGE        506 non-null float64\n",
      "DIS        506 non-null float64\n",
      "RAD        506 non-null int64\n",
      "TAX        506 non-null float64\n",
      "PTRATIO    506 non-null float64\n",
      "B          506 non-null float64\n",
      "LSTAT      506 non-null float64\n",
      "MEDV       506 non-null float64\n",
      "dtypes: float64(12), int64(2)\n",
      "memory usage: 55.4 KB\n"
     ]
    }
   ],
   "source": [
    "data.info()"
   ]
  },
  {
   "cell_type": "markdown",
   "metadata": {},
   "source": [
    "We can see that all of the attributes are numeric, mostly real values (float) and some have been interpreted as integers (int)."
   ]
  },
  {
   "cell_type": "markdown",
   "metadata": {},
   "source": [
    "Let's now take a peek at the first 5 rows of the data"
   ]
  },
  {
   "cell_type": "code",
   "execution_count": 45,
   "metadata": {},
   "outputs": [
    {
     "name": "stdout",
     "output_type": "stream",
     "text": [
      "      CRIM    ZN  INDUS  CHAS    NOX     RM   AGE     DIS  RAD    TAX  \\\n",
      "0  0.00632  18.0   2.31     0  0.538  6.575  65.2  4.0900    1  296.0   \n",
      "1  0.02731   0.0   7.07     0  0.469  6.421  78.9  4.9671    2  242.0   \n",
      "2  0.02729   0.0   7.07     0  0.469  7.185  61.1  4.9671    2  242.0   \n",
      "3  0.03237   0.0   2.18     0  0.458  6.998  45.8  6.0622    3  222.0   \n",
      "4  0.06905   0.0   2.18     0  0.458  7.147  54.2  6.0622    3  222.0   \n",
      "\n",
      "   PTRATIO       B  LSTAT  MEDV  \n",
      "0     15.3  396.90   4.98  24.0  \n",
      "1     17.8  396.90   9.14  21.6  \n",
      "2     17.8  392.83   4.03  34.7  \n",
      "3     18.7  394.63   2.94  33.4  \n",
      "4     18.7  396.90   5.33  36.2  \n"
     ]
    }
   ],
   "source": [
    "# head\n",
    "print(data.head(5))"
   ]
  },
  {
   "cell_type": "markdown",
   "metadata": {},
   "source": [
    "We can confirm that the scales for the attributes are all over the place because of the differing units. We may benefit from some transforms later on."
   ]
  },
  {
   "cell_type": "markdown",
   "metadata": {},
   "source": [
    "Let's summarize the distribution of each attribute."
   ]
  },
  {
   "cell_type": "code",
   "execution_count": 46,
   "metadata": {},
   "outputs": [
    {
     "data": {
      "text/html": [
       "<div>\n",
       "<style scoped>\n",
       "    .dataframe tbody tr th:only-of-type {\n",
       "        vertical-align: middle;\n",
       "    }\n",
       "\n",
       "    .dataframe tbody tr th {\n",
       "        vertical-align: top;\n",
       "    }\n",
       "\n",
       "    .dataframe thead th {\n",
       "        text-align: right;\n",
       "    }\n",
       "</style>\n",
       "<table border=\"1\" class=\"dataframe\">\n",
       "  <thead>\n",
       "    <tr style=\"text-align: right;\">\n",
       "      <th></th>\n",
       "      <th>CRIM</th>\n",
       "      <th>ZN</th>\n",
       "      <th>INDUS</th>\n",
       "      <th>CHAS</th>\n",
       "      <th>NOX</th>\n",
       "      <th>RM</th>\n",
       "      <th>AGE</th>\n",
       "      <th>DIS</th>\n",
       "      <th>RAD</th>\n",
       "      <th>TAX</th>\n",
       "      <th>PTRATIO</th>\n",
       "      <th>B</th>\n",
       "      <th>LSTAT</th>\n",
       "      <th>MEDV</th>\n",
       "    </tr>\n",
       "  </thead>\n",
       "  <tbody>\n",
       "    <tr>\n",
       "      <th>count</th>\n",
       "      <td>506.000000</td>\n",
       "      <td>506.000000</td>\n",
       "      <td>506.000000</td>\n",
       "      <td>506.000000</td>\n",
       "      <td>506.000000</td>\n",
       "      <td>506.000000</td>\n",
       "      <td>506.000000</td>\n",
       "      <td>506.000000</td>\n",
       "      <td>506.000000</td>\n",
       "      <td>506.000000</td>\n",
       "      <td>506.000000</td>\n",
       "      <td>506.000000</td>\n",
       "      <td>506.000000</td>\n",
       "      <td>506.000000</td>\n",
       "    </tr>\n",
       "    <tr>\n",
       "      <th>mean</th>\n",
       "      <td>3.613524</td>\n",
       "      <td>11.363636</td>\n",
       "      <td>11.136779</td>\n",
       "      <td>0.069170</td>\n",
       "      <td>0.554695</td>\n",
       "      <td>6.284634</td>\n",
       "      <td>68.574901</td>\n",
       "      <td>3.795043</td>\n",
       "      <td>9.549407</td>\n",
       "      <td>408.237154</td>\n",
       "      <td>18.455534</td>\n",
       "      <td>356.674032</td>\n",
       "      <td>12.653063</td>\n",
       "      <td>22.532806</td>\n",
       "    </tr>\n",
       "    <tr>\n",
       "      <th>std</th>\n",
       "      <td>8.601545</td>\n",
       "      <td>23.322453</td>\n",
       "      <td>6.860353</td>\n",
       "      <td>0.253994</td>\n",
       "      <td>0.115878</td>\n",
       "      <td>0.702617</td>\n",
       "      <td>28.148861</td>\n",
       "      <td>2.105710</td>\n",
       "      <td>8.707259</td>\n",
       "      <td>168.537116</td>\n",
       "      <td>2.164946</td>\n",
       "      <td>91.294864</td>\n",
       "      <td>7.141062</td>\n",
       "      <td>9.197104</td>\n",
       "    </tr>\n",
       "    <tr>\n",
       "      <th>min</th>\n",
       "      <td>0.006320</td>\n",
       "      <td>0.000000</td>\n",
       "      <td>0.460000</td>\n",
       "      <td>0.000000</td>\n",
       "      <td>0.385000</td>\n",
       "      <td>3.561000</td>\n",
       "      <td>2.900000</td>\n",
       "      <td>1.129600</td>\n",
       "      <td>1.000000</td>\n",
       "      <td>187.000000</td>\n",
       "      <td>12.600000</td>\n",
       "      <td>0.320000</td>\n",
       "      <td>1.730000</td>\n",
       "      <td>5.000000</td>\n",
       "    </tr>\n",
       "    <tr>\n",
       "      <th>25%</th>\n",
       "      <td>0.082045</td>\n",
       "      <td>0.000000</td>\n",
       "      <td>5.190000</td>\n",
       "      <td>0.000000</td>\n",
       "      <td>0.449000</td>\n",
       "      <td>5.885500</td>\n",
       "      <td>45.025000</td>\n",
       "      <td>2.100175</td>\n",
       "      <td>4.000000</td>\n",
       "      <td>279.000000</td>\n",
       "      <td>17.400000</td>\n",
       "      <td>375.377500</td>\n",
       "      <td>6.950000</td>\n",
       "      <td>17.025000</td>\n",
       "    </tr>\n",
       "    <tr>\n",
       "      <th>50%</th>\n",
       "      <td>0.256510</td>\n",
       "      <td>0.000000</td>\n",
       "      <td>9.690000</td>\n",
       "      <td>0.000000</td>\n",
       "      <td>0.538000</td>\n",
       "      <td>6.208500</td>\n",
       "      <td>77.500000</td>\n",
       "      <td>3.207450</td>\n",
       "      <td>5.000000</td>\n",
       "      <td>330.000000</td>\n",
       "      <td>19.050000</td>\n",
       "      <td>391.440000</td>\n",
       "      <td>11.360000</td>\n",
       "      <td>21.200000</td>\n",
       "    </tr>\n",
       "    <tr>\n",
       "      <th>75%</th>\n",
       "      <td>3.677082</td>\n",
       "      <td>12.500000</td>\n",
       "      <td>18.100000</td>\n",
       "      <td>0.000000</td>\n",
       "      <td>0.624000</td>\n",
       "      <td>6.623500</td>\n",
       "      <td>94.075000</td>\n",
       "      <td>5.188425</td>\n",
       "      <td>24.000000</td>\n",
       "      <td>666.000000</td>\n",
       "      <td>20.200000</td>\n",
       "      <td>396.225000</td>\n",
       "      <td>16.955000</td>\n",
       "      <td>25.000000</td>\n",
       "    </tr>\n",
       "    <tr>\n",
       "      <th>max</th>\n",
       "      <td>88.976200</td>\n",
       "      <td>100.000000</td>\n",
       "      <td>27.740000</td>\n",
       "      <td>1.000000</td>\n",
       "      <td>0.871000</td>\n",
       "      <td>8.780000</td>\n",
       "      <td>100.000000</td>\n",
       "      <td>12.126500</td>\n",
       "      <td>24.000000</td>\n",
       "      <td>711.000000</td>\n",
       "      <td>22.000000</td>\n",
       "      <td>396.900000</td>\n",
       "      <td>37.970000</td>\n",
       "      <td>50.000000</td>\n",
       "    </tr>\n",
       "  </tbody>\n",
       "</table>\n",
       "</div>"
      ],
      "text/plain": [
       "             CRIM          ZN       INDUS        CHAS         NOX          RM  \\\n",
       "count  506.000000  506.000000  506.000000  506.000000  506.000000  506.000000   \n",
       "mean     3.613524   11.363636   11.136779    0.069170    0.554695    6.284634   \n",
       "std      8.601545   23.322453    6.860353    0.253994    0.115878    0.702617   \n",
       "min      0.006320    0.000000    0.460000    0.000000    0.385000    3.561000   \n",
       "25%      0.082045    0.000000    5.190000    0.000000    0.449000    5.885500   \n",
       "50%      0.256510    0.000000    9.690000    0.000000    0.538000    6.208500   \n",
       "75%      3.677082   12.500000   18.100000    0.000000    0.624000    6.623500   \n",
       "max     88.976200  100.000000   27.740000    1.000000    0.871000    8.780000   \n",
       "\n",
       "              AGE         DIS         RAD         TAX     PTRATIO           B  \\\n",
       "count  506.000000  506.000000  506.000000  506.000000  506.000000  506.000000   \n",
       "mean    68.574901    3.795043    9.549407  408.237154   18.455534  356.674032   \n",
       "std     28.148861    2.105710    8.707259  168.537116    2.164946   91.294864   \n",
       "min      2.900000    1.129600    1.000000  187.000000   12.600000    0.320000   \n",
       "25%     45.025000    2.100175    4.000000  279.000000   17.400000  375.377500   \n",
       "50%     77.500000    3.207450    5.000000  330.000000   19.050000  391.440000   \n",
       "75%     94.075000    5.188425   24.000000  666.000000   20.200000  396.225000   \n",
       "max    100.000000   12.126500   24.000000  711.000000   22.000000  396.900000   \n",
       "\n",
       "            LSTAT        MEDV  \n",
       "count  506.000000  506.000000  \n",
       "mean    12.653063   22.532806  \n",
       "std      7.141062    9.197104  \n",
       "min      1.730000    5.000000  \n",
       "25%      6.950000   17.025000  \n",
       "50%     11.360000   21.200000  \n",
       "75%     16.955000   25.000000  \n",
       "max     37.970000   50.000000  "
      ]
     },
     "execution_count": 46,
     "metadata": {},
     "output_type": "execute_result"
    }
   ],
   "source": [
    "# descriptions\n",
    "data.describe()"
   ]
  },
  {
   "cell_type": "markdown",
   "metadata": {},
   "source": [
    "We now have a better feeling for how different the attributes are. \n",
    "\n",
    "The min and max values and also the means vary a lot. \n",
    "\n",
    "We are likely going to get better results by rescaling the data in some way."
   ]
  },
  {
   "cell_type": "markdown",
   "metadata": {},
   "source": [
    "###  Let's now take a look at the correlation between all of the numeric attributes."
   ]
  },
  {
   "cell_type": "code",
   "execution_count": 47,
   "metadata": {},
   "outputs": [
    {
     "data": {
      "text/plain": [
       "<matplotlib.axes._subplots.AxesSubplot at 0x7fb7936e2eb8>"
      ]
     },
     "execution_count": 47,
     "metadata": {},
     "output_type": "execute_result"
    },
    {
     "data": {
      "image/png": "[encoded data removed]",
      "text/plain": [
       "<Figure size 1008x1008 with 2 Axes>"
      ]
     },
     "metadata": {},
     "output_type": "display_data"
    }
   ],
   "source": [
    "corrmat = data.corr()\n",
    "pyplot.subplots(figsize = (14,14))\n",
    "sn.heatmap(corrmat, annot=True)"
   ]
  },
  {
   "cell_type": "markdown",
   "metadata": {},
   "source": [
    "This is interesting. We can see that many of the attributes have a strong correlation:\n",
    "Example: > 0:70 or < - 0:70 \n",
    "\n",
    "For example:\n",
    "\n",
    "1. NOX and INDUS with 0.77\n",
    "2. DIS and INDUS with -0.71\n",
    "3. TAX and INDUS with 0.72\n",
    "4. AGE and NOX with 0.73\n",
    "5. DIS and NOX with -0.78\n",
    "\n",
    "It also looks like LSTAT has a good negative correlation with the output variable MEDV with a value of -0.74"
   ]
  },
  {
   "cell_type": "markdown",
   "metadata": {},
   "source": [
    "# Data Visualizations"
   ]
  },
  {
   "cell_type": "markdown",
   "metadata": {},
   "source": [
    "Look at the data with box and whisker plots of each attribute."
   ]
  },
  {
   "cell_type": "code",
   "execution_count": 48,
   "metadata": {},
   "outputs": [
    {
     "data": {
      "image/png": "[encoded data removed]",
      "text/plain": [
       "<Figure size 1008x1008 with 16 Axes>"
      ]
     },
     "metadata": {},
     "output_type": "display_data"
    }
   ],
   "source": [
    "# box and whisker plots\n",
    "data.plot(kind='box', subplots=True, layout=(4,4), fontsize=8, figsize=(14,14))\n",
    "pyplot.show()"
   ]
  },
  {
   "cell_type": "markdown",
   "metadata": {},
   "source": [
    "This helps point out the skew in many distributions so much so that data looks like outliers (e.g. beyond the whisker of the plots)."
   ]
  },
  {
   "cell_type": "markdown",
   "metadata": {},
   "source": [
    "# Summary of Ideas"
   ]
  },
  {
   "cell_type": "markdown",
   "metadata": {},
   "source": [
    "There is a lot of structure in this dataset. We need to think about transforms that we could use later to better expose the structure which in turn may improve modeling accuracy. So far it would be worth trying:\n",
    "\n",
    "1. Feature selection and removing the most correlated attributes.\n",
    "2. Normalizing the dataset to reduce the effect of differing scales.\n",
    "3. Standardizing the dataset to reduce the effects of differing distributions.\n",
    "\n",
    "We would also explore the possibility of binning (discretization) of the data. This can often improve accuracy for decision tree algorithms."
   ]
  },
  {
   "cell_type": "markdown",
   "metadata": {},
   "source": [
    "# Validation Dataset"
   ]
  },
  {
   "cell_type": "markdown",
   "metadata": {},
   "source": [
    "We will use 80% of the dataset for modeling and hold back 20% for validation."
   ]
  },
  {
   "cell_type": "code",
   "execution_count": 49,
   "metadata": {},
   "outputs": [],
   "source": [
    "# Split-out validation dataset\n",
    "X = data.drop('MEDV', axis=1)\n",
    "y = data[['MEDV']]\n",
    "validation_size = 0.20\n",
    "seed = 7\n",
    "X_train, X_validation, Y_train, Y_validation = train_test_split(X, y)\n",
    "# tFeature selection and removing the most correlated attributes.\n",
    "#Normalizing the dataset to reduce the effect of differing scales.\n",
    "#Standardizing the dataset to reduce the effects of differing distributions.est_size=validation_size, random_state=seed)"
   ]
  },
  {
   "cell_type": "markdown",
   "metadata": {},
   "source": [
    "# Evaluate Algorithms: Baseline"
   ]
  },
  {
   "cell_type": "markdown",
   "metadata": {},
   "source": [
    "We have no idea what algorithms will do well on this problem. \n",
    "\n",
    "Gut feel suggests regression algorithms like Linear Regression may do well. \n",
    "\n",
    "It is also possible that decision trees also may do well. \n",
    "\n",
    "We have no idea. Let's design our test process. \n",
    "\n",
    "We will use 10-fold cross-validation. \n",
    "\n",
    "The dataset is not too small and this is a good standard test harness configuration. \n",
    "\n",
    "We will evaluate algorithms using the Mean Squared Error (MSE) metric. \n",
    "\n",
    "MSE will give a gross idea of how wrong all predictions are (0 is perfect)."
   ]
  },
  {
   "cell_type": "code",
   "execution_count": 50,
   "metadata": {},
   "outputs": [],
   "source": [
    "# Test options and evaluation metric\n",
    "num_folds = 10\n",
    "seed = 7\n",
    "scoring = 'mean_squared_error'"
   ]
  },
  {
   "cell_type": "markdown",
   "metadata": {},
   "source": [
    "Let's create a baseline of performance on this problem and spot-check a number of different algorithms. We will select a suite of different algorithms capable of working on this regression problem. The three algorithms selected include:\n",
    "1. Linear Algorithms: Linear Regression (LR)\n",
    "2. Nonlinear Algorithms: Classiffication and Regression Trees (CART) and k-Nearest Neighbors (KNN)."
   ]
  },
  {
   "cell_type": "code",
   "execution_count": 51,
   "metadata": {},
   "outputs": [],
   "source": [
    "# Spot-Check Algorithms\n",
    "models = []\n",
    "models.append(('LR', LinearRegression()))\n",
    "models.append(('KNN', KNeighborsRegressor()))\n",
    "models.append(('CART', DecisionTreeRegressor()))"
   ]
  },
  {
   "cell_type": "markdown",
   "metadata": {},
   "source": [
    "The algorithms all use default tuning parameters. \n",
    "\n",
    "Let's compare the algorithms. \n",
    "\n",
    "We will display the mean and standard deviation of MSE for each algorithm as we calculate it and collect the results to use later."
   ]
  },
  {
   "cell_type": "code",
   "execution_count": 52,
   "metadata": {},
   "outputs": [
    {
     "name": "stdout",
     "output_type": "stream",
     "text": [
      "LR: 22.536398 (7.854020)\n",
      "KNN: 40.518126 (12.977474)\n",
      "CART: 26.894493 (9.918139)\n"
     ]
    }
   ],
   "source": [
    "# evaluate each model in turn\n",
    "results = []\n",
    "names = []\n",
    "for name, model in models:\n",
    "    kfold = KFold(n_splits=num_folds, random_state=seed)\n",
    "    cv_results = cross_val_score(model, X_train, Y_train, cv=kfold, scoring=scoring)\n",
    "    results.append(cv_results)\n",
    "    names.append(name)\n",
    "    msg = \"%s: %f (%f)\" % (name, -cv_results.mean(), cv_results.std())\n",
    "    print(msg)"
   ]
  },
  {
   "cell_type": "markdown",
   "metadata": {},
   "source": [
    "It looks like LR has the lowest MSE, followed closely by CART."
   ]
  },
  {
   "cell_type": "code",
   "execution_count": 53,
   "metadata": {},
   "outputs": [
    {
     "data": {
      "text/plain": [
       "[array([-27.57515927, -40.16894783, -21.57898079, -21.86765574,\n",
       "        -15.27209141, -23.31248891, -28.73454876, -20.12506094,\n",
       "        -10.7813178 , -15.94772696]),\n",
       " array([-52.39212632, -49.29816842, -47.01733684, -31.18482105,\n",
       "        -38.13350526, -37.77298947, -46.04946316, -61.48158947,\n",
       "        -14.37962105, -27.47164324]),\n",
       " array([-18.02263158, -38.75842105, -24.02052632, -17.70342105,\n",
       "        -29.89973684, -38.78710526, -26.25421053, -14.80236842,\n",
       "        -17.10921053, -43.5872973 ])]"
      ]
     },
     "execution_count": 53,
     "metadata": {},
     "output_type": "execute_result"
    }
   ],
   "source": [
    "results"
   ]
  },
  {
   "cell_type": "markdown",
   "metadata": {},
   "source": [
    "We can see similar distributions for the regression algorithms and perhaps a tighter distribution of scores for CART."
   ]
  },
  {
   "cell_type": "markdown",
   "metadata": {},
   "source": [
    "The differing scales of the data is probably hurting the skill of all of the algorithms and perhaps more so for KNN. Later we will look at running the same algorithms using a standardized copy of the data."
   ]
  },
  {
   "cell_type": "markdown",
   "metadata": {},
   "source": [
    "# Evaluate Algorithms: Standardization"
   ]
  },
  {
   "cell_type": "markdown",
   "metadata": {},
   "source": [
    "We suspect that the differing scales of the raw data may be negatively impacting the skill of some of the algorithms. \n",
    "\n",
    "Let's evaluate the same algorithms with a standardized copy of the dataset. \n",
    "\n",
    "This is where the data is transformed such that each attribute has a mean value of zero and a standard deviation of 1. \n",
    "\n",
    "We also need to avoid data leakage when we transform the data. \n",
    "\n",
    "A good way to avoid leakage is to use pipelines that standardize the data and build the model for each fold in the cross-validation test harness. \n",
    "\n",
    "That way we can get a fair estimation of how each model with standardized data might perform on unseen data."
   ]
  },
  {
   "cell_type": "code",
   "execution_count": 54,
   "metadata": {},
   "outputs": [],
   "source": [
    "# Standardize the dataset\n",
    "pipelines = []\n",
    "pipelines.append(('ScaledLR', Pipeline([('Scaler', StandardScaler()), ('LR', LinearRegression())])))\n",
    "pipelines.append(('ScaledKNN', Pipeline([('Scaler', StandardScaler()), ('KNN', KNeighborsRegressor())])))\n",
    "pipelines.append(('ScaledCART', Pipeline([('Scaler', StandardScaler()), ('CART', DecisionTreeRegressor())])))"
   ]
  },
  {
   "cell_type": "code",
   "execution_count": 55,
   "metadata": {},
   "outputs": [],
   "source": [
    "#mymodel = Pipeline([('Scaler', StandardScaler()), ('LR', LinearRegression())])\n",
    "#mymodel.fit(X_train,Y_train)"
   ]
  },
  {
   "cell_type": "code",
   "execution_count": 56,
   "metadata": {},
   "outputs": [
    {
     "data": {
      "text/plain": [
       "array([3.44568847e+00, 1.13759894e+01, 1.12685488e+01, 6.59630607e-02,\n",
       "       5.55369393e-01, 6.26476517e+00, 6.87606860e+01, 3.79610844e+00,\n",
       "       9.48284960e+00, 4.08459103e+02, 1.84525066e+01, 3.54444565e+02,\n",
       "       1.29613193e+01])"
      ]
     },
     "execution_count": 56,
     "metadata": {},
     "output_type": "execute_result"
    }
   ],
   "source": [
    "scaler = StandardScaler()\n",
    "scaled_data = scaler.fit_transform(X_train)\n",
    "scaler.mean_"
   ]
  },
  {
   "cell_type": "code",
   "execution_count": 57,
   "metadata": {},
   "outputs": [
    {
     "data": {
      "text/plain": [
       "CRIM         3.445688\n",
       "ZN          11.375989\n",
       "INDUS       11.268549\n",
       "CHAS         0.065963\n",
       "NOX          0.555369\n",
       "RM           6.264765\n",
       "AGE         68.760686\n",
       "DIS          3.796108\n",
       "RAD          9.482850\n",
       "TAX        408.459103\n",
       "PTRATIO     18.452507\n",
       "B          354.444565\n",
       "LSTAT       12.961319\n",
       "dtype: float64"
      ]
     },
     "execution_count": 57,
     "metadata": {},
     "output_type": "execute_result"
    }
   ],
   "source": [
    "X_train.mean(axis=0)"
   ]
  },
  {
   "cell_type": "code",
   "execution_count": 58,
   "metadata": {},
   "outputs": [
    {
     "data": {
      "text/plain": [
       "array([7.55258549e+00, 2.35957697e+01, 6.89459807e+00, 2.48217516e-01,\n",
       "       1.16798150e-01, 7.09312849e-01, 2.82113903e+01, 2.11882844e+00,\n",
       "       8.68393089e+00, 1.67719565e+02, 2.18763925e+00, 9.42731502e+01,\n",
       "       7.27471196e+00])"
      ]
     },
     "execution_count": 58,
     "metadata": {},
     "output_type": "execute_result"
    }
   ],
   "source": [
    "scaler.scale_"
   ]
  },
  {
   "cell_type": "code",
   "execution_count": 59,
   "metadata": {},
   "outputs": [
    {
     "data": {
      "text/plain": [
       "CRIM         7.562569\n",
       "ZN          23.626960\n",
       "INDUS        6.903712\n",
       "CHAS         0.248546\n",
       "NOX          0.116953\n",
       "RM           0.710250\n",
       "AGE         28.248682\n",
       "DIS          2.121629\n",
       "RAD          8.695410\n",
       "TAX        167.941270\n",
       "PTRATIO      2.190531\n",
       "B           94.397768\n",
       "LSTAT        7.284328\n",
       "dtype: float64"
      ]
     },
     "execution_count": 59,
     "metadata": {},
     "output_type": "execute_result"
    }
   ],
   "source": [
    "X_train.std(axis=0)"
   ]
  },
  {
   "cell_type": "code",
   "execution_count": 60,
   "metadata": {},
   "outputs": [
    {
     "name": "stdout",
     "output_type": "stream",
     "text": [
      "ScaledLR: 22.536398 (7.854020)\n",
      "ScaledKNN: 21.027081 (10.457230)\n",
      "ScaledCART: 26.511674 (8.429517)\n"
     ]
    }
   ],
   "source": [
    "results = []\n",
    "names = []\n",
    "for name, model in pipelines:\n",
    "    kfold = KFold(n_splits=num_folds, random_state=seed)\n",
    "    cv_results = cross_val_score(model, X_train, Y_train, cv=kfold, scoring=scoring)\n",
    "    results.append(cv_results)\n",
    "    names.append(name)\n",
    "    msg = \"%s: %f (%f)\" % (name, -cv_results.mean(), cv_results.std())\n",
    "    print(msg)"
   ]
  },
  {
   "cell_type": "markdown",
   "metadata": {},
   "source": [
    "Running the example provides a list of mean squared errors. We can see that scaling did have an effect on KNN, driving the error lower than the other models."
   ]
  },
  {
   "cell_type": "markdown",
   "metadata": {},
   "source": [
    "We can see that KNN has both a tight distribution of error and has the lowest score."
   ]
  },
  {
   "cell_type": "markdown",
   "metadata": {},
   "source": [
    "# Improve Results With Tuning"
   ]
  },
  {
   "cell_type": "markdown",
   "metadata": {},
   "source": [
    "We know from the results that KNN achieves good results on a scaled version of the dataset. \n",
    "\n",
    "## But can it do better?\n",
    "\n",
    "The default value for the number of neighbors in KNN is 5. \n",
    "\n",
    "We can use a grid search to try a set of different numbers of neighbors and see if we can improve the score. \n",
    "\n",
    "The below example tries odd k values from 1 to 21, an arbitrary range covering a known good value of 5. \n",
    "\n",
    "Each k value (n neighbors) is evaluated using 10-fold cross-validation on a standardized copy of the 'training dataset'."
   ]
  },
  {
   "cell_type": "code",
   "execution_count": 70,
   "metadata": {},
   "outputs": [],
   "source": [
    "# KNN Algorithm tuning\n",
    "scaler = StandardScaler().fit(X_train)\n",
    "scaledX = scaler.transform(X_train)\n",
    "k_values = numpy.array([1,3,5,7,9,11,13,15,17,19,21])\n",
    "param_grid = dict(n_neighbors=k_values)\n",
    "model = KNeighborsRegressor()\n",
    "kfold = KFold(n_splits=num_folds, random_state=seed)\n",
    "grid = GridSearchCV(estimator=model, param_grid=param_grid, scoring=scoring, cv=kfold)\n",
    "grid_result = grid.fit(scaledX, Y_train)"
   ]
  },
  {
   "cell_type": "markdown",
   "metadata": {},
   "source": [
    "We can display the mean and standard deviation scores as well as the best performing value for k below."
   ]
  },
  {
   "cell_type": "code",
   "execution_count": 71,
   "metadata": {},
   "outputs": [
    {
     "name": "stdout",
     "output_type": "stream",
     "text": [
      "Best: 17.809546 using {'n_neighbors': 3}\n",
      "18.460844 (11.056840) with: {'n_neighbors': 1}\n",
      "17.809546 (8.280927) with: {'n_neighbors': 3}\n",
      "20.444235 (10.275206) with: {'n_neighbors': 5}\n",
      "21.065431 (10.619336) with: {'n_neighbors': 7}\n",
      "21.388169 (10.370593) with: {'n_neighbors': 9}\n",
      "21.788314 (9.843246) with: {'n_neighbors': 11}\n",
      "21.742517 (9.690855) with: {'n_neighbors': 13}\n",
      "22.501226 (9.732546) with: {'n_neighbors': 15}\n",
      "23.510129 (9.908270) with: {'n_neighbors': 17}\n",
      "24.085996 (10.039827) with: {'n_neighbors': 19}\n",
      "24.711777 (10.103886) with: {'n_neighbors': 21}\n"
     ]
    }
   ],
   "source": [
    "print(\"Best: %f using %s\" % (-grid_result.best_score_, grid_result.best_params_))\n",
    "means = grid_result.cv_results_['mean_test_score']\n",
    "stds = grid_result.cv_results_['std_test_score']\n",
    "params = grid_result.cv_results_['params']\n",
    "for mean, stdev, param in zip(means, stds, params):\n",
    "    print(\"%f (%f) with: %r\" % (-mean, stdev, param))"
   ]
  },
  {
   "cell_type": "markdown",
   "metadata": {},
   "source": [
    "# We can see that the best for k (n neighbors) is 3 providing a mean squared error of 18.172137, the best so far."
   ]
  },
  {
   "cell_type": "markdown",
   "metadata": {},
   "source": [
    "# Exercises"
   ]
  },
  {
   "cell_type": "markdown",
   "metadata": {},
   "source": [
    "Tune Decision Tree Algorithm"
   ]
  },
  {
   "cell_type": "code",
   "execution_count": 72,
   "metadata": {},
   "outputs": [],
   "source": [
    "#Decision Tree tuning\n",
    "scaler = StandardScaler().fit(X_train)\n",
    "scaledX = scaler.transform(X_train)\n",
    "params = {'min_samples_split': [2,3,4,5,6,7,8,9,10,11,12,13,14,15], \n",
    "          'min_samples_leaf':[1,2,3,4,5,6,7,8,9,10,11]}\n",
    "\n",
    "param_grid = params\n",
    "model = DecisionTreeRegressor()\n",
    "kfold = KFold(n_splits=num_folds, random_state=seed)\n",
    "grid = GridSearchCV(estimator=model, param_grid=param_grid, scoring=scoring, cv=kfold)\n",
    "grid_result = grid.fit(scaledX, Y_train)"
   ]
  },
  {
   "cell_type": "code",
   "execution_count": 73,
   "metadata": {},
   "outputs": [
    {
     "name": "stdout",
     "output_type": "stream",
     "text": [
      "Best: 20.291405 using {'min_samples_leaf': 11, 'min_samples_split': 3}\n",
      "25.649921 (10.993231) with: {'min_samples_leaf': 1, 'min_samples_split': 2}\n",
      "26.312777 (9.749207) with: {'min_samples_leaf': 1, 'min_samples_split': 3}\n",
      "26.502386 (9.420722) with: {'min_samples_leaf': 1, 'min_samples_split': 4}\n",
      "24.486527 (9.738659) with: {'min_samples_leaf': 1, 'min_samples_split': 5}\n",
      "25.889010 (8.838741) with: {'min_samples_leaf': 1, 'min_samples_split': 6}\n",
      "25.431959 (9.611182) with: {'min_samples_leaf': 1, 'min_samples_split': 7}\n",
      "24.870564 (9.842721) with: {'min_samples_leaf': 1, 'min_samples_split': 8}\n",
      "25.661206 (8.928722) with: {'min_samples_leaf': 1, 'min_samples_split': 9}\n",
      "24.994088 (8.676334) with: {'min_samples_leaf': 1, 'min_samples_split': 10}\n",
      "26.269669 (9.646724) with: {'min_samples_leaf': 1, 'min_samples_split': 11}\n",
      "24.644474 (9.396637) with: {'min_samples_leaf': 1, 'min_samples_split': 12}\n",
      "24.790054 (10.253976) with: {'min_samples_leaf': 1, 'min_samples_split': 13}\n",
      "23.888662 (9.584043) with: {'min_samples_leaf': 1, 'min_samples_split': 14}\n",
      "24.951093 (9.278410) with: {'min_samples_leaf': 1, 'min_samples_split': 15}\n",
      "25.971250 (10.361135) with: {'min_samples_leaf': 2, 'min_samples_split': 2}\n",
      "26.503070 (10.050143) with: {'min_samples_leaf': 2, 'min_samples_split': 3}\n",
      "26.632832 (9.845145) with: {'min_samples_leaf': 2, 'min_samples_split': 4}\n",
      "25.350690 (9.434933) with: {'min_samples_leaf': 2, 'min_samples_split': 5}\n",
      "26.102580 (10.034625) with: {'min_samples_leaf': 2, 'min_samples_split': 6}\n",
      "26.243944 (9.940708) with: {'min_samples_leaf': 2, 'min_samples_split': 7}\n",
      "26.144715 (9.855322) with: {'min_samples_leaf': 2, 'min_samples_split': 8}\n",
      "25.878225 (8.921816) with: {'min_samples_leaf': 2, 'min_samples_split': 9}\n",
      "25.144785 (9.764087) with: {'min_samples_leaf': 2, 'min_samples_split': 10}\n",
      "25.126255 (9.839907) with: {'min_samples_leaf': 2, 'min_samples_split': 11}\n",
      "24.774284 (9.180329) with: {'min_samples_leaf': 2, 'min_samples_split': 12}\n",
      "24.973410 (10.426497) with: {'min_samples_leaf': 2, 'min_samples_split': 13}\n",
      "24.497089 (10.339646) with: {'min_samples_leaf': 2, 'min_samples_split': 14}\n",
      "25.178781 (9.709493) with: {'min_samples_leaf': 2, 'min_samples_split': 15}\n",
      "26.242346 (10.648035) with: {'min_samples_leaf': 3, 'min_samples_split': 2}\n",
      "26.424932 (10.879536) with: {'min_samples_leaf': 3, 'min_samples_split': 3}\n",
      "26.507307 (11.007606) with: {'min_samples_leaf': 3, 'min_samples_split': 4}\n",
      "26.168393 (10.604510) with: {'min_samples_leaf': 3, 'min_samples_split': 5}\n",
      "26.377888 (11.048375) with: {'min_samples_leaf': 3, 'min_samples_split': 6}\n",
      "26.813427 (10.244510) with: {'min_samples_leaf': 3, 'min_samples_split': 7}\n",
      "26.148729 (10.096237) with: {'min_samples_leaf': 3, 'min_samples_split': 8}\n",
      "25.762625 (9.815555) with: {'min_samples_leaf': 3, 'min_samples_split': 9}\n",
      "25.597059 (9.898264) with: {'min_samples_leaf': 3, 'min_samples_split': 10}\n",
      "25.644806 (9.779939) with: {'min_samples_leaf': 3, 'min_samples_split': 11}\n",
      "25.173829 (9.851454) with: {'min_samples_leaf': 3, 'min_samples_split': 12}\n",
      "24.831102 (9.499824) with: {'min_samples_leaf': 3, 'min_samples_split': 13}\n",
      "24.689151 (9.852642) with: {'min_samples_leaf': 3, 'min_samples_split': 14}\n",
      "24.756581 (9.899127) with: {'min_samples_leaf': 3, 'min_samples_split': 15}\n",
      "26.662975 (10.595316) with: {'min_samples_leaf': 4, 'min_samples_split': 2}\n",
      "26.840378 (10.596606) with: {'min_samples_leaf': 4, 'min_samples_split': 3}\n",
      "27.293607 (10.172778) with: {'min_samples_leaf': 4, 'min_samples_split': 4}\n",
      "27.167872 (9.926006) with: {'min_samples_leaf': 4, 'min_samples_split': 5}\n",
      "26.658042 (10.689346) with: {'min_samples_leaf': 4, 'min_samples_split': 6}\n",
      "27.181201 (10.004675) with: {'min_samples_leaf': 4, 'min_samples_split': 7}\n",
      "26.461289 (10.540691) with: {'min_samples_leaf': 4, 'min_samples_split': 8}\n",
      "26.777064 (10.689538) with: {'min_samples_leaf': 4, 'min_samples_split': 9}\n",
      "26.268684 (10.049071) with: {'min_samples_leaf': 4, 'min_samples_split': 10}\n",
      "26.252195 (10.014107) with: {'min_samples_leaf': 4, 'min_samples_split': 11}\n",
      "26.356674 (10.138620) with: {'min_samples_leaf': 4, 'min_samples_split': 12}\n",
      "26.493094 (9.649045) with: {'min_samples_leaf': 4, 'min_samples_split': 13}\n",
      "25.320812 (9.726025) with: {'min_samples_leaf': 4, 'min_samples_split': 14}\n",
      "25.415583 (10.010126) with: {'min_samples_leaf': 4, 'min_samples_split': 15}\n",
      "23.607166 (9.997009) with: {'min_samples_leaf': 5, 'min_samples_split': 2}\n",
      "23.774834 (9.448242) with: {'min_samples_leaf': 5, 'min_samples_split': 3}\n",
      "23.926635 (9.371678) with: {'min_samples_leaf': 5, 'min_samples_split': 4}\n",
      "23.942646 (9.757096) with: {'min_samples_leaf': 5, 'min_samples_split': 5}\n",
      "23.467863 (9.675805) with: {'min_samples_leaf': 5, 'min_samples_split': 6}\n",
      "24.005110 (9.728509) with: {'min_samples_leaf': 5, 'min_samples_split': 7}\n",
      "23.783345 (9.443460) with: {'min_samples_leaf': 5, 'min_samples_split': 8}\n",
      "23.265879 (9.770048) with: {'min_samples_leaf': 5, 'min_samples_split': 9}\n",
      "23.328344 (9.715184) with: {'min_samples_leaf': 5, 'min_samples_split': 10}\n",
      "23.306657 (9.772223) with: {'min_samples_leaf': 5, 'min_samples_split': 11}\n",
      "23.349205 (10.028589) with: {'min_samples_leaf': 5, 'min_samples_split': 12}\n",
      "23.176577 (9.555264) with: {'min_samples_leaf': 5, 'min_samples_split': 13}\n",
      "23.414514 (10.181661) with: {'min_samples_leaf': 5, 'min_samples_split': 14}\n",
      "23.588753 (10.492756) with: {'min_samples_leaf': 5, 'min_samples_split': 15}\n",
      "22.097538 (10.087430) with: {'min_samples_leaf': 6, 'min_samples_split': 2}\n",
      "22.222622 (10.348832) with: {'min_samples_leaf': 6, 'min_samples_split': 3}\n",
      "22.256838 (10.421541) with: {'min_samples_leaf': 6, 'min_samples_split': 4}\n",
      "22.222622 (10.348832) with: {'min_samples_leaf': 6, 'min_samples_split': 5}\n",
      "22.063322 (10.017179) with: {'min_samples_leaf': 6, 'min_samples_split': 6}\n",
      "22.199334 (10.370765) with: {'min_samples_leaf': 6, 'min_samples_split': 7}\n",
      "22.256838 (10.421541) with: {'min_samples_leaf': 6, 'min_samples_split': 8}\n",
      "22.222622 (10.348832) with: {'min_samples_leaf': 6, 'min_samples_split': 9}\n",
      "22.063322 (10.017179) with: {'min_samples_leaf': 6, 'min_samples_split': 10}\n",
      "22.222622 (10.348832) with: {'min_samples_leaf': 6, 'min_samples_split': 11}\n",
      "22.097538 (10.087430) with: {'min_samples_leaf': 6, 'min_samples_split': 12}\n",
      "22.210300 (9.962909) with: {'min_samples_leaf': 6, 'min_samples_split': 13}\n",
      "22.464281 (10.357787) with: {'min_samples_leaf': 6, 'min_samples_split': 14}\n",
      "22.510002 (10.515496) with: {'min_samples_leaf': 6, 'min_samples_split': 15}\n",
      "21.731471 (10.533342) with: {'min_samples_leaf': 7, 'min_samples_split': 2}\n",
      "21.890772 (10.869516) with: {'min_samples_leaf': 7, 'min_samples_split': 3}\n",
      "21.856775 (10.901797) with: {'min_samples_leaf': 7, 'min_samples_split': 4}\n",
      "21.856775 (10.901797) with: {'min_samples_leaf': 7, 'min_samples_split': 5}\n",
      "21.890772 (10.869516) with: {'min_samples_leaf': 7, 'min_samples_split': 6}\n",
      "21.697474 (10.566137) with: {'min_samples_leaf': 7, 'min_samples_split': 7}\n",
      "21.890772 (10.869516) with: {'min_samples_leaf': 7, 'min_samples_split': 8}\n",
      "22.081403 (10.919339) with: {'min_samples_leaf': 7, 'min_samples_split': 9}\n",
      "21.697474 (10.566137) with: {'min_samples_leaf': 7, 'min_samples_split': 10}\n",
      "21.856775 (10.901797) with: {'min_samples_leaf': 7, 'min_samples_split': 11}\n",
      "21.856775 (10.901797) with: {'min_samples_leaf': 7, 'min_samples_split': 12}\n",
      "21.697474 (10.566137) with: {'min_samples_leaf': 7, 'min_samples_split': 13}\n",
      "22.081403 (10.919339) with: {'min_samples_leaf': 7, 'min_samples_split': 14}\n",
      "21.893519 (10.901764) with: {'min_samples_leaf': 7, 'min_samples_split': 15}\n",
      "21.370037 (8.160770) with: {'min_samples_leaf': 8, 'min_samples_split': 2}\n",
      "21.370037 (8.160770) with: {'min_samples_leaf': 8, 'min_samples_split': 3}\n",
      "21.370037 (8.160770) with: {'min_samples_leaf': 8, 'min_samples_split': 4}\n",
      "21.358050 (8.170349) with: {'min_samples_leaf': 8, 'min_samples_split': 5}\n",
      "21.370037 (8.160770) with: {'min_samples_leaf': 8, 'min_samples_split': 6}\n",
      "21.358050 (8.170349) with: {'min_samples_leaf': 8, 'min_samples_split': 7}\n",
      "21.358050 (8.170349) with: {'min_samples_leaf': 8, 'min_samples_split': 8}\n",
      "21.358050 (8.170349) with: {'min_samples_leaf': 8, 'min_samples_split': 9}\n",
      "21.370037 (8.160770) with: {'min_samples_leaf': 8, 'min_samples_split': 10}\n",
      "21.358050 (8.170349) with: {'min_samples_leaf': 8, 'min_samples_split': 11}\n",
      "21.358050 (8.170349) with: {'min_samples_leaf': 8, 'min_samples_split': 12}\n",
      "21.358050 (8.170349) with: {'min_samples_leaf': 8, 'min_samples_split': 13}\n",
      "21.370037 (8.160770) with: {'min_samples_leaf': 8, 'min_samples_split': 14}\n",
      "21.370037 (8.160770) with: {'min_samples_leaf': 8, 'min_samples_split': 15}\n",
      "20.735818 (8.039768) with: {'min_samples_leaf': 9, 'min_samples_split': 2}\n",
      "20.735818 (8.039768) with: {'min_samples_leaf': 9, 'min_samples_split': 3}\n",
      "20.735818 (8.039768) with: {'min_samples_leaf': 9, 'min_samples_split': 4}\n",
      "20.518755 (8.233168) with: {'min_samples_leaf': 9, 'min_samples_split': 5}\n",
      "20.518755 (8.233168) with: {'min_samples_leaf': 9, 'min_samples_split': 6}\n",
      "20.668568 (8.101702) with: {'min_samples_leaf': 9, 'min_samples_split': 7}\n",
      "20.518755 (8.233168) with: {'min_samples_leaf': 9, 'min_samples_split': 8}\n",
      "20.518755 (8.233168) with: {'min_samples_leaf': 9, 'min_samples_split': 9}\n",
      "20.446162 (8.296850) with: {'min_samples_leaf': 9, 'min_samples_split': 10}\n",
      "20.663225 (8.106913) with: {'min_samples_leaf': 9, 'min_samples_split': 11}\n",
      "20.518755 (8.233168) with: {'min_samples_leaf': 9, 'min_samples_split': 12}\n",
      "20.735818 (8.039768) with: {'min_samples_leaf': 9, 'min_samples_split': 13}\n",
      "20.513412 (8.238199) with: {'min_samples_leaf': 9, 'min_samples_split': 14}\n",
      "20.663225 (8.106913) with: {'min_samples_leaf': 9, 'min_samples_split': 15}\n",
      "21.339276 (9.327491) with: {'min_samples_leaf': 10, 'min_samples_split': 2}\n",
      "21.339276 (9.327491) with: {'min_samples_leaf': 10, 'min_samples_split': 3}\n",
      "21.339276 (9.327491) with: {'min_samples_leaf': 10, 'min_samples_split': 4}\n",
      "21.339276 (9.327491) with: {'min_samples_leaf': 10, 'min_samples_split': 5}\n",
      "21.339276 (9.327491) with: {'min_samples_leaf': 10, 'min_samples_split': 6}\n",
      "21.339276 (9.327491) with: {'min_samples_leaf': 10, 'min_samples_split': 7}\n",
      "21.339276 (9.327491) with: {'min_samples_leaf': 10, 'min_samples_split': 8}\n",
      "21.335151 (9.319282) with: {'min_samples_leaf': 10, 'min_samples_split': 9}\n",
      "21.339276 (9.327491) with: {'min_samples_leaf': 10, 'min_samples_split': 10}\n",
      "21.339276 (9.327491) with: {'min_samples_leaf': 10, 'min_samples_split': 11}\n",
      "21.339276 (9.327491) with: {'min_samples_leaf': 10, 'min_samples_split': 12}\n",
      "21.335151 (9.319282) with: {'min_samples_leaf': 10, 'min_samples_split': 13}\n",
      "21.339276 (9.327491) with: {'min_samples_leaf': 10, 'min_samples_split': 14}\n",
      "21.335151 (9.319282) with: {'min_samples_leaf': 10, 'min_samples_split': 15}\n",
      "20.296702 (9.078225) with: {'min_samples_leaf': 11, 'min_samples_split': 2}\n",
      "20.291405 (9.081372) with: {'min_samples_leaf': 11, 'min_samples_split': 3}\n",
      "20.296702 (9.078225) with: {'min_samples_leaf': 11, 'min_samples_split': 4}\n",
      "20.291405 (9.081372) with: {'min_samples_leaf': 11, 'min_samples_split': 5}\n",
      "20.296702 (9.078225) with: {'min_samples_leaf': 11, 'min_samples_split': 6}\n",
      "20.296702 (9.078225) with: {'min_samples_leaf': 11, 'min_samples_split': 7}\n",
      "20.296702 (9.078225) with: {'min_samples_leaf': 11, 'min_samples_split': 8}\n",
      "20.291405 (9.081372) with: {'min_samples_leaf': 11, 'min_samples_split': 9}\n",
      "20.291405 (9.081372) with: {'min_samples_leaf': 11, 'min_samples_split': 10}\n",
      "20.291405 (9.081372) with: {'min_samples_leaf': 11, 'min_samples_split': 11}\n",
      "20.291405 (9.081372) with: {'min_samples_leaf': 11, 'min_samples_split': 12}\n",
      "20.291405 (9.081372) with: {'min_samples_leaf': 11, 'min_samples_split': 13}\n",
      "20.291405 (9.081372) with: {'min_samples_leaf': 11, 'min_samples_split': 14}\n",
      "20.291405 (9.081372) with: {'min_samples_leaf': 11, 'min_samples_split': 15}\n"
     ]
    }
   ],
   "source": [
    "print(\"Best: %f using %s\" % (-grid_result.best_score_, grid_result.best_params_))\n",
    "means = grid_result.cv_results_['mean_test_score']\n",
    "stds = grid_result.cv_results_['std_test_score']\n",
    "params = grid_result.cv_results_['params']\n",
    "for mean, stdev, param in zip(means, stds, params):\n",
    "    print(\"%f (%f) with: %r\" % (-mean, stdev, param))"
   ]
  },
  {
   "cell_type": "markdown",
   "metadata": {},
   "source": [
    "Tune Linear Regression Algorithm"
   ]
  },
  {
   "cell_type": "code",
   "execution_count": 74,
   "metadata": {},
   "outputs": [],
   "source": [
    "#Linear Tree tuning\n",
    "scaler = StandardScaler().fit(X_train)\n",
    "scaledX = scaler.transform(X_train)\n",
    "params = {}\n",
    "param_grid = params\n",
    "model = LinearRegression()\n",
    "kfold = KFold(n_splits=num_folds, random_state=seed)\n",
    "grid = GridSearchCV(estimator=model, param_grid=param_grid, scoring=scoring, cv=kfold)\n",
    "grid_result = grid.fit(scaledX, Y_train)"
   ]
  },
  {
   "cell_type": "code",
   "execution_count": 75,
   "metadata": {},
   "outputs": [
    {
     "name": "stdout",
     "output_type": "stream",
     "text": [
      "Best: 22.553782 using {}\n",
      "22.553782 (7.857070) with: {}\n"
     ]
    }
   ],
   "source": [
    "print(\"Best: %f using %s\" % (-grid_result.best_score_, grid_result.best_params_))\n",
    "means = grid_result.cv_results_['mean_test_score']\n",
    "stds = grid_result.cv_results_['std_test_score']\n",
    "params = grid_result.cv_results_['params']\n",
    "for mean, stdev, param in zip(means, stds, params):\n",
    "    print(\"%f (%f) with: %r\" % (-mean, stdev, param))"
   ]
  },
  {
   "cell_type": "markdown",
   "metadata": {},
   "source": [
    "# Ensemble Methods"
   ]
  },
  {
   "cell_type": "markdown",
   "metadata": {},
   "source": [
    "Another way that we can improve the performance of algorithms on this problem is by using ensemble methods. \n",
    "\n",
    "We will evaluate two different ensemble machine learning algorithms, one boosting and one bagging method:\n",
    "\n",
    "1. Boosting Methods: AdaBoost (AB)\n",
    "2. Bagging Methods: Random Forests (RF)"
   ]
  },
  {
   "cell_type": "markdown",
   "metadata": {},
   "source": [
    "We will use the same test harness as before, 10-fold cross-validation and pipelines that standardize the training data for each fold."
   ]
  },
  {
   "cell_type": "code",
   "execution_count": 78,
   "metadata": {},
   "outputs": [],
   "source": [
    "# ensembles\n",
    "ensembles = []\n",
    "ensembles.append(('ScaledAB', Pipeline([('Scaler', StandardScaler()),('AB', AdaBoostRegressor())])))\n",
    "ensembles.append(('ScaledRF', Pipeline([('Scaler', StandardScaler()),('RF', RandomForestRegressor())])))"
   ]
  },
  {
   "cell_type": "code",
   "execution_count": 79,
   "metadata": {},
   "outputs": [
    {
     "name": "stdout",
     "output_type": "stream",
     "text": [
      "ScaledAB: 16.691801 (8.787707)\n",
      "ScaledRF: 15.557349 (7.791734)\n"
     ]
    }
   ],
   "source": [
    "results = []\n",
    "names = []\n",
    "for name, model in ensembles: \n",
    "    kfold = KFold(n_splits=num_folds, random_state=seed) \n",
    "    cv_results = cross_val_score(model, X_train, Y_train, cv=kfold, scoring=scoring)\n",
    "    results.append(cv_results)\n",
    "    names.append(name)\n",
    "    msg = \"%s: %f (%f)\" % (name, -cv_results.mean(), cv_results.std())\n",
    "    print(msg)"
   ]
  },
  {
   "cell_type": "markdown",
   "metadata": {},
   "source": [
    "# Running the example calculates the mean squared error for each method using the default parameters. \n",
    "\n",
    "# We can see that we're generally getting better scores than our earlier linear and nonlinear algorithms."
   ]
  },
  {
   "cell_type": "markdown",
   "metadata": {},
   "source": [
    "# It looks like RF has a better mean score"
   ]
  },
  {
   "cell_type": "markdown",
   "metadata": {},
   "source": [
    "We can probably do better, given that the ensemble techniques used the default parameters.\n",
    "\n",
    "Now we will look at tuning the RF to further lift the performance."
   ]
  },
  {
   "cell_type": "markdown",
   "metadata": {},
   "source": [
    "# Tune Ensemble Methods"
   ]
  },
  {
   "cell_type": "code",
   "execution_count": 83,
   "metadata": {},
   "outputs": [],
   "source": [
    "# Parameters for RF\n",
    "param_grid = dict(n_estimators=numpy.array([10, 20, 30, 40, 50, 60, 70, 80, 90, 100]))"
   ]
  },
  {
   "cell_type": "markdown",
   "metadata": {},
   "source": [
    "The default number of estimaters is 10. \n",
    "\n",
    "This is a good candidate parameter of RF to tune. \n",
    "\n",
    "Often, the larger the number of estimators, the better the performance but the longer the training time. \n",
    "\n",
    "Now we will look at tuning the number of estimators for RF. \n",
    "\n",
    "Below we define a parameter grid n-estimators values from 10 to 100 in increments of 10. \n",
    "\n",
    "Each setting is evaluated using 10-fold cross-validation."
   ]
  },
  {
   "cell_type": "code",
   "execution_count": 84,
   "metadata": {},
   "outputs": [],
   "source": [
    "# Tune scaled Random Forest\n",
    "scaler = StandardScaler().fit(X_train)\n",
    "rescaledX = scaler.transform(X_train)\n",
    "model = RandomForestRegressor(random_state=seed)\n",
    "kfold = KFold(n_splits=num_folds, random_state=seed)\n",
    "grid = GridSearchCV(estimator=model, param_grid=param_grid, scoring=scoring, cv=kfold)\n",
    "grid_result = grid.fit(rescaledX, Y_train)"
   ]
  },
  {
   "cell_type": "code",
   "execution_count": 85,
   "metadata": {},
   "outputs": [
    {
     "name": "stdout",
     "output_type": "stream",
     "text": [
      "Best: -14.479047 using {'n_estimators': 50}\n",
      "16.716169 (7.682840) with: {'n_estimators': 10}\n",
      "15.446485 (7.531037) with: {'n_estimators': 20}\n",
      "15.070799 (7.686612) with: {'n_estimators': 30}\n",
      "14.810136 (7.737053) with: {'n_estimators': 40}\n",
      "14.479047 (7.718912) with: {'n_estimators': 50}\n",
      "14.536962 (7.687158) with: {'n_estimators': 60}\n",
      "14.671977 (7.694472) with: {'n_estimators': 70}\n",
      "14.667197 (7.673156) with: {'n_estimators': 80}\n",
      "14.608116 (7.733050) with: {'n_estimators': 90}\n",
      "14.706106 (7.824784) with: {'n_estimators': 100}\n"
     ]
    }
   ],
   "source": [
    "print(\"Best: %f using %s\" % (grid_result.best_score_, grid_result.best_params_))\n",
    "means = grid_result.cv_results_['mean_test_score']\n",
    "stds = grid_result.cv_results_['std_test_score']\n",
    "params = grid_result.cv_results_['params']\n",
    "for mean, stdev, param in zip(means, stds, params): \n",
    "    print(\"%f (%f) with: %r\" % (-mean, stdev, param))"
   ]
  },
  {
   "cell_type": "markdown",
   "metadata": {},
   "source": [
    "# Exercise"
   ]
  },
  {
   "cell_type": "markdown",
   "metadata": {},
   "source": [
    "# Different hyperparameters in Random Forest"
   ]
  },
  {
   "cell_type": "markdown",
   "metadata": {},
   "source": [
    "# Tune AdaBoost Algorithm"
   ]
  },
  {
   "cell_type": "markdown",
   "metadata": {
    "collapsed": true
   },
   "source": [
    "We can see that the best configuration was n estimators=40 resulting in a mean squared error of 12.075728 whereas untuned method gave mean square error as 12.84."
   ]
  },
  {
   "cell_type": "markdown",
   "metadata": {},
   "source": [
    "# Next we can finalize the model and prepare it for general use."
   ]
  },
  {
   "cell_type": "markdown",
   "metadata": {},
   "source": [
    "# Finalize Model"
   ]
  },
  {
   "cell_type": "markdown",
   "metadata": {},
   "source": [
    "In this section we will finalize the RF model and evaluate it on our hold out validation dataset. \n",
    "\n",
    "First we need to prepare the model and train it on the entire training dataset.\n",
    "\n",
    "This includes standardizing the training dataset before training."
   ]
  },
  {
   "cell_type": "code",
   "execution_count": 88,
   "metadata": {
    "scrolled": true
   },
   "outputs": [
    {
     "data": {
      "text/plain": [
       "RandomForestRegressor(bootstrap=True, criterion='mse', max_depth=None,\n",
       "           max_features='auto', max_leaf_nodes=None,\n",
       "           min_impurity_decrease=0.0, min_impurity_split=None,\n",
       "           min_samples_leaf=1, min_samples_split=2,\n",
       "           min_weight_fraction_leaf=0.0, n_estimators=40, n_jobs=1,\n",
       "           oob_score=False, random_state=7, verbose=0, warm_start=False)"
      ]
     },
     "execution_count": 88,
     "metadata": {},
     "output_type": "execute_result"
    }
   ],
   "source": [
    "# prepare the model\n",
    "scaler = StandardScaler().fit(X_train)\n",
    "rescaledX = scaler.transform(X_train)\n",
    "model = RandomForestRegressor(random_state=seed, n_estimators=40)\n",
    "model.fit(rescaledX, Y_train)"
   ]
  },
  {
   "cell_type": "markdown",
   "metadata": {},
   "source": [
    "We can then scale the inputs for the validation dataset and generate predictions."
   ]
  },
  {
   "cell_type": "code",
   "execution_count": 89,
   "metadata": {},
   "outputs": [
    {
     "name": "stdout",
     "output_type": "stream",
     "text": [
      "18.397531200787405\n"
     ]
    }
   ],
   "source": [
    "# transform the validation dataset\n",
    "rescaledValidationX = scaler.transform(X_validation)\n",
    "predictions = model.predict(rescaledValidationX)\n",
    "print(mean_squared_error(Y_validation, predictions))"
   ]
  },
  {
   "cell_type": "markdown",
   "metadata": {},
   "source": [
    "We can see that the estimated mean squared error is 16.65, close to our estimate of 12.07."
   ]
  },
  {
   "cell_type": "markdown",
   "metadata": {},
   "source": [
    "# Deliver the solution to customer"
   ]
  },
  {
   "cell_type": "code",
   "execution_count": 90,
   "metadata": {},
   "outputs": [],
   "source": [
    "import pickle"
   ]
  },
  {
   "cell_type": "code",
   "execution_count": 91,
   "metadata": {},
   "outputs": [],
   "source": [
    "file_Name = \"BostonHousePricePredictionSolution\"\n",
    "# open the file for writing\n",
    "fileObject = open(file_Name,'wb') "
   ]
  },
  {
   "cell_type": "code",
   "execution_count": 92,
   "metadata": {},
   "outputs": [],
   "source": [
    "# this writes the object model to the file named 'BostonHousePricePredictionSolution'\n",
    "pickle.dump(model,fileObject)   "
   ]
  },
  {
   "cell_type": "code",
   "execution_count": 93,
   "metadata": {},
   "outputs": [],
   "source": [
    "# Close the fileObject\n",
    "fileObject.close()"
   ]
  },
  {
   "cell_type": "code",
   "execution_count": 99,
   "metadata": {},
   "outputs": [],
   "source": [
    "# we open the file for reading\n",
    "fileObject = open('BostonHousePricePredictionSolution','rb')  \n",
    "# load the object from the file into var b\n",
    "reloadedModel = pickle.load(fileObject)  "
   ]
  },
  {
   "cell_type": "code",
   "execution_count": 100,
   "metadata": {},
   "outputs": [
    {
     "name": "stdout",
     "output_type": "stream",
     "text": [
      "18.397531200787405\n"
     ]
    }
   ],
   "source": [
    "rescaledValidationX = scaler.transform(X_validation)\n",
    "predictions = reloadedModel.predict(rescaledValidationX)\n",
    "print(mean_squared_error(Y_validation, predictions))"
   ]
  },
  {
   "cell_type": "code",
   "execution_count": 101,
   "metadata": {},
   "outputs": [],
   "source": [
    "newDataPoint = pd.DataFrame({'CRIM':[3.8497], 'ZN':[0.0], 'INDUS':[18.1], 'CHAS':[1], 'NOX':[0.77], 'RM':[6.395], \n",
    "                            'AGE':[1.0], 'DIS':[2.5052], 'RAD':[24], 'TAX':[666.0], 'PTRATIO':[20.2],'B':[391.34], \n",
    "                            'LSTAT':[13.27]})"
   ]
  },
  {
   "cell_type": "code",
   "execution_count": 102,
   "metadata": {},
   "outputs": [
    {
     "data": {
      "text/plain": [
       "array([31.7325])"
      ]
     },
     "execution_count": 102,
     "metadata": {},
     "output_type": "execute_result"
    }
   ],
   "source": [
    "reloadedModel.predict(newDataPoint)"
   ]
  },
  {
   "cell_type": "markdown",
   "metadata": {},
   "source": [
    "# What is missing here? Any mistakes? "
   ]
  },
  {
   "cell_type": "code",
   "execution_count": 37,
   "metadata": {
    "collapsed": true
   },
   "outputs": [],
   "source": [
    "file_Name1 = \"scalers\"\n",
    "# open the file for writing\n",
    "fileObject1 = open(file_Name1,'wb') \n",
    "# this writes the object model to the file named 'BostonHousePricePredictionSolution'\n",
    "pickle.dump(scaler,fileObject1)   \n",
    "# Close the fileObject\n",
    "fileObject1.close()\n",
    "# we open the file for reading\n",
    "fileObject1 = open('scalers','rb')  \n",
    "# load the object from the file into var b\n",
    "reloadedScalers = pickle.load(fileObject1)  "
   ]
  },
  {
   "cell_type": "code",
   "execution_count": 38,
   "metadata": {},
   "outputs": [
    {
     "data": {
      "text/plain": [
       "array([47.59])"
      ]
     },
     "execution_count": 38,
     "metadata": {},
     "output_type": "execute_result"
    }
   ],
   "source": [
    "scaledNewDataPoint = reloadedScalers.transform(newDataPoint)\n",
    "reloadedModel.predict(scaledNewDataPoint)"
   ]
  },
  {
   "cell_type": "markdown",
   "metadata": {},
   "source": [
    "# Summary"
   ]
  },
  {
   "cell_type": "markdown",
   "metadata": {},
   "source": [
    "In this case study, we worked through a regression predictive modeling machine learning problem from end-to-end using Python. Specifically, the steps covered were:\n",
    "\n",
    "1. Problem Definition (Boston house price data)\n",
    "2. Loading the Dataset\n",
    "3. Analyze Data (some skewed distributions and correlated attributes)\n",
    "4. Evaluate Algorithms (Linear Regression looked good)\n",
    "5. Evaluate Algorithms with Standardization (KNN looked good)\n",
    "6. Algorithm Tuning (K=3 for KNN was best)\n",
    "7. Ensemble Methods (Bagging and Boosting, Random Forest looked good)\n",
    "8. Tuning Ensemble Methods (getting the most from Random Forest)\n",
    "9. Finalize Model (use all training data and confirm using validation dataset).\n",
    "\n",
    "Working through this case study showed us how the recipes for specific machine learning tasks can be pulled together into a complete project. \n",
    "\n",
    "Working through this case study is good practice at applied machine learning using Python and scikit-learn."
   ]
  },
  {
   "cell_type": "code",
   "execution_count": null,
   "metadata": {
    "collapsed": true
   },
   "outputs": [],
   "source": []
  }
 ],
 "metadata": {
  "kernelspec": {
   "display_name": "Python 3",
   "language": "python",
   "name": "python3"
  },
  "language_info": {
   "codemirror_mode": {
    "name": "ipython",
    "version": 3
   },
   "file_extension": ".py",
   "mimetype": "text/x-python",
   "name": "python",
   "nbconvert_exporter": "python",
   "pygments_lexer": "ipython3",
   "version": "3.6.5"
  }
 },
 "nbformat": 4,
 "nbformat_minor": 2
}
