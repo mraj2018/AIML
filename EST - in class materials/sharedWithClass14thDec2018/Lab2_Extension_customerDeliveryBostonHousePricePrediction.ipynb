{
 "cells": [
  {
   "cell_type": "code",
   "execution_count": null,
   "metadata": {},
   "outputs": [],
   "source": [
    "import pandas as pd\n",
    "import pickle\n",
    "# we open the file for reading\n",
    "fileObject1 = open('scalers','rb')  \n",
    "# load the object from the file into var b\n",
    "reloadedScalers = pickle.load(fileObject1)  \n",
    "\n",
    "# we open the file for reading\n",
    "fileObject = open('BostonHousePricePredictionSolution','rb')  \n",
    "# load the object from the file into var b\n",
    "reloadedModel = pickle.load(fileObject)  "
   ]
  },
  {
   "cell_type": "code",
   "execution_count": null,
   "metadata": {},
   "outputs": [],
   "source": [
    "def myCustomerFunction(age=20, lstat = 3.84):\n",
    "    newDataPoint2 = pd.DataFrame({'CRIM':[3.84], 'ZN':[0.0], 'INDUS':[18.1], \n",
    "                                  'CHAS':[1], 'NOX':[0.77], 'RM':[6.395],\n",
    "                                  'AGE':[age], 'DIS':[2.5052], 'RAD':[24], \n",
    "                                  'TAX':[666.0], 'PTRATIO':[20.2],'B':[391.34],\n",
    "                                  'LSTAT':[lstat]})\n",
    "    scaledNewDataPoint2 = reloadedScalers.transform(newDataPoint2)\n",
    "    return (reloadedModel.predict(scaledNewDataPoint2))"
   ]
  },
  {
   "cell_type": "code",
   "execution_count": null,
   "metadata": {},
   "outputs": [],
   "source": [
    "age = input()\n",
    "lstat = input()\n",
    "myCustomerFunction(age, lstat)"
   ]
  },
  {
   "cell_type": "code",
   "execution_count": null,
   "metadata": {},
   "outputs": [],
   "source": []
  },
  {
   "cell_type": "code",
   "execution_count": null,
   "metadata": {},
   "outputs": [],
   "source": []
  }
 ],
 "metadata": {
  "kernelspec": {
   "display_name": "Python 3",
   "language": "python",
   "name": "python3"
  },
  "language_info": {
   "codemirror_mode": {
    "name": "ipython",
    "version": 3
   },
   "file_extension": ".py",
   "mimetype": "text/x-python",
   "name": "python",
   "nbconvert_exporter": "python",
   "pygments_lexer": "ipython3",
   "version": "3.6.5"
  }
 },
 "nbformat": 4,
 "nbformat_minor": 2
}
