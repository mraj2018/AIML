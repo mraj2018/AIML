{
 "cells": [
  {
   "cell_type": "markdown",
   "metadata": {},
   "source": [
    " The Titan Insurance Company has just installed a new incentive payment scheme for its lift policy sales force. It wants to have an early view of the success or failure of the new scheme. Indications are that the sales force is selling more policies, but sales always vary in an unpredictable pattern from month to month and it is not clear that the scheme has made a significant difference.\n",
    "\n",
    "Life Insurance companies typically measure the monthly output of a salesperson as the total sum assured for the policies sold by that person during the month. For example, suppose salesperson X has, in the month, sold seven policies for which the sums assured are £1000, £2500, £3000, £5000, £10000, £35000. X's output for the month is the total of these sums assured, £61,500. Titan's new scheme is that the sales force receives low regular salaries but are paid large bonuses related to their output (i.e. to the total sum assured of policies sold by them). The scheme is expensive for the company, but they are looking for sales increases which more than compensate. The agreement with the sales force is that if the scheme does not at least break even for the company, it will be abandoned after six months.\n",
    "\n",
    "The scheme has now been in operation for four months. It has settled down after fluctuations in the first two months due to the changeover.\n",
    "\n",
    "To test the effectiveness of the scheme, Titan have taken a random sample of 30 salespeople measured their output in the penultimate month prior to changeover and then measured it in the fourth month after the changeover (they have deliberately chosen months not too close to the changeover).\n"
   ]
  },
  {
   "cell_type": "markdown",
   "metadata": {},
   "source": [
    "\n",
    "# Questions\n",
    "\n",
    "    1. Find the mean of old scheme and new scheme column. (5 points)\n",
    "    \n",
    "    2. Use the five percent significance test over the data to determine the p value to check new scheme has significantly raised outputs? (10 points)\n",
    "    \n",
    "    3. What conclusion does the test (p-value) lead to? (2.5 points)\n",
    "    \n",
    "    4. Suppose it has been calculated that in order for Titan to break even, the average output must increase by £5000 in the scheme compared to the old scheme. If this figure is alternative hypothesis, what is:\n",
    "\n",
    "        a) The probability of a type 1 error? (2.5 points)\n",
    "\n",
    "        b) What is the p- value of the hypothesis test if we test for a difference of $5000? (10 points)\n",
    "\n",
    "        c) Power of the test (5 points)"
   ]
  },
  {
   "cell_type": "code",
   "execution_count": 106,
   "metadata": {},
   "outputs": [
    {
     "name": "stdout",
     "output_type": "stream",
     "text": [
      "Old Scheme Mean 68.03333333333333\n",
      "New Scheme Mean 72.03333333333333\n",
      "Old Scheme Standard Deviation 20.455980212074454\n",
      "New Scheme Standard Deviation 24.062394946777697\n"
     ]
    }
   ],
   "source": [
    "import pandas as pd\n",
    "import seaborn as sns\n",
    "import numpy as np\n",
    "from scipy.stats import ttest_ind, ttest_1samp,wilcoxon,levene\n",
    "from statsmodels.stats.power import ttest_power\n",
    "df = pd.read_csv('Titan_Insurance.csv')\n",
    "\n",
    "\n",
    "print(\"Old Scheme Mean\", df['Old Scheme'].mean() )\n",
    "print(\"New Scheme Mean\", df['New Scheme'].mean() )\n",
    "\n",
    "print(\"Old Scheme Standard Deviation\", df['Old Scheme'].std() )\n",
    "print(\"New Scheme Standard Deviation\", df['New Scheme'].std() )\n"
   ]
  },
  {
   "cell_type": "code",
   "execution_count": 107,
   "metadata": {},
   "outputs": [
    {
     "data": {
      "text/plain": [
       "LeveneResult(statistic=1.063061539437244, pvalue=0.30679836081811235)"
      ]
     },
     "execution_count": 107,
     "metadata": {},
     "output_type": "execute_result"
    }
   ],
   "source": [
    "# For checking equality of variance between groups\n",
    "# Null Hypothesis: Variances are equal\n",
    "levene(df['Old Scheme'],df['New Scheme'])"
   ]
  },
  {
   "cell_type": "code",
   "execution_count": 108,
   "metadata": {},
   "outputs": [
    {
     "name": "stdout",
     "output_type": "stream",
     "text": [
      "Statistics=-1.556, p=0.131\n",
      "Mean of the New scheme is equal or lesser than Old (fail to reject H0)\n"
     ]
    }
   ],
   "source": [
    "#2. Use the five percent significance test over the data to determine the p value to check new scheme has \n",
    "# significantly raised outputs? (10 points)\n",
    "\n",
    "# H0 - > Mean of New scheme is equal or lesser than Old Scheme\n",
    "#HA - > Mean of new scheme is not equal or greater than Old scheme\n",
    "\n",
    "stat, p = ttest_1samp(df['Old Scheme'] - df['New Scheme'],0)\n",
    "\n",
    "\n",
    "print('Statistics=%.3f, p=%.3f' % (stat, p))\n",
    "\n",
    "\n",
    "# interpret\n",
    "alpha = 0.05\n",
    "if p > alpha:\n",
    "\tprint('Mean of the New scheme is equal or lesser than Old (fail to reject H0)')\n",
    "else:\n",
    "\tprint('Mean of the new scheme is greater (reject H0)')"
   ]
  },
  {
   "cell_type": "markdown",
   "metadata": {},
   "source": [
    "# 3. What conclusion does the test (p-value) lead to? (2.5 points)\n",
    "\n",
    "Since P value is greater than Significance level (Alpha) we fail to reject the nul hypothesis.The samples are not sufficient"
   ]
  },
  {
   "cell_type": "markdown",
   "metadata": {},
   "source": [
    "# 4. Suppose it has been calculated that in order for Titan to break even, \n",
    "# the average output must increase by £5000 in the scheme compared to the old scheme.\n",
    "\n",
    "\n",
    "a) Probability of Type 1 error : \n",
    "\n",
    "When data under test satifies the null hypothesis condition but still the decision is made to reject the hypothesis.\n"
   ]
  },
  {
   "cell_type": "markdown",
   "metadata": {},
   "source": [
    "b) What is the p- value of the hypothesis test if we test for a difference of $5000?\n",
    "\n",
    "Null Hypothesis -> expected value is difference of 5000"
   ]
  },
  {
   "cell_type": "code",
   "execution_count": 91,
   "metadata": {},
   "outputs": [
    {
     "name": "stdout",
     "output_type": "stream",
     "text": [
      "-0.3889785955886094 0.7001334912613286\n",
      "expected value is difference of 5000 (fail to reject H0)\n"
     ]
    },
    {
     "data": {
      "text/plain": [
       "4.0"
      ]
     },
     "execution_count": 91,
     "metadata": {},
     "output_type": "execute_result"
    }
   ],
   "source": [
    "t_statistic, p_value = ttest_1samp(df['New Scheme']-df['Old Scheme'], 5)\n",
    "\n",
    "print(t_statistic,p_value)\n",
    "\n",
    "alpha = 0.05\n",
    "\n",
    "if p_value > alpha:\n",
    "    print('expected value is difference of 5000 (fail to reject H0)')\n",
    "else:\n",
    "    print('difference not equal to 5000 (reject H0)')\n",
    "\n",
    "# p-value is greater than 0.05. Hence we fail to reject this hypothesis\n"
   ]
  },
  {
   "cell_type": "markdown",
   "metadata": {},
   "source": [
    "c) Power of the test (5 points)"
   ]
  },
  {
   "cell_type": "code",
   "execution_count": 109,
   "metadata": {},
   "outputs": [
    {
     "data": {
      "text/plain": [
       "0.18217632044690082"
      ]
     },
     "execution_count": 109,
     "metadata": {},
     "output_type": "execute_result"
    }
   ],
   "source": [
    "# Calculate Power of test\n",
    "\n",
    "POT = (np.mean(df['New Scheme']) - np.mean( df['Old Scheme'])) / np.sqrt(((30-1)*np.var(df['New Scheme'])+(30-1)*np.var( df['Old Scheme']))/(30+30-2))\n",
    "\n",
    "POT"
   ]
  },
  {
   "cell_type": "code",
   "execution_count": 102,
   "metadata": {},
   "outputs": [
    {
     "name": "stdout",
     "output_type": "stream",
     "text": [
      "0.2513461733285245\n"
     ]
    }
   ],
   "source": [
    "print(ttest_power(POT, nobs=30, alpha=0.05, alternative='larger'))"
   ]
  },
  {
   "cell_type": "code",
   "execution_count": null,
   "metadata": {},
   "outputs": [],
   "source": []
  }
 ],
 "metadata": {
  "kernelspec": {
   "display_name": "Python 3",
   "language": "python",
   "name": "python3"
  },
  "language_info": {
   "codemirror_mode": {
    "name": "ipython",
    "version": 3
   },
   "file_extension": ".py",
   "mimetype": "text/x-python",
   "name": "python",
   "nbconvert_exporter": "python",
   "pygments_lexer": "ipython3",
   "version": "3.6.5"
  }
 },
 "nbformat": 4,
 "nbformat_minor": 2
}
