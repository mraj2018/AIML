{
  "nbformat": 4,
  "nbformat_minor": 0,
  "metadata": {
    "colab": {
      "name": "R8_External_Lab_Questions.ipynb",
      "version": "0.3.2",
      "provenance": [],
      "collapsed_sections": [],
      "include_colab_link": true
    },
    "kernelspec": {
      "name": "python3",
      "display_name": "Python 3"
    },
    "accelerator": "GPU"
  },
  "cells": [
    {
      "cell_type": "markdown",
      "metadata": {
        "id": "view-in-github",
        "colab_type": "text"
      },
      "source": [
        "<a href=\"https://colab.research.google.com/github/mraj2018/AIML/blob/master/R8_External_Lab_Questions.ipynb\" target=\"_parent\"><img src=\"https://colab.research.google.com/assets/colab-badge.svg\" alt=\"Open In Colab\"/></a>"
      ]
    },
    {
      "metadata": {
        "colab_type": "text",
        "id": "QGIsF1ADyJ58"
      },
      "cell_type": "markdown",
      "source": [
        "# Transfer Learning CIFAR10"
      ]
    },
    {
      "metadata": {
        "colab_type": "text",
        "id": "E-n6tVFayGBe"
      },
      "cell_type": "markdown",
      "source": [
        "* Train a simple convnet on the CIFAR dataset the first 5 output classes [0..4].\n",
        "* Freeze convolutional layers and fine-tune dense layers for the last 5 ouput classes [5..9].\n"
      ]
    },
    {
      "metadata": {
        "colab_type": "code",
        "id": "uWYbxnBayFUP",
        "colab": {}
      },
      "cell_type": "code",
      "source": [
        "#Importing important modules\n",
        "import keras\n",
        "import numpy as np\n",
        "import keras.utils as np_utils\n",
        "from keras.datasets import mnist\n",
        "from keras.models import Sequential\n",
        "from keras.layers import Dense, Dropout, Flatten\n",
        "from keras.layers import Conv2D, MaxPooling2D,Activation\n",
        "from keras.datasets import cifar10"
      ],
      "execution_count": 0,
      "outputs": []
    },
    {
      "metadata": {
        "colab_type": "text",
        "id": "Cq8ejXHJyGYq"
      },
      "cell_type": "markdown",
      "source": [
        "### 1. Import CIFAR10 data and create 2 datasets with one dataset having classes from 0 to 4 and other having classes from 5 to 9 "
      ]
    },
    {
      "metadata": {
        "id": "o2M5pTAI_cPn",
        "colab_type": "code",
        "outputId": "ff7556ea-3a3f-4e6b-f454-d5030130f1d1",
        "colab": {
          "base_uri": "https://localhost:8080/",
          "height": 34
        }
      },
      "cell_type": "code",
      "source": [
        "(x_train, y_train), (x_test, y_test) = cifar10.load_data()\n",
        "\n",
        "print(y_train.shape[0],y_test.shape[0])"
      ],
      "execution_count": 0,
      "outputs": [
        {
          "output_type": "stream",
          "text": [
            "50000 10000\n"
          ],
          "name": "stdout"
        }
      ]
    },
    {
      "metadata": {
        "id": "OaTS7mh2_cQB",
        "colab_type": "code",
        "outputId": "76620914-5ebe-491a-88ba-d10fab860bc8",
        "colab": {
          "base_uri": "https://localhost:8080/",
          "height": 51
        }
      },
      "cell_type": "code",
      "source": [
        "x_train04 = []\n",
        "x_test04 = []\n",
        "x_train59 = []\n",
        "x_test59 = []\n",
        "y_train04 = []\n",
        "y_test04 = []\n",
        "y_train59 = []\n",
        "y_test59 = []\n",
        "\n",
        "for ix in range(y_train.shape[0]):\n",
        "    if y_train[ix] < 5:\n",
        "        # put data in set 1\n",
        "        x_train04.append(x_train[ix]/255.0)\n",
        "        y_train04.append(y_train[ix])\n",
        "    else:\n",
        "        # put data in set 2\n",
        "        x_train59.append(x_train[ix]/255.0)\n",
        "        y_train59.append(y_train[ix])\n",
        "\n",
        "for ix in range(y_test.shape[0]):\n",
        "    if y_test[ix] < 5:\n",
        "        # put data in set 1\n",
        "        x_test04.append(x_test[ix]/255.0)\n",
        "        y_test04.append(y_test[ix])\n",
        "    else:\n",
        "        # put data in set 2\n",
        "        x_test59.append(x_test[ix]/255.0)\n",
        "        y_test59.append(y_test[ix])\n",
        "\n",
        "\n",
        "x_train04 = np.asarray(x_train04).reshape((-1, 32, 32, 3))\n",
        "x_test04 = np.asarray(x_test04).reshape((-1, 32, 32, 3))\n",
        "x_train59 = np.asarray(x_train59).reshape((-1, 32, 32, 3))\n",
        "x_test59 = np.asarray(x_test59).reshape((-1, 32, 32, 3))\n",
        "\n",
        "print(x_train04.shape,x_test04.shape)\n",
        "print(x_train59.shape ,x_test59.shape)\n"
      ],
      "execution_count": 0,
      "outputs": [
        {
          "output_type": "stream",
          "text": [
            "(25000, 32, 32, 3) (5000, 32, 32, 3)\n",
            "(25000, 32, 32, 3) (5000, 32, 32, 3)\n"
          ],
          "name": "stdout"
        }
      ]
    },
    {
      "metadata": {
        "colab_type": "text",
        "id": "xtCKmQh4yXhT"
      },
      "cell_type": "markdown",
      "source": [
        "### 2. Use One-hot encoding to divide y_train and y_test into required no of output classes"
      ]
    },
    {
      "metadata": {
        "colab_type": "code",
        "id": "uN5O2kJ3yYa6",
        "colab": {}
      },
      "cell_type": "code",
      "source": [
        "y_train04 = np_utils.to_categorical(np.asarray(y_train04),5)\n",
        "y_test04 = np_utils.to_categorical(np.asarray(y_test04), 5)\n",
        "\n",
        "y_train59= np.asarray(y_train59)-5\n",
        "y_test59= np.asarray(y_test59)-5\n",
        "y_train59 = np_utils.to_categorical(y_train59,5)\n",
        "y_test59 = np_utils.to_categorical(y_test59, 5)"
      ],
      "execution_count": 0,
      "outputs": []
    },
    {
      "metadata": {
        "colab_type": "text",
        "id": "cuOiKWfeybAl"
      },
      "cell_type": "markdown",
      "source": [
        "### 3. Build a sequential neural network model which can classify the classes 0 to 4 of CIFAR10 dataset with at least 80% accuracy on test data"
      ]
    },
    {
      "metadata": {
        "colab_type": "code",
        "id": "5HzxNbiiyoBD",
        "outputId": "8a37924e-4f61-4f37-dba9-befc3c68c183",
        "colab": {
          "base_uri": "https://localhost:8080/",
          "height": 1108
        }
      },
      "cell_type": "code",
      "source": [
        "model = Sequential()\n",
        "\n",
        "model.add(Conv2D(32, 3, 3, input_shape=(32, 32, 3), activation='relu'))\n",
        "model.add(Conv2D(32, 3, 3, activation='relu'))\n",
        "model.add(MaxPooling2D(pool_size=(2,2)))\n",
        "\n",
        "model.add(Dropout(0.25))\n",
        "\n",
        "model.add(Conv2D(64, (3, 3), padding='same'))\n",
        "model.add(Activation('relu'))\n",
        "model.add(Conv2D(64, (3, 3)))\n",
        "model.add(Activation('relu'))\n",
        "model.add(MaxPooling2D(pool_size=(2, 2)))\n",
        "model.add(Dropout(0.25))\n",
        "\n",
        "\n",
        "model.add(Flatten())\n",
        "#model.add(Dropout(0.25))\n",
        "\n",
        "\n",
        "model.add(Dense(256))\n",
        "model.add(Activation('relu'))\n",
        "\n",
        "model.add(Dense(5))\n",
        "model.add(Activation('softmax'))\n",
        "\n",
        "model.summary()\n",
        "model.compile(loss='categorical_crossentropy', optimizer='adam', metrics=['accuracy'])\n",
        "model.fit(x_train04, y_train04,\n",
        "         epochs=10,\n",
        "         batch_size=32,\n",
        "         validation_data=(x_test04, y_test04))"
      ],
      "execution_count": 0,
      "outputs": [
        {
          "output_type": "stream",
          "text": [
            "/usr/local/lib/python3.6/dist-packages/ipykernel_launcher.py:3: UserWarning: Update your `Conv2D` call to the Keras 2 API: `Conv2D(32, (3, 3), input_shape=(32, 32, 3..., activation=\"relu\")`\n",
            "  This is separate from the ipykernel package so we can avoid doing imports until\n",
            "/usr/local/lib/python3.6/dist-packages/ipykernel_launcher.py:4: UserWarning: Update your `Conv2D` call to the Keras 2 API: `Conv2D(32, (3, 3), activation=\"relu\")`\n",
            "  after removing the cwd from sys.path.\n"
          ],
          "name": "stderr"
        },
        {
          "output_type": "stream",
          "text": [
            "_________________________________________________________________\n",
            "Layer (type)                 Output Shape              Param #   \n",
            "=================================================================\n",
            "conv2d_9 (Conv2D)            (None, 30, 30, 32)        896       \n",
            "_________________________________________________________________\n",
            "conv2d_10 (Conv2D)           (None, 28, 28, 32)        9248      \n",
            "_________________________________________________________________\n",
            "max_pooling2d_5 (MaxPooling2 (None, 14, 14, 32)        0         \n",
            "_________________________________________________________________\n",
            "dropout_5 (Dropout)          (None, 14, 14, 32)        0         \n",
            "_________________________________________________________________\n",
            "conv2d_11 (Conv2D)           (None, 14, 14, 64)        18496     \n",
            "_________________________________________________________________\n",
            "activation_13 (Activation)   (None, 14, 14, 64)        0         \n",
            "_________________________________________________________________\n",
            "conv2d_12 (Conv2D)           (None, 12, 12, 64)        36928     \n",
            "_________________________________________________________________\n",
            "activation_14 (Activation)   (None, 12, 12, 64)        0         \n",
            "_________________________________________________________________\n",
            "max_pooling2d_6 (MaxPooling2 (None, 6, 6, 64)          0         \n",
            "_________________________________________________________________\n",
            "dropout_6 (Dropout)          (None, 6, 6, 64)          0         \n",
            "_________________________________________________________________\n",
            "flatten_3 (Flatten)          (None, 2304)              0         \n",
            "_________________________________________________________________\n",
            "dense_9 (Dense)              (None, 256)               590080    \n",
            "_________________________________________________________________\n",
            "activation_15 (Activation)   (None, 256)               0         \n",
            "_________________________________________________________________\n",
            "dense_10 (Dense)             (None, 5)                 1285      \n",
            "_________________________________________________________________\n",
            "activation_16 (Activation)   (None, 5)                 0         \n",
            "=================================================================\n",
            "Total params: 656,933\n",
            "Trainable params: 656,933\n",
            "Non-trainable params: 0\n",
            "_________________________________________________________________\n",
            "Train on 25000 samples, validate on 5000 samples\n",
            "Epoch 1/10\n",
            "25000/25000 [==============================] - 12s 482us/step - loss: 1.0372 - acc: 0.5688 - val_loss: 0.8707 - val_acc: 0.6358\n",
            "Epoch 2/10\n",
            "25000/25000 [==============================] - 11s 447us/step - loss: 0.7774 - acc: 0.6968 - val_loss: 0.6894 - val_acc: 0.7378\n",
            "Epoch 3/10\n",
            "25000/25000 [==============================] - 11s 442us/step - loss: 0.6461 - acc: 0.7531 - val_loss: 0.6109 - val_acc: 0.7658\n",
            "Epoch 4/10\n",
            "25000/25000 [==============================] - 11s 444us/step - loss: 0.5610 - acc: 0.7875 - val_loss: 0.5538 - val_acc: 0.7900\n",
            "Epoch 5/10\n",
            "25000/25000 [==============================] - 11s 446us/step - loss: 0.4957 - acc: 0.8125 - val_loss: 0.5631 - val_acc: 0.7924\n",
            "Epoch 6/10\n",
            "25000/25000 [==============================] - 11s 443us/step - loss: 0.4463 - acc: 0.8314 - val_loss: 0.5020 - val_acc: 0.8080\n",
            "Epoch 7/10\n",
            "25000/25000 [==============================] - 11s 446us/step - loss: 0.3935 - acc: 0.8520 - val_loss: 0.5232 - val_acc: 0.8114\n",
            "Epoch 8/10\n",
            "25000/25000 [==============================] - 11s 442us/step - loss: 0.3560 - acc: 0.8678 - val_loss: 0.5336 - val_acc: 0.8134\n",
            "Epoch 9/10\n",
            "25000/25000 [==============================] - 11s 446us/step - loss: 0.3165 - acc: 0.8819 - val_loss: 0.5407 - val_acc: 0.8162\n",
            "Epoch 10/10\n",
            "25000/25000 [==============================] - 11s 446us/step - loss: 0.2805 - acc: 0.8970 - val_loss: 0.5372 - val_acc: 0.8182\n"
          ],
          "name": "stdout"
        },
        {
          "output_type": "execute_result",
          "data": {
            "text/plain": [
              "<keras.callbacks.History at 0x7fb2b5447d30>"
            ]
          },
          "metadata": {
            "tags": []
          },
          "execution_count": 40
        }
      ]
    },
    {
      "metadata": {
        "colab_type": "text",
        "id": "woTfNst_ynRG"
      },
      "cell_type": "markdown",
      "source": [
        "### 4. In the model which was built above (for classification of classes 0-4 in CIFAR10), make only the dense layers to be trainable and conv layers to be non-trainable"
      ]
    },
    {
      "metadata": {
        "colab_type": "code",
        "id": "o_VCDB3Byb1a",
        "colab": {}
      },
      "cell_type": "code",
      "source": [
        "#Freezing layers in the model which don't have 'dense' in their name\n",
        "for layer in model.layers:\n",
        "  if('dense' not in layer.name): #prefix detection to freeze layers which does not have dense\n",
        "    #Freezing a layer\n",
        "    layer.trainable = False"
      ],
      "execution_count": 0,
      "outputs": []
    },
    {
      "metadata": {
        "colab_type": "text",
        "id": "1-uUPqWpyeyX"
      },
      "cell_type": "markdown",
      "source": [
        "### 5. Utilize the the model trained on CIFAR 10 (classes 0 to 4) to classify the classes 5 to 9 of CIFAR 10  (Use Transfer Learning) <br>\n",
        "Achieve an accuracy of more than 85% on test data"
      ]
    },
    {
      "metadata": {
        "colab_type": "code",
        "id": "szHjJgDvyfCt",
        "outputId": "17e01576-d2bc-4507-c934-11f22d68d43d",
        "colab": {
          "base_uri": "https://localhost:8080/",
          "height": 391
        }
      },
      "cell_type": "code",
      "source": [
        "\n",
        "\n",
        "model.compile(loss='categorical_crossentropy',\n",
        "              optimizer='adam',\n",
        "              metrics=['accuracy'])\n",
        "\n",
        "model.fit(x_train59, y_train59,\n",
        "          batch_size=32,\n",
        "          epochs=10,\n",
        "          verbose=1,\n",
        "          validation_data=(x_test59, y_test59))"
      ],
      "execution_count": 0,
      "outputs": [
        {
          "output_type": "stream",
          "text": [
            "Train on 25000 samples, validate on 5000 samples\n",
            "Epoch 1/10\n",
            "25000/25000 [==============================] - 7s 284us/step - loss: 0.8094 - acc: 0.7341 - val_loss: 0.4585 - val_acc: 0.8352\n",
            "Epoch 2/10\n",
            "25000/25000 [==============================] - 7s 265us/step - loss: 0.4383 - acc: 0.8424 - val_loss: 0.4133 - val_acc: 0.8534\n",
            "Epoch 3/10\n",
            "25000/25000 [==============================] - 7s 268us/step - loss: 0.3767 - acc: 0.8627 - val_loss: 0.3900 - val_acc: 0.8564\n",
            "Epoch 4/10\n",
            "25000/25000 [==============================] - 7s 264us/step - loss: 0.3288 - acc: 0.8806 - val_loss: 0.3821 - val_acc: 0.8608\n",
            "Epoch 5/10\n",
            "25000/25000 [==============================] - 7s 265us/step - loss: 0.2902 - acc: 0.8918 - val_loss: 0.3861 - val_acc: 0.8642\n",
            "Epoch 6/10\n",
            "25000/25000 [==============================] - 7s 264us/step - loss: 0.2566 - acc: 0.9077 - val_loss: 0.3796 - val_acc: 0.8672\n",
            "Epoch 7/10\n",
            "25000/25000 [==============================] - 7s 264us/step - loss: 0.2223 - acc: 0.9189 - val_loss: 0.3833 - val_acc: 0.8662\n",
            "Epoch 8/10\n",
            "25000/25000 [==============================] - 7s 264us/step - loss: 0.1931 - acc: 0.9309 - val_loss: 0.3815 - val_acc: 0.8690\n",
            "Epoch 9/10\n",
            "25000/25000 [==============================] - 7s 266us/step - loss: 0.1682 - acc: 0.9384 - val_loss: 0.3918 - val_acc: 0.8722\n",
            "Epoch 10/10\n",
            "25000/25000 [==============================] - 7s 264us/step - loss: 0.1512 - acc: 0.9447 - val_loss: 0.4115 - val_acc: 0.8704\n"
          ],
          "name": "stdout"
        },
        {
          "output_type": "execute_result",
          "data": {
            "text/plain": [
              "<keras.callbacks.History at 0x7fb2b582a400>"
            ]
          },
          "metadata": {
            "tags": []
          },
          "execution_count": 42
        }
      ]
    },
    {
      "metadata": {
        "colab_type": "text",
        "id": "0zDuRecXzEtr"
      },
      "cell_type": "markdown",
      "source": [
        "# Text classification using TF-IDF"
      ]
    },
    {
      "metadata": {
        "colab_type": "text",
        "id": "xMPlEJhHzb6P"
      },
      "cell_type": "markdown",
      "source": [
        "### 6. Load the dataset from sklearn.datasets"
      ]
    },
    {
      "metadata": {
        "colab_type": "code",
        "id": "Fe-B59u3zHNb",
        "colab": {}
      },
      "cell_type": "code",
      "source": [
        "from sklearn.datasets import fetch_20newsgroups"
      ],
      "execution_count": 0,
      "outputs": []
    },
    {
      "metadata": {
        "colab_type": "code",
        "id": "PRrMemVQzbHU",
        "colab": {}
      },
      "cell_type": "code",
      "source": [
        "categories = ['alt.atheism', 'soc.religion.christian', 'comp.graphics', 'sci.med']"
      ],
      "execution_count": 0,
      "outputs": []
    },
    {
      "metadata": {
        "colab_type": "text",
        "id": "-sZX0UbJzmg5"
      },
      "cell_type": "markdown",
      "source": [
        "### 7. Training data"
      ]
    },
    {
      "metadata": {
        "colab_type": "code",
        "id": "CITr_5aXziJ2",
        "colab": {}
      },
      "cell_type": "code",
      "source": [
        "twenty_train = fetch_20newsgroups(subset='train', categories=categories, shuffle=True, random_state=42)"
      ],
      "execution_count": 0,
      "outputs": []
    },
    {
      "metadata": {
        "colab_type": "text",
        "id": "xcESc5QXzr6p"
      },
      "cell_type": "markdown",
      "source": [
        "### 8. Test data"
      ]
    },
    {
      "metadata": {
        "colab_type": "code",
        "id": "ysInblUMzpvl",
        "colab": {}
      },
      "cell_type": "code",
      "source": [
        "twenty_test = fetch_20newsgroups(subset='test', categories=categories, shuffle=True, random_state=42)"
      ],
      "execution_count": 0,
      "outputs": []
    },
    {
      "metadata": {
        "colab_type": "text",
        "id": "DriL2yZ50DQq"
      },
      "cell_type": "markdown",
      "source": [
        "###  a.  You can access the values for the target variable using .target attribute \n",
        "###  b. You can access the name of the class in the target variable with .target_names\n"
      ]
    },
    {
      "metadata": {
        "colab_type": "code",
        "id": "vlUuai99z1hX",
        "outputId": "db5ed34d-f8a0-4b3a-99cc-9a0f9726762d",
        "colab": {
          "base_uri": "https://localhost:8080/",
          "height": 34
        }
      },
      "cell_type": "code",
      "source": [
        "twenty_train.target"
      ],
      "execution_count": 0,
      "outputs": [
        {
          "output_type": "execute_result",
          "data": {
            "text/plain": [
              "array([1, 1, 3, ..., 2, 2, 2])"
            ]
          },
          "metadata": {
            "tags": []
          },
          "execution_count": 54
        }
      ]
    },
    {
      "metadata": {
        "colab_type": "code",
        "id": "VEKzaDfSz5E-",
        "outputId": "8453265c-d14c-4f46-8d9f-d6e17d61f1f2",
        "colab": {
          "base_uri": "https://localhost:8080/",
          "height": 34
        }
      },
      "cell_type": "code",
      "source": [
        "twenty_train.target_names"
      ],
      "execution_count": 0,
      "outputs": [
        {
          "output_type": "execute_result",
          "data": {
            "text/plain": [
              "['alt.atheism', 'comp.graphics', 'sci.med', 'soc.religion.christian']"
            ]
          },
          "metadata": {
            "tags": []
          },
          "execution_count": 55
        }
      ]
    },
    {
      "metadata": {
        "colab_type": "code",
        "id": "clBMKHzC0_N1",
        "outputId": "fd825972-d54f-434a-90a8-4e1d88b522ca",
        "colab": {
          "base_uri": "https://localhost:8080/",
          "height": 122
        }
      },
      "cell_type": "code",
      "source": [
        "twenty_train.data[0:5]"
      ],
      "execution_count": 0,
      "outputs": [
        {
          "output_type": "execute_result",
          "data": {
            "text/plain": [
              "['From: sd345@city.ac.uk (Michael Collier)\\nSubject: Converting images to HP LaserJet III?\\nNntp-Posting-Host: hampton\\nOrganization: The City University\\nLines: 14\\n\\nDoes anyone know of a good way (standard PC application/PD utility) to\\nconvert tif/img/tga files into LaserJet III format.  We would also like to\\ndo the same, converting to HPGL (HP plotter) files.\\n\\nPlease email any response.\\n\\nIs this the correct group?\\n\\nThanks in advance.  Michael.\\n-- \\nMichael Collier (Programmer)                 The Computer Unit,\\nEmail: M.P.Collier@uk.ac.city                The City University,\\nTel: 071 477-8000 x3769                      London,\\nFax: 071 477-8565                            EC1V 0HB.\\n',\n",
              " \"From: ani@ms.uky.edu (Aniruddha B. Deglurkar)\\nSubject: help: Splitting a trimming region along a mesh \\nOrganization: University Of Kentucky, Dept. of Math Sciences\\nLines: 28\\n\\n\\n\\n\\tHi,\\n\\n\\tI have a problem, I hope some of the 'gurus' can help me solve.\\n\\n\\tBackground of the problem:\\n\\tI have a rectangular mesh in the uv domain, i.e  the mesh is a \\n\\tmapping of a 3d Bezier patch into 2d. The area in this domain\\n\\twhich is inside a trimming loop had to be rendered. The trimming\\n\\tloop is a set of 2d Bezier curve segments.\\n\\tFor the sake of notation: the mesh is made up of cells.\\n\\n\\tMy problem is this :\\n\\tThe trimming area has to be split up into individual smaller\\n\\tcells bounded by the trimming curve segments. If a cell\\n\\tis wholly inside the area...then it is output as a whole ,\\n\\telse it is trivially rejected. \\n\\n\\tDoes any body know how thiss can be done, or is there any algo. \\n\\tsomewhere for doing this.\\n\\n\\tAny help would be appreciated.\\n\\n\\tThanks, \\n\\tAni.\\n-- \\nTo get irritated is human, to stay cool, divine.\\n\",\n",
              " \"From: djohnson@cs.ucsd.edu (Darin Johnson)\\nSubject: Re: harrassed at work, could use some prayers\\nOrganization: =CSE Dept., U.C. San Diego\\nLines: 63\\n\\n(Well, I'll email also, but this may apply to other people, so\\nI'll post also.)\\n\\n>I've been working at this company for eight years in various\\n>engineering jobs.  I'm female.  Yesterday I counted and realized that\\n>on seven different occasions I've been sexually harrassed at this\\n>company.\\n\\n>I dreaded coming back to work today.  What if my boss comes in to ask\\n>me some kind of question...\\n\\nYour boss should be the person bring these problems to.  If he/she\\ndoes not seem to take any action, keep going up higher and higher.\\nSexual harrassment does not need to be tolerated, and it can be an\\nenormous emotional support to discuss this with someone and know that\\nthey are trying to do something about it.  If you feel you can not\\ndiscuss this with your boss, perhaps your company has a personnel\\ndepartment that can work for you while preserving your privacy.  Most\\ncompanies will want to deal with this problem because constant anxiety\\ndoes seriously affect how effectively employees do their jobs.\\n\\nIt is unclear from your letter if you have done this or not.  It is\\nnot inconceivable that management remains ignorant of employee\\nproblems/strife even after eight years (it's a miracle if they do\\nnotice).  Perhaps your manager did not bring to the attention of\\nhigher ups?  If the company indeed does seem to want to ignore the\\nentire problem, there may be a state agency willing to fight with\\nyou.  (check with a lawyer, a women's resource center, etc to find out)\\n\\nYou may also want to discuss this with your paster, priest, husband,\\netc.  That is, someone you know will not be judgemental and that is\\nsupportive, comforting, etc.  This will bring a lot of healing.\\n\\n>So I returned at 11:25, only to find that ever single\\n>person had already left for lunch.  They left at 11:15 or so.  No one\\n>could be bothered to call me at the other building, even though my\\n>number was posted.\\n\\nThis happens to a lot of people.  Honest.  I believe it may seem\\nto be due to gross insensitivity because of the feelings you are\\ngoing through.  People in offices tend to be more insensitive while\\nworking than they normally are (maybe it's the hustle or stress or...)\\nI've had this happen to me a lot, often because they didn't realize\\nmy car was broken, etc.  Then they will come back and wonder why I\\ndidn't want to go (this would tend to make me stop being angry at\\nbeing ignored and make me laugh).  Once, we went off without our\\nboss, who was paying for the lunch :-)\\n\\n>For this\\n>reason I hope good Mr. Moderator allows me this latest indulgence.\\n\\nWell, if you can't turn to the computer for support, what would\\nwe do?  (signs of the computer age :-)\\n\\nIn closing, please don't let the hateful actions of a single person\\nharm you.  They are doing it because they are still the playground\\nbully and enjoy seeing the hurt they cause.  And you should not\\naccept the opinions of an imbecile that you are worthless - much\\nwiser people hold you in great esteem.\\n-- \\nDarin Johnson\\ndjohnson@ucsd.edu\\n  - Luxury!  In MY day, we had to make do with 5 bytes of swap...\\n\",\n",
              " 'From: s0612596@let.rug.nl (M.M. Zwart)\\nSubject: catholic church poland\\nOrganization: Faculteit der Letteren, Rijksuniversiteit Groningen, NL\\nLines: 10\\n\\nHello,\\n\\nI\\'m writing a paper on the role of the catholic church in Poland after 1989. \\nCan anyone tell me more about this, or fill me in on recent books/articles(\\nin english, german or french). Most important for me is the role of the \\nchurch concerning the abortion-law, religious education at schools,\\nbirth-control and the relation church-state(government). Thanx,\\n\\n                                                 Masja,\\n\"M.M.Zwart\"<s0612596@let.rug.nl>\\n',\n",
              " 'From: stanly@grok11.columbiasc.ncr.com (stanly)\\nSubject: Re: Elder Brother\\nOrganization: NCR Corp., Columbia SC\\nLines: 15\\n\\nIn article <Apr.8.00.57.41.1993.28246@athos.rutgers.edu> REXLEX@fnal.gov writes:\\n>In article <Apr.7.01.56.56.1993.22824@athos.rutgers.edu> shrum@hpfcso.fc.hp.com\\n>Matt. 22:9-14 \\'Go therefore to the main highways, and as many as you find\\n>there, invite to the wedding feast.\\'...\\n\\n>hmmmmmm.  Sounds like your theology and Christ\\'s are at odds. Which one am I \\n>to believe?\\n\\nIn this parable, Jesus tells the parable of the wedding feast. \"The kingdom\\nof heaven is like unto a certain king which made a marriage for his son\".\\nSo the wedding clothes were customary,  and \"given\" to those who \"chose\" to\\nattend.  This man \"refused\" to wear the clothes.  The wedding clothes are\\nequalivant to the \"clothes of righteousness\".  When Jesus died for our sins,\\nthose \"clothes\" were then provided.  Like that man, it is our decision to\\nput the clothes on.\\n']"
            ]
          },
          "metadata": {
            "tags": []
          },
          "execution_count": 56
        }
      ]
    },
    {
      "metadata": {
        "colab_type": "text",
        "id": "hTz4EaN_1WGc"
      },
      "cell_type": "markdown",
      "source": [
        "### 9.  Now with dependent and independent data available for both train and test datasets, using TfidfVectorizer fit and transform the training data and test data and get the tfidf features for both"
      ]
    },
    {
      "metadata": {
        "colab_type": "code",
        "id": "H5G477f81C0Z",
        "outputId": "ed829045-3a66-4394-f036-8bb4fde36032",
        "colab": {
          "base_uri": "https://localhost:8080/",
          "height": 34
        }
      },
      "cell_type": "code",
      "source": [
        "from sklearn.feature_extraction.text import TfidfVectorizer\n",
        "tf = TfidfVectorizer()\n",
        "tfidf_matrix = tf.fit_transform(twenty_train.data)\n",
        "tfidf_matrix.shape"
      ],
      "execution_count": 0,
      "outputs": [
        {
          "output_type": "execute_result",
          "data": {
            "text/plain": [
              "(2257, 35788)"
            ]
          },
          "metadata": {
            "tags": []
          },
          "execution_count": 60
        }
      ]
    },
    {
      "metadata": {
        "colab_type": "text",
        "id": "tp_fDINJ1t4L"
      },
      "cell_type": "markdown",
      "source": [
        "### 10. Use logisticRegression with tfidf features as input and targets as output and train the model and report the train and test accuracy score"
      ]
    },
    {
      "metadata": {
        "colab_type": "code",
        "id": "THlN2b5d1yQp",
        "outputId": "7b181d87-3c6c-4717-a8fc-0221e479ceec",
        "colab": {
          "base_uri": "https://localhost:8080/",
          "height": 122
        }
      },
      "cell_type": "code",
      "source": [
        "from sklearn.linear_model import LogisticRegression\n",
        "from sklearn import metrics\n",
        "clf = LogisticRegression()\n",
        "clf.fit(tfidf_matrix, twenty_train.target)\n",
        "\n",
        "tfidf_matrix_test = tf.transform(twenty_test.data)\n",
        "\n",
        "y_pred_class = clf.predict(tfidf_matrix_test)\n",
        "# calculate accuracy\n",
        "print(metrics.accuracy_score(twenty_test.target, y_pred_class) * 100, '%')"
      ],
      "execution_count": 0,
      "outputs": [
        {
          "output_type": "stream",
          "text": [
            "/usr/local/lib/python3.6/dist-packages/sklearn/linear_model/logistic.py:433: FutureWarning: Default solver will be changed to 'lbfgs' in 0.22. Specify a solver to silence this warning.\n",
            "  FutureWarning)\n",
            "/usr/local/lib/python3.6/dist-packages/sklearn/linear_model/logistic.py:460: FutureWarning: Default multi_class will be changed to 'auto' in 0.22. Specify the multi_class option to silence this warning.\n",
            "  \"this warning.\", FutureWarning)\n"
          ],
          "name": "stderr"
        },
        {
          "output_type": "stream",
          "text": [
            "88.68175765645806 %\n"
          ],
          "name": "stdout"
        }
      ]
    }
  ]
}