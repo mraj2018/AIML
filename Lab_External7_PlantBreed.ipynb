{
  "nbformat": 4,
  "nbformat_minor": 0,
  "metadata": {
    "colab": {
      "name": "Lab-External7-PlantBreed.ipynb",
      "version": "0.3.2",
      "provenance": [],
      "collapsed_sections": [],
      "include_colab_link": true
    },
    "kernelspec": {
      "name": "python3",
      "display_name": "Python 3"
    }
  },
  "cells": [
    {
      "cell_type": "markdown",
      "metadata": {
        "id": "view-in-github",
        "colab_type": "text"
      },
      "source": [
        "<a href=\"https://colab.research.google.com/github/mraj2018/AIML/blob/master/Lab_External7_PlantBreed.ipynb\" target=\"_parent\"><img src=\"https://colab.research.google.com/assets/colab-badge.svg\" alt=\"Open In Colab\"/></a>"
      ]
    },
    {
      "metadata": {
        "id": "8fMm60LvgOJt",
        "colab_type": "code",
        "outputId": "d70d76c7-64bf-413f-9168-ca5e32c2ecbd",
        "colab": {
          "base_uri": "https://localhost:8080/",
          "height": 34
        }
      },
      "cell_type": "code",
      "source": [
        "from google.colab import drive\n",
        "drive.mount('/content/drive')"
      ],
      "execution_count": 115,
      "outputs": [
        {
          "output_type": "stream",
          "text": [
            "Drive already mounted at /content/drive; to attempt to forcibly remount, call drive.mount(\"/content/drive\", force_remount=True).\n"
          ],
          "name": "stdout"
        }
      ]
    },
    {
      "metadata": {
        "id": "4ZTETqDwOWWK",
        "colab_type": "code",
        "colab": {}
      },
      "cell_type": "code",
      "source": [
        "#1. Read the images and generate the train and test dataset (5 points)"
      ],
      "execution_count": 0,
      "outputs": []
    },
    {
      "metadata": {
        "id": "I2HQjCD1gi_Q",
        "colab_type": "code",
        "outputId": "13e75613-51d4-4d49-db76-a6922931eea8",
        "colab": {
          "base_uri": "https://localhost:8080/",
          "height": 34
        }
      },
      "cell_type": "code",
      "source": [
        "import os\n",
        "os.chdir('/content/drive/My Drive/Plant-Breed')\n",
        "\n",
        "!ls"
      ],
      "execution_count": 116,
      "outputs": [
        {
          "output_type": "stream",
          "text": [
            "sample_submission.csv  test  train\n"
          ],
          "name": "stdout"
        }
      ]
    },
    {
      "metadata": {
        "id": "PTEQhbFrgi8F",
        "colab_type": "code",
        "colab": {}
      },
      "cell_type": "code",
      "source": [
        "# Commented as we already extracted...dont want give load onto drive repeatedly\n",
        "\n",
        "#from zipfile import ZipFile\n",
        "#with ZipFile('Train/train.zip', 'r') as z:\n",
        "#  z.extractall()"
      ],
      "execution_count": 0,
      "outputs": []
    },
    {
      "metadata": {
        "id": "pdAQniM-gi5e",
        "colab_type": "code",
        "colab": {}
      },
      "cell_type": "code",
      "source": [
        "#from zipfile import ZipFile\n",
        "#with ZipFile('Test/test.zip', 'r') as z:\n",
        " # z.extractall()"
      ],
      "execution_count": 0,
      "outputs": []
    },
    {
      "metadata": {
        "id": "KVzwWCU3gi2Q",
        "colab_type": "code",
        "colab": {}
      },
      "cell_type": "code",
      "source": [
        "x_test=[]\n",
        "os.chdir('/content/drive/My Drive/Plant-Breed/test')\n",
        "import cv2\n",
        "for i in os.listdir():\n",
        "    dummy = cv2.imread(i)\n",
        "    dummy = cv2.resize(dummy,(128,128))\n",
        "    x_test.append(dummy)\n",
        "    "
      ],
      "execution_count": 0,
      "outputs": []
    },
    {
      "metadata": {
        "id": "v8QhOAv4giyU",
        "colab_type": "code",
        "outputId": "97b7d59a-9a1c-4dcf-ed3b-dea5620384dd",
        "colab": {
          "base_uri": "https://localhost:8080/",
          "height": 34
        }
      },
      "cell_type": "code",
      "source": [
        "\n",
        "x_train = []\n",
        "y_train = []\n",
        "\n",
        "x_test[0].shape , len(x_test)"
      ],
      "execution_count": 120,
      "outputs": [
        {
          "output_type": "execute_result",
          "data": {
            "text/plain": [
              "((128, 128, 3), 794)"
            ]
          },
          "metadata": {
            "tags": []
          },
          "execution_count": 120
        }
      ]
    },
    {
      "metadata": {
        "id": "XBEoYY64giup",
        "colab_type": "code",
        "outputId": "51570a19-ec28-4c5b-d0d6-f4d28a4fa0a2",
        "colab": {
          "base_uri": "https://localhost:8080/",
          "height": 34
        }
      },
      "cell_type": "code",
      "source": [
        "import os\n",
        "os.chdir('/content/drive/My Drive/Plant-Breed')\n",
        "!ls"
      ],
      "execution_count": 121,
      "outputs": [
        {
          "output_type": "stream",
          "text": [
            "sample_submission.csv  test  train\n"
          ],
          "name": "stdout"
        }
      ]
    },
    {
      "metadata": {
        "id": "MKytj8qlgirX",
        "colab_type": "code",
        "outputId": "20b1c9a4-b345-41da-ff5b-9a54b9a845a8",
        "colab": {
          "base_uri": "https://localhost:8080/",
          "height": 238
        }
      },
      "cell_type": "code",
      "source": [
        "x_train = []\n",
        "y_train = []\n",
        "\n",
        "os.chdir('/content/drive/My Drive/Plant-Breed/train')\n",
        "\n",
        "import cv2\n",
        "for i in os.listdir():\n",
        "    print(i)\n",
        "    if (os.path.isdir(i)):\n",
        "            for j in os.listdir(i):\n",
        "                #print(j)\n",
        "                try:\n",
        "                    #print(i)\n",
        "                    dummy = cv2.imread('/content/drive/My Drive/Plant-Breed/train/' + i + \"/\" + j)\n",
        "                    dummy = cv2.resize(dummy,(128,128))\n",
        "                    x_train.append(dummy)\n",
        "                    y_train.append(i)\n",
        "                except Exception as e:\n",
        "                    print(e)"
      ],
      "execution_count": 122,
      "outputs": [
        {
          "output_type": "stream",
          "text": [
            "Fat Hen\n",
            "Small-flowered Cranesbill\n",
            "Cleavers\n",
            "Black-grass\n",
            "Sugar beet\n",
            "Shepherds Purse\n",
            "Charlock\n",
            "Loose Silky-bent\n",
            "Scentless Mayweed\n",
            "Maize\n",
            "Common Chickweed\n",
            "Common wheat\n",
            "7621model.hp5\n"
          ],
          "name": "stdout"
        }
      ]
    },
    {
      "metadata": {
        "id": "9xmOur6OgipH",
        "colab_type": "code",
        "outputId": "6f3d5cac-f05b-40d9-8970-eeeff009b357",
        "colab": {
          "base_uri": "https://localhost:8080/",
          "height": 34
        }
      },
      "cell_type": "code",
      "source": [
        "x_train[0].shape ,len(x_train)"
      ],
      "execution_count": 123,
      "outputs": [
        {
          "output_type": "execute_result",
          "data": {
            "text/plain": [
              "((128, 128, 3), 4750)"
            ]
          },
          "metadata": {
            "tags": []
          },
          "execution_count": 123
        }
      ]
    },
    {
      "metadata": {
        "id": "3_BTpJLFg1ik",
        "colab_type": "code",
        "colab": {}
      },
      "cell_type": "code",
      "source": [
        "import numpy as np\n",
        "x_train = np.array(x_train)\n",
        "x_test = np.array(x_test)\n",
        "y_train_arr = np.array(y_train)\n",
        "y_train_arr.shape, x_train[0].shape\n",
        "\n",
        "x_train = x_train.astype('float32')\n",
        "x_test = x_test.astype('float32')\n",
        "x_train /= 255\n",
        "x_test /= 255\n"
      ],
      "execution_count": 0,
      "outputs": []
    },
    {
      "metadata": {
        "id": "Gf9YiK3lPkmn",
        "colab_type": "code",
        "colab": {}
      },
      "cell_type": "code",
      "source": [
        "from sklearn.preprocessing import LabelEncoder\n",
        "from keras.utils import np_utils\n",
        "\n",
        "le = LabelEncoder()\n",
        "y_train_arr = le.fit_transform(y_train_arr)\n",
        "\n",
        "\n",
        "y_train_cat = np_utils.to_categorical(y_train_arr, num_classes=12)"
      ],
      "execution_count": 0,
      "outputs": []
    },
    {
      "metadata": {
        "id": "7_YKJ9-XOcs_",
        "colab_type": "code",
        "colab": {}
      },
      "cell_type": "code",
      "source": [
        "#2. Divide the data set into Train and validation data sets"
      ],
      "execution_count": 0,
      "outputs": []
    },
    {
      "metadata": {
        "id": "SqXd27_EhQg2",
        "colab_type": "code",
        "outputId": "366676d2-ebd7-4bf0-a4a3-19e1b2409e44",
        "colab": {
          "base_uri": "https://localhost:8080/",
          "height": 51
        }
      },
      "cell_type": "code",
      "source": [
        "from sklearn.model_selection import train_test_split\n",
        "x_train2, x_val, y_train2, y_val = train_test_split(x_train, y_train_cat, test_size=0.2, random_state=2)\n",
        "print (len(x_train2))\n",
        "print (len(x_val))"
      ],
      "execution_count": 128,
      "outputs": [
        {
          "output_type": "stream",
          "text": [
            "3800\n",
            "950\n"
          ],
          "name": "stdout"
        }
      ]
    },
    {
      "metadata": {
        "id": "DWsu5W_BhQeD",
        "colab_type": "code",
        "outputId": "811dd233-78ee-4f98-dfcb-66d6cb33bf0b",
        "colab": {
          "base_uri": "https://localhost:8080/",
          "height": 34
        }
      },
      "cell_type": "code",
      "source": [
        "x_train2[0].shape"
      ],
      "execution_count": 129,
      "outputs": [
        {
          "output_type": "execute_result",
          "data": {
            "text/plain": [
              "(128, 128, 3)"
            ]
          },
          "metadata": {
            "tags": []
          },
          "execution_count": 129
        }
      ]
    },
    {
      "metadata": {
        "id": "DiN_K2qAhQa1",
        "colab_type": "code",
        "colab": {}
      },
      "cell_type": "code",
      "source": [
        "x_train2 = x_train2.reshape(x_train2.shape[0],128,128,3)"
      ],
      "execution_count": 0,
      "outputs": []
    },
    {
      "metadata": {
        "id": "DQEDnt9thQXu",
        "colab_type": "code",
        "colab": {}
      },
      "cell_type": "code",
      "source": [
        "x_val = x_val.reshape(x_val.shape[0],128,128,3)"
      ],
      "execution_count": 0,
      "outputs": []
    },
    {
      "metadata": {
        "id": "g2MCZl30xODC",
        "colab_type": "code",
        "colab": {}
      },
      "cell_type": "code",
      "source": [
        ""
      ],
      "execution_count": 0,
      "outputs": []
    },
    {
      "metadata": {
        "id": "FIRIDSf3hQIJ",
        "colab_type": "code",
        "outputId": "db81de1f-aec7-4b0d-966e-2695699450d5",
        "colab": {
          "base_uri": "https://localhost:8080/",
          "height": 51
        }
      },
      "cell_type": "code",
      "source": [
        "print (x_train2.shape)\n",
        "print (x_val.shape)"
      ],
      "execution_count": 132,
      "outputs": [
        {
          "output_type": "stream",
          "text": [
            "(3800, 128, 128, 3)\n",
            "(950, 128, 128, 3)\n"
          ],
          "name": "stdout"
        }
      ]
    },
    {
      "metadata": {
        "id": "JYbj3N_6hxSl",
        "colab_type": "code",
        "outputId": "2253a55a-9899-4c03-d984-2f58aeab31f8",
        "colab": {
          "base_uri": "https://localhost:8080/",
          "height": 51
        }
      },
      "cell_type": "code",
      "source": [
        "\n",
        "print(y_train2.shape)\n",
        "print(y_val.shape)\n",
        "\n"
      ],
      "execution_count": 133,
      "outputs": [
        {
          "output_type": "stream",
          "text": [
            "(3800, 12)\n",
            "(950, 12)\n"
          ],
          "name": "stdout"
        }
      ]
    },
    {
      "metadata": {
        "id": "h_INImGvOkdT",
        "colab_type": "code",
        "colab": {}
      },
      "cell_type": "code",
      "source": [
        "#3. Initialize & build the model (10 points) & 4. Optimize the model (5 points)"
      ],
      "execution_count": 0,
      "outputs": []
    },
    {
      "metadata": {
        "id": "ESuYaWuwhxQI",
        "colab_type": "code",
        "colab": {}
      },
      "cell_type": "code",
      "source": [
        "from keras.models import Sequential\n",
        "from keras.layers import Convolution2D, Dropout, Dense"
      ],
      "execution_count": 0,
      "outputs": []
    },
    {
      "metadata": {
        "id": "STSIfOuWhxNS",
        "colab_type": "code",
        "colab": {}
      },
      "cell_type": "code",
      "source": [
        "from keras.layers import BatchNormalization\n",
        "from keras.layers import MaxPooling2D\n",
        "from keras.layers import Flatten\n",
        "from keras.optimizers import adam,SGD"
      ],
      "execution_count": 0,
      "outputs": []
    },
    {
      "metadata": {
        "id": "RRKfo8qPhxKS",
        "colab_type": "code",
        "colab": {}
      },
      "cell_type": "code",
      "source": [
        "model = Sequential()\n",
        "\n",
        "model.add(Convolution2D(32, (3,3), activation ='relu', input_shape = (128, 128, 3))) \n",
        "model.add(MaxPooling2D(pool_size=2))\n",
        "#model.add(Dropout(0.8))\n",
        "model.add(BatchNormalization(input_shape = (128,128,3)))\n",
        "\n",
        "model.add(Convolution2D(filters=64, kernel_size=4, padding='same', activation='relu'))\n",
        "model.add(MaxPooling2D(pool_size=2))\n",
        "#model.add(Dropout(0.8))\n",
        "\n",
        "model.add(Convolution2D(filters=128, kernel_size=3, padding='same', activation='relu'))\n",
        "model.add(MaxPooling2D(pool_size=2))\n",
        "#model.add(Dropout(0.8))\n",
        "\n",
        "model.add(Convolution2D(filters=128, kernel_size=2, padding='same', activation='relu'))\n",
        "model.add(MaxPooling2D(pool_size=2))\n",
        "#model.add(Dropout(0.8))\n",
        "\n",
        "model.add(Flatten()) \n",
        "\n",
        "# fully connected layer\n",
        "model.add(Dense(units=128,activation = 'relu'))\n",
        "model.add(Dense(units = 64, activation = 'relu'))\n",
        "model.add(Dropout(0.3))\n",
        "model.add(Dense(units = 32, activation = 'relu'))\n",
        "#model.add(Dropout(0.3))\n",
        "model.add(Dense(units = 12, activation = 'softmax')) \n",
        "\n",
        "#optimizer = adam(lr=0.001)\n",
        "#earlystop = EarlyStopping(patience=5)\n",
        "\n",
        "sgd = SGD(lr=0.001)\n",
        "\n",
        "model.compile(optimizer=sgd, loss = 'categorical_crossentropy',metrics = ['accuracy'])"
      ],
      "execution_count": 0,
      "outputs": []
    },
    {
      "metadata": {
        "id": "cs6TTffGh3V7",
        "colab_type": "code",
        "outputId": "72e379d2-6ce1-493b-9354-658471c12e8f",
        "colab": {
          "base_uri": "https://localhost:8080/",
          "height": 646
        }
      },
      "cell_type": "code",
      "source": [
        "model.summary()"
      ],
      "execution_count": 137,
      "outputs": [
        {
          "output_type": "stream",
          "text": [
            "_________________________________________________________________\n",
            "Layer (type)                 Output Shape              Param #   \n",
            "=================================================================\n",
            "conv2d_45 (Conv2D)           (None, 126, 126, 32)      896       \n",
            "_________________________________________________________________\n",
            "max_pooling2d_45 (MaxPooling (None, 63, 63, 32)        0         \n",
            "_________________________________________________________________\n",
            "batch_normalization_9 (Batch (None, 63, 63, 32)        128       \n",
            "_________________________________________________________________\n",
            "conv2d_46 (Conv2D)           (None, 63, 63, 64)        32832     \n",
            "_________________________________________________________________\n",
            "max_pooling2d_46 (MaxPooling (None, 31, 31, 64)        0         \n",
            "_________________________________________________________________\n",
            "conv2d_47 (Conv2D)           (None, 31, 31, 128)       73856     \n",
            "_________________________________________________________________\n",
            "max_pooling2d_47 (MaxPooling (None, 15, 15, 128)       0         \n",
            "_________________________________________________________________\n",
            "conv2d_48 (Conv2D)           (None, 15, 15, 128)       65664     \n",
            "_________________________________________________________________\n",
            "max_pooling2d_48 (MaxPooling (None, 7, 7, 128)         0         \n",
            "_________________________________________________________________\n",
            "flatten_12 (Flatten)         (None, 6272)              0         \n",
            "_________________________________________________________________\n",
            "dense_45 (Dense)             (None, 128)               802944    \n",
            "_________________________________________________________________\n",
            "dense_46 (Dense)             (None, 64)                8256      \n",
            "_________________________________________________________________\n",
            "dropout_22 (Dropout)         (None, 64)                0         \n",
            "_________________________________________________________________\n",
            "dense_47 (Dense)             (None, 32)                2080      \n",
            "_________________________________________________________________\n",
            "dense_48 (Dense)             (None, 12)                396       \n",
            "=================================================================\n",
            "Total params: 987,052\n",
            "Trainable params: 986,988\n",
            "Non-trainable params: 64\n",
            "_________________________________________________________________\n"
          ],
          "name": "stdout"
        }
      ]
    },
    {
      "metadata": {
        "id": "4QNn3riRh3OY",
        "colab_type": "code",
        "outputId": "cb5209ba-aee6-48c5-e4f3-633bcd10aced",
        "colab": {
          "base_uri": "https://localhost:8080/",
          "height": 714
        }
      },
      "cell_type": "code",
      "source": [
        "batch_size = 64\n",
        "\n",
        "history = model.fit(x_train2,y_train2,\n",
        "                    epochs=10, \n",
        "                    batch_size=64,\n",
        "                    validation_data=(x_val,y_val),\n",
        "                    verbose = 1,\n",
        "                    initial_epoch=0)"
      ],
      "execution_count": 139,
      "outputs": [
        {
          "output_type": "stream",
          "text": [
            "Train on 3800 samples, validate on 950 samples\n",
            "Epoch 1/20\n",
            "3800/3800 [==============================] - 259s 68ms/step - loss: 0.6300 - acc: 0.7905 - val_loss: 0.6800 - val_acc: 0.7800\n",
            "Epoch 2/20\n",
            "3800/3800 [==============================] - 259s 68ms/step - loss: 0.5778 - acc: 0.8076 - val_loss: 0.6766 - val_acc: 0.7832\n",
            "Epoch 3/20\n",
            "3800/3800 [==============================] - 259s 68ms/step - loss: 0.5208 - acc: 0.8282 - val_loss: 0.7803 - val_acc: 0.7537\n",
            "Epoch 4/20\n",
            "3800/3800 [==============================] - 260s 68ms/step - loss: 0.5155 - acc: 0.8205 - val_loss: 0.6541 - val_acc: 0.7895\n",
            "Epoch 5/20\n",
            "3800/3800 [==============================] - 261s 69ms/step - loss: 0.4760 - acc: 0.8389 - val_loss: 0.6859 - val_acc: 0.7747\n",
            "Epoch 6/20\n",
            "3800/3800 [==============================] - 259s 68ms/step - loss: 0.4541 - acc: 0.8403 - val_loss: 0.6490 - val_acc: 0.7979\n",
            "Epoch 7/20\n",
            "3800/3800 [==============================] - 259s 68ms/step - loss: 0.4324 - acc: 0.8476 - val_loss: 0.7139 - val_acc: 0.7684\n",
            "Epoch 8/20\n",
            "3800/3800 [==============================] - 260s 68ms/step - loss: 0.4183 - acc: 0.8626 - val_loss: 0.6147 - val_acc: 0.7979\n",
            "Epoch 9/20\n",
            "3800/3800 [==============================] - 260s 68ms/step - loss: 0.3826 - acc: 0.8703 - val_loss: 0.5389 - val_acc: 0.8168\n",
            "Epoch 10/20\n",
            "3800/3800 [==============================] - 261s 69ms/step - loss: 0.3546 - acc: 0.8842 - val_loss: 0.5652 - val_acc: 0.8158\n",
            "Epoch 11/20\n",
            "3800/3800 [==============================] - 260s 68ms/step - loss: 0.3431 - acc: 0.8855 - val_loss: 0.7085 - val_acc: 0.7768\n",
            "Epoch 12/20\n",
            "3800/3800 [==============================] - 260s 68ms/step - loss: 0.3361 - acc: 0.8805 - val_loss: 0.6631 - val_acc: 0.8095\n",
            "Epoch 13/20\n",
            "3800/3800 [==============================] - 261s 69ms/step - loss: 0.3056 - acc: 0.8934 - val_loss: 0.5271 - val_acc: 0.8347\n",
            "Epoch 14/20\n",
            "3800/3800 [==============================] - 260s 68ms/step - loss: 0.2894 - acc: 0.8934 - val_loss: 0.5272 - val_acc: 0.8305\n",
            "Epoch 15/20\n",
            "3800/3800 [==============================] - 260s 68ms/step - loss: 0.2956 - acc: 0.8971 - val_loss: 0.5437 - val_acc: 0.8337\n",
            "Epoch 16/20\n",
            "3800/3800 [==============================] - 260s 68ms/step - loss: 0.2643 - acc: 0.9089 - val_loss: 0.5692 - val_acc: 0.8295\n",
            "Epoch 17/20\n",
            "3800/3800 [==============================] - 261s 69ms/step - loss: 0.2617 - acc: 0.9061 - val_loss: 0.6205 - val_acc: 0.8074\n",
            "Epoch 18/20\n",
            "3800/3800 [==============================] - 261s 69ms/step - loss: 0.2481 - acc: 0.9132 - val_loss: 0.5890 - val_acc: 0.8211\n",
            "Epoch 19/20\n",
            "3800/3800 [==============================] - 259s 68ms/step - loss: 0.2403 - acc: 0.9137 - val_loss: 0.5692 - val_acc: 0.8326\n",
            "Epoch 20/20\n",
            "3800/3800 [==============================] - 261s 69ms/step - loss: 0.2228 - acc: 0.9221 - val_loss: 0.5318 - val_acc: 0.8505\n"
          ],
          "name": "stdout"
        }
      ]
    },
    {
      "metadata": {
        "id": "2Sbw0REsh3B9",
        "colab_type": "code",
        "colab": {
          "base_uri": "https://localhost:8080/",
          "height": 869
        },
        "outputId": "0ecb9d8d-c053-4e80-bbaa-f627e0b75665"
      },
      "cell_type": "code",
      "source": [
        "import matplotlib.pyplot as plt\n",
        "epochs =20\n",
        "fig, (ax1, ax2) = plt.subplots(2, 1, figsize=(12, 12))\n",
        "ax1.plot(history.history['loss'], color='b', label=\"Training loss\")\n",
        "ax1.plot(history.history['val_loss'], color='r', label=\"validation loss\")\n",
        "ax1.set_xticks(np.arange(1, epochs, 1))\n",
        "ax1.set_yticks(np.arange(0, 1, 0.1))\n",
        "\n",
        "ax2.plot(history.history['acc'], color='b', label=\"Training accuracy\")\n",
        "ax2.plot(history.history['val_acc'], color='r',label=\"Validation accuracy\")\n",
        "ax2.set_xticks(np.arange(1, epochs, 1))\n",
        "\n",
        "legend = plt.legend(loc='best', shadow=True)\n",
        "plt.tight_layout()\n",
        "plt.show()"
      ],
      "execution_count": 143,
      "outputs": [
        {
          "output_type": "display_data",
          "data": {
            "image/png": "[encoded data removed]",
            "text/plain": [
              "<Figure size 864x864 with 2 Axes>"
            ]
          },
          "metadata": {
            "tags": []
          }
        }
      ]
    },
    {
      "metadata": {
        "id": "R0HUq_U2O2Xh",
        "colab_type": "code",
        "colab": {}
      },
      "cell_type": "code",
      "source": [
        "#5. Predict the accuracy for both train and validation data (5 points)"
      ],
      "execution_count": 0,
      "outputs": []
    },
    {
      "metadata": {
        "id": "CFz88ZVUwuJi",
        "colab_type": "code",
        "colab": {}
      },
      "cell_type": "code",
      "source": [
        "y_pred = model.predict_classes(x_test)"
      ],
      "execution_count": 0,
      "outputs": []
    },
    {
      "metadata": {
        "id": "LZ5uJyrHw0u_",
        "colab_type": "code",
        "colab": {
          "base_uri": "https://localhost:8080/",
          "height": 4165
        },
        "outputId": "03575c00-3950-43d0-acad-0096aa945b56"
      },
      "cell_type": "code",
      "source": [
        "y_pred_trans = le.inverse_transform(y_pred)\n",
        "\n",
        "y_pred_trans"
      ],
      "execution_count": 145,
      "outputs": [
        {
          "output_type": "execute_result",
          "data": {
            "text/plain": [
              "array(['Common Chickweed', 'Cleavers', 'Loose Silky-bent', 'Sugar beet',\n",
              "       'Small-flowered Cranesbill', 'Common Chickweed',\n",
              "       'Common Chickweed', 'Common Chickweed', 'Common Chickweed',\n",
              "       'Cleavers', 'Loose Silky-bent', 'Loose Silky-bent', 'Cleavers',\n",
              "       'Loose Silky-bent', 'Loose Silky-bent', 'Fat Hen', 'Sugar beet',\n",
              "       'Cleavers', 'Cleavers', 'Loose Silky-bent', 'Sugar beet',\n",
              "       'Scentless Mayweed', 'Fat Hen', 'Loose Silky-bent',\n",
              "       'Shepherds Purse', 'Shepherds Purse', 'Loose Silky-bent',\n",
              "       'Loose Silky-bent', 'Common Chickweed', 'Sugar beet',\n",
              "       'Scentless Mayweed', 'Fat Hen', 'Scentless Mayweed',\n",
              "       'Loose Silky-bent', 'Common Chickweed', 'Loose Silky-bent',\n",
              "       'Common Chickweed', 'Loose Silky-bent', 'Loose Silky-bent',\n",
              "       'Sugar beet', 'Maize', 'Common Chickweed', 'Cleavers',\n",
              "       'Loose Silky-bent', 'Scentless Mayweed', 'Loose Silky-bent',\n",
              "       'Sugar beet', 'Loose Silky-bent', 'Common Chickweed', 'Fat Hen',\n",
              "       'Charlock', 'Loose Silky-bent', 'Scentless Mayweed', 'Maize',\n",
              "       'Scentless Mayweed', 'Loose Silky-bent',\n",
              "       'Small-flowered Cranesbill', 'Sugar beet', 'Scentless Mayweed',\n",
              "       'Sugar beet', 'Common Chickweed', 'Cleavers', 'Fat Hen',\n",
              "       'Loose Silky-bent', 'Small-flowered Cranesbill', 'Charlock',\n",
              "       'Common Chickweed', 'Charlock', 'Maize', 'Loose Silky-bent',\n",
              "       'Loose Silky-bent', 'Loose Silky-bent', 'Loose Silky-bent',\n",
              "       'Loose Silky-bent', 'Charlock', 'Small-flowered Cranesbill',\n",
              "       'Common wheat', 'Common Chickweed', 'Common Chickweed',\n",
              "       'Scentless Mayweed', 'Scentless Mayweed', 'Loose Silky-bent',\n",
              "       'Sugar beet', 'Loose Silky-bent', 'Scentless Mayweed',\n",
              "       'Common Chickweed', 'Cleavers', 'Sugar beet', 'Loose Silky-bent',\n",
              "       'Common wheat', 'Charlock', 'Sugar beet', 'Common Chickweed',\n",
              "       'Small-flowered Cranesbill', 'Small-flowered Cranesbill', 'Maize',\n",
              "       'Fat Hen', 'Fat Hen', 'Common Chickweed', 'Fat Hen',\n",
              "       'Shepherds Purse', 'Small-flowered Cranesbill', 'Loose Silky-bent',\n",
              "       'Common Chickweed', 'Common Chickweed', 'Common Chickweed',\n",
              "       'Common Chickweed', 'Maize', 'Small-flowered Cranesbill', 'Maize',\n",
              "       'Common Chickweed', 'Small-flowered Cranesbill',\n",
              "       'Scentless Mayweed', 'Common Chickweed', 'Loose Silky-bent',\n",
              "       'Fat Hen', 'Small-flowered Cranesbill', 'Cleavers', 'Fat Hen',\n",
              "       'Fat Hen', 'Scentless Mayweed', 'Common wheat', 'Maize',\n",
              "       'Scentless Mayweed', 'Scentless Mayweed', 'Sugar beet',\n",
              "       'Sugar beet', 'Loose Silky-bent', 'Scentless Mayweed', 'Cleavers',\n",
              "       'Scentless Mayweed', 'Common wheat', 'Scentless Mayweed',\n",
              "       'Common Chickweed', 'Cleavers', 'Sugar beet', 'Charlock',\n",
              "       'Loose Silky-bent', 'Sugar beet', 'Loose Silky-bent', 'Sugar beet',\n",
              "       'Loose Silky-bent', 'Scentless Mayweed', 'Scentless Mayweed',\n",
              "       'Common wheat', 'Common Chickweed', 'Scentless Mayweed', 'Fat Hen',\n",
              "       'Common Chickweed', 'Cleavers', 'Common Chickweed',\n",
              "       'Scentless Mayweed', 'Charlock', 'Common Chickweed', 'Cleavers',\n",
              "       'Maize', 'Small-flowered Cranesbill', 'Fat Hen', 'Maize',\n",
              "       'Sugar beet', 'Charlock', 'Loose Silky-bent', 'Charlock',\n",
              "       'Cleavers', 'Loose Silky-bent', 'Fat Hen', 'Fat Hen', 'Charlock',\n",
              "       'Common Chickweed', 'Common wheat', 'Fat Hen', 'Charlock',\n",
              "       'Fat Hen', 'Sugar beet', 'Loose Silky-bent', 'Loose Silky-bent',\n",
              "       'Scentless Mayweed', 'Small-flowered Cranesbill',\n",
              "       'Small-flowered Cranesbill', 'Sugar beet', 'Common wheat',\n",
              "       'Black-grass', 'Small-flowered Cranesbill', 'Common wheat',\n",
              "       'Shepherds Purse', 'Loose Silky-bent', 'Charlock', 'Sugar beet',\n",
              "       'Fat Hen', 'Cleavers', 'Loose Silky-bent', 'Loose Silky-bent',\n",
              "       'Fat Hen', 'Common Chickweed', 'Small-flowered Cranesbill',\n",
              "       'Small-flowered Cranesbill', 'Common Chickweed',\n",
              "       'Loose Silky-bent', 'Cleavers', 'Scentless Mayweed',\n",
              "       'Small-flowered Cranesbill', 'Common Chickweed',\n",
              "       'Scentless Mayweed', 'Scentless Mayweed', 'Shepherds Purse',\n",
              "       'Scentless Mayweed', 'Cleavers', 'Loose Silky-bent', 'Fat Hen',\n",
              "       'Loose Silky-bent', 'Scentless Mayweed', 'Loose Silky-bent',\n",
              "       'Sugar beet', 'Cleavers', 'Shepherds Purse', 'Common Chickweed',\n",
              "       'Sugar beet', 'Common Chickweed', 'Scentless Mayweed', 'Fat Hen',\n",
              "       'Common Chickweed', 'Small-flowered Cranesbill',\n",
              "       'Small-flowered Cranesbill', 'Charlock', 'Shepherds Purse',\n",
              "       'Small-flowered Cranesbill', 'Loose Silky-bent',\n",
              "       'Scentless Mayweed', 'Maize', 'Scentless Mayweed', 'Cleavers',\n",
              "       'Small-flowered Cranesbill', 'Common wheat', 'Black-grass',\n",
              "       'Black-grass', 'Shepherds Purse', 'Loose Silky-bent',\n",
              "       'Small-flowered Cranesbill', 'Sugar beet', 'Loose Silky-bent',\n",
              "       'Charlock', 'Shepherds Purse', 'Small-flowered Cranesbill',\n",
              "       'Sugar beet', 'Loose Silky-bent', 'Charlock', 'Charlock',\n",
              "       'Loose Silky-bent', 'Scentless Mayweed', 'Charlock',\n",
              "       'Loose Silky-bent', 'Common wheat', 'Charlock', 'Sugar beet',\n",
              "       'Small-flowered Cranesbill', 'Charlock',\n",
              "       'Small-flowered Cranesbill', 'Sugar beet', 'Shepherds Purse',\n",
              "       'Scentless Mayweed', 'Fat Hen', 'Common Chickweed',\n",
              "       'Scentless Mayweed', 'Charlock', 'Loose Silky-bent',\n",
              "       'Shepherds Purse', 'Small-flowered Cranesbill',\n",
              "       'Small-flowered Cranesbill', 'Maize', 'Common Chickweed',\n",
              "       'Loose Silky-bent', 'Loose Silky-bent', 'Sugar beet',\n",
              "       'Common Chickweed', 'Scentless Mayweed', 'Sugar beet',\n",
              "       'Small-flowered Cranesbill', 'Common Chickweed', 'Sugar beet',\n",
              "       'Small-flowered Cranesbill', 'Charlock', 'Maize', 'Sugar beet',\n",
              "       'Maize', 'Cleavers', 'Sugar beet', 'Small-flowered Cranesbill',\n",
              "       'Cleavers', 'Small-flowered Cranesbill', 'Sugar beet',\n",
              "       'Loose Silky-bent', 'Fat Hen', 'Charlock', 'Scentless Mayweed',\n",
              "       'Fat Hen', 'Black-grass', 'Loose Silky-bent', 'Charlock',\n",
              "       'Loose Silky-bent', 'Scentless Mayweed', 'Cleavers',\n",
              "       'Loose Silky-bent', 'Sugar beet', 'Sugar beet', 'Loose Silky-bent',\n",
              "       'Scentless Mayweed', 'Maize', 'Shepherds Purse',\n",
              "       'Loose Silky-bent', 'Small-flowered Cranesbill', 'Fat Hen',\n",
              "       'Shepherds Purse', 'Shepherds Purse', 'Loose Silky-bent',\n",
              "       'Shepherds Purse', 'Fat Hen', 'Charlock', 'Scentless Mayweed',\n",
              "       'Fat Hen', 'Small-flowered Cranesbill', 'Cleavers', 'Maize',\n",
              "       'Small-flowered Cranesbill', 'Small-flowered Cranesbill',\n",
              "       'Loose Silky-bent', 'Loose Silky-bent', 'Common Chickweed',\n",
              "       'Common Chickweed', 'Scentless Mayweed', 'Shepherds Purse',\n",
              "       'Sugar beet', 'Small-flowered Cranesbill',\n",
              "       'Small-flowered Cranesbill', 'Charlock', 'Cleavers',\n",
              "       'Small-flowered Cranesbill', 'Small-flowered Cranesbill',\n",
              "       'Common Chickweed', 'Cleavers', 'Common Chickweed',\n",
              "       'Shepherds Purse', 'Cleavers', 'Common Chickweed',\n",
              "       'Loose Silky-bent', 'Charlock', 'Common wheat', 'Fat Hen',\n",
              "       'Sugar beet', 'Loose Silky-bent', 'Small-flowered Cranesbill',\n",
              "       'Loose Silky-bent', 'Maize', 'Small-flowered Cranesbill',\n",
              "       'Cleavers', 'Sugar beet', 'Common wheat', 'Loose Silky-bent',\n",
              "       'Maize', 'Loose Silky-bent', 'Small-flowered Cranesbill',\n",
              "       'Small-flowered Cranesbill', 'Common wheat', 'Common wheat',\n",
              "       'Small-flowered Cranesbill', 'Sugar beet', 'Shepherds Purse',\n",
              "       'Sugar beet', 'Loose Silky-bent', 'Small-flowered Cranesbill',\n",
              "       'Common Chickweed', 'Shepherds Purse', 'Common Chickweed',\n",
              "       'Scentless Mayweed', 'Scentless Mayweed', 'Cleavers', 'Charlock',\n",
              "       'Sugar beet', 'Charlock', 'Fat Hen', 'Common wheat',\n",
              "       'Scentless Mayweed', 'Sugar beet', 'Loose Silky-bent',\n",
              "       'Loose Silky-bent', 'Small-flowered Cranesbill',\n",
              "       'Loose Silky-bent', 'Scentless Mayweed', 'Loose Silky-bent',\n",
              "       'Small-flowered Cranesbill', 'Fat Hen',\n",
              "       'Small-flowered Cranesbill', 'Maize', 'Fat Hen',\n",
              "       'Common Chickweed', 'Scentless Mayweed', 'Common Chickweed',\n",
              "       'Maize', 'Scentless Mayweed', 'Small-flowered Cranesbill',\n",
              "       'Shepherds Purse', 'Fat Hen', 'Common Chickweed',\n",
              "       'Common Chickweed', 'Fat Hen', 'Common wheat',\n",
              "       'Small-flowered Cranesbill', 'Common Chickweed', 'Cleavers',\n",
              "       'Scentless Mayweed', 'Scentless Mayweed', 'Loose Silky-bent',\n",
              "       'Small-flowered Cranesbill', 'Scentless Mayweed', 'Fat Hen',\n",
              "       'Loose Silky-bent', 'Loose Silky-bent', 'Loose Silky-bent',\n",
              "       'Loose Silky-bent', 'Fat Hen', 'Loose Silky-bent', 'Fat Hen',\n",
              "       'Fat Hen', 'Shepherds Purse', 'Sugar beet', 'Black-grass',\n",
              "       'Charlock', 'Fat Hen', 'Small-flowered Cranesbill',\n",
              "       'Scentless Mayweed', 'Common Chickweed',\n",
              "       'Small-flowered Cranesbill', 'Scentless Mayweed',\n",
              "       'Scentless Mayweed', 'Loose Silky-bent', 'Common Chickweed',\n",
              "       'Small-flowered Cranesbill', 'Common Chickweed',\n",
              "       'Small-flowered Cranesbill', 'Common Chickweed',\n",
              "       'Scentless Mayweed', 'Small-flowered Cranesbill',\n",
              "       'Common Chickweed', 'Fat Hen', 'Sugar beet', 'Common Chickweed',\n",
              "       'Sugar beet', 'Common Chickweed', 'Charlock', 'Loose Silky-bent',\n",
              "       'Scentless Mayweed', 'Charlock', 'Fat Hen', 'Maize', 'Sugar beet',\n",
              "       'Cleavers', 'Fat Hen', 'Small-flowered Cranesbill',\n",
              "       'Small-flowered Cranesbill', 'Fat Hen', 'Scentless Mayweed',\n",
              "       'Loose Silky-bent', 'Charlock', 'Loose Silky-bent',\n",
              "       'Common Chickweed', 'Shepherds Purse', 'Common Chickweed',\n",
              "       'Loose Silky-bent', 'Maize', 'Scentless Mayweed',\n",
              "       'Scentless Mayweed', 'Common Chickweed', 'Loose Silky-bent',\n",
              "       'Loose Silky-bent', 'Common wheat', 'Loose Silky-bent',\n",
              "       'Loose Silky-bent', 'Loose Silky-bent', 'Charlock',\n",
              "       'Loose Silky-bent', 'Maize', 'Common Chickweed',\n",
              "       'Common Chickweed', 'Common Chickweed', 'Loose Silky-bent',\n",
              "       'Fat Hen', 'Common Chickweed', 'Charlock', 'Charlock', 'Fat Hen',\n",
              "       'Loose Silky-bent', 'Common Chickweed', 'Shepherds Purse',\n",
              "       'Loose Silky-bent', 'Common Chickweed', 'Shepherds Purse', 'Maize',\n",
              "       'Charlock', 'Shepherds Purse', 'Small-flowered Cranesbill',\n",
              "       'Sugar beet', 'Loose Silky-bent', 'Charlock', 'Fat Hen',\n",
              "       'Common wheat', 'Loose Silky-bent', 'Loose Silky-bent',\n",
              "       'Common wheat', 'Maize', 'Charlock', 'Common wheat',\n",
              "       'Scentless Mayweed', 'Common Chickweed',\n",
              "       'Small-flowered Cranesbill', 'Sugar beet', 'Loose Silky-bent',\n",
              "       'Cleavers', 'Scentless Mayweed', 'Small-flowered Cranesbill',\n",
              "       'Loose Silky-bent', 'Black-grass', 'Common wheat', 'Charlock',\n",
              "       'Fat Hen', 'Sugar beet', 'Charlock', 'Loose Silky-bent',\n",
              "       'Charlock', 'Sugar beet', 'Scentless Mayweed', 'Sugar beet',\n",
              "       'Common Chickweed', 'Common Chickweed', 'Common wheat',\n",
              "       'Small-flowered Cranesbill', 'Cleavers', 'Scentless Mayweed',\n",
              "       'Charlock', 'Sugar beet', 'Maize', 'Loose Silky-bent', 'Cleavers',\n",
              "       'Fat Hen', 'Small-flowered Cranesbill', 'Common Chickweed',\n",
              "       'Scentless Mayweed', 'Loose Silky-bent', 'Maize',\n",
              "       'Loose Silky-bent', 'Small-flowered Cranesbill',\n",
              "       'Scentless Mayweed', 'Common wheat', 'Maize', 'Common Chickweed',\n",
              "       'Sugar beet', 'Charlock', 'Cleavers', 'Small-flowered Cranesbill',\n",
              "       'Sugar beet', 'Fat Hen', 'Sugar beet', 'Fat Hen', 'Fat Hen',\n",
              "       'Loose Silky-bent', 'Loose Silky-bent', 'Common wheat',\n",
              "       'Common Chickweed', 'Maize', 'Sugar beet', 'Charlock', 'Fat Hen',\n",
              "       'Common Chickweed', 'Sugar beet', 'Loose Silky-bent',\n",
              "       'Loose Silky-bent', 'Fat Hen', 'Cleavers', 'Cleavers',\n",
              "       'Loose Silky-bent', 'Common Chickweed',\n",
              "       'Small-flowered Cranesbill', 'Scentless Mayweed',\n",
              "       'Loose Silky-bent', 'Maize', 'Common Chickweed',\n",
              "       'Common Chickweed', 'Charlock', 'Maize', 'Fat Hen', 'Sugar beet',\n",
              "       'Common wheat', 'Shepherds Purse', 'Charlock', 'Common wheat',\n",
              "       'Fat Hen', 'Cleavers', 'Fat Hen', 'Fat Hen', 'Common wheat',\n",
              "       'Loose Silky-bent', 'Common wheat', 'Loose Silky-bent',\n",
              "       'Common wheat', 'Loose Silky-bent', 'Maize', 'Loose Silky-bent',\n",
              "       'Cleavers', 'Common Chickweed', 'Sugar beet', 'Loose Silky-bent',\n",
              "       'Small-flowered Cranesbill', 'Maize', 'Loose Silky-bent',\n",
              "       'Fat Hen', 'Loose Silky-bent', 'Shepherds Purse',\n",
              "       'Common Chickweed', 'Charlock', 'Fat Hen', 'Sugar beet',\n",
              "       'Cleavers', 'Loose Silky-bent', 'Cleavers',\n",
              "       'Small-flowered Cranesbill', 'Loose Silky-bent', 'Charlock',\n",
              "       'Common Chickweed', 'Loose Silky-bent', 'Fat Hen', 'Sugar beet',\n",
              "       'Loose Silky-bent', 'Loose Silky-bent', 'Charlock',\n",
              "       'Scentless Mayweed', 'Loose Silky-bent', 'Loose Silky-bent',\n",
              "       'Charlock', 'Common Chickweed', 'Shepherds Purse',\n",
              "       'Loose Silky-bent', 'Shepherds Purse', 'Charlock', 'Sugar beet',\n",
              "       'Loose Silky-bent', 'Loose Silky-bent', 'Common Chickweed',\n",
              "       'Shepherds Purse', 'Small-flowered Cranesbill', 'Sugar beet',\n",
              "       'Small-flowered Cranesbill', 'Loose Silky-bent', 'Shepherds Purse',\n",
              "       'Scentless Mayweed', 'Common Chickweed', 'Maize', 'Cleavers',\n",
              "       'Charlock', 'Loose Silky-bent', 'Small-flowered Cranesbill',\n",
              "       'Cleavers', 'Cleavers', 'Loose Silky-bent', 'Common Chickweed',\n",
              "       'Charlock', 'Scentless Mayweed', 'Scentless Mayweed', 'Cleavers',\n",
              "       'Scentless Mayweed', 'Charlock', 'Small-flowered Cranesbill',\n",
              "       'Common Chickweed', 'Common Chickweed',\n",
              "       'Small-flowered Cranesbill', 'Loose Silky-bent',\n",
              "       'Small-flowered Cranesbill', 'Loose Silky-bent', 'Sugar beet',\n",
              "       'Charlock', 'Common Chickweed', 'Sugar beet', 'Loose Silky-bent',\n",
              "       'Loose Silky-bent', 'Shepherds Purse', 'Fat Hen', 'Cleavers',\n",
              "       'Common Chickweed', 'Scentless Mayweed', 'Fat Hen',\n",
              "       'Scentless Mayweed', 'Loose Silky-bent',\n",
              "       'Small-flowered Cranesbill', 'Scentless Mayweed', 'Fat Hen',\n",
              "       'Charlock', 'Sugar beet', 'Loose Silky-bent', 'Loose Silky-bent',\n",
              "       'Common wheat', 'Charlock', 'Scentless Mayweed', 'Cleavers',\n",
              "       'Loose Silky-bent', 'Fat Hen', 'Fat Hen', 'Loose Silky-bent',\n",
              "       'Common Chickweed', 'Common wheat', 'Loose Silky-bent', 'Fat Hen',\n",
              "       'Small-flowered Cranesbill', 'Common Chickweed', 'Cleavers',\n",
              "       'Common Chickweed', 'Small-flowered Cranesbill',\n",
              "       'Scentless Mayweed', 'Maize', 'Fat Hen', 'Charlock',\n",
              "       'Small-flowered Cranesbill', 'Scentless Mayweed', 'Fat Hen',\n",
              "       'Sugar beet', 'Small-flowered Cranesbill', 'Shepherds Purse',\n",
              "       'Fat Hen', 'Scentless Mayweed', 'Common wheat',\n",
              "       'Scentless Mayweed', 'Loose Silky-bent', 'Charlock',\n",
              "       'Common Chickweed', 'Fat Hen', 'Scentless Mayweed', 'Fat Hen',\n",
              "       'Small-flowered Cranesbill', 'Common Chickweed', 'Cleavers',\n",
              "       'Scentless Mayweed', 'Common Chickweed', 'Fat Hen',\n",
              "       'Small-flowered Cranesbill', 'Sugar beet', 'Scentless Mayweed',\n",
              "       'Small-flowered Cranesbill', 'Common Chickweed', 'Sugar beet',\n",
              "       'Scentless Mayweed', 'Common Chickweed',\n",
              "       'Small-flowered Cranesbill', 'Common wheat', 'Black-grass',\n",
              "       'Loose Silky-bent', 'Common wheat', 'Small-flowered Cranesbill',\n",
              "       'Small-flowered Cranesbill', 'Loose Silky-bent', 'Sugar beet',\n",
              "       'Common Chickweed', 'Cleavers', 'Fat Hen', 'Loose Silky-bent',\n",
              "       'Common wheat', 'Sugar beet', 'Maize', 'Charlock', 'Charlock',\n",
              "       'Common wheat', 'Common Chickweed', 'Shepherds Purse', 'Charlock',\n",
              "       'Loose Silky-bent', 'Scentless Mayweed', 'Scentless Mayweed',\n",
              "       'Common Chickweed', 'Cleavers', 'Small-flowered Cranesbill',\n",
              "       'Loose Silky-bent', 'Scentless Mayweed', 'Common Chickweed',\n",
              "       'Scentless Mayweed', 'Shepherds Purse', 'Common Chickweed',\n",
              "       'Loose Silky-bent', 'Small-flowered Cranesbill',\n",
              "       'Loose Silky-bent', 'Common Chickweed', 'Fat Hen',\n",
              "       'Loose Silky-bent', 'Sugar beet', 'Loose Silky-bent',\n",
              "       'Scentless Mayweed', 'Cleavers', 'Fat Hen',\n",
              "       'Small-flowered Cranesbill', 'Charlock'], dtype='<U25')"
            ]
          },
          "metadata": {
            "tags": []
          },
          "execution_count": 145
        }
      ]
    },
    {
      "metadata": {
        "id": "OWNFqr-Hw4cQ",
        "colab_type": "code",
        "colab": {}
      },
      "cell_type": "code",
      "source": [
        "import pandas as pd\n",
        "Final = pd.DataFrame(columns = ['file', 'species'])\n",
        "file_list = []\n",
        "os.chdir('/content/drive/My Drive/Plant-Breed/test')\n",
        "for i in os.listdir():\n",
        "  file_list.append(i)\n",
        "Final['file'] = file_list\n",
        "Final['species'] = y_pred_trans"
      ],
      "execution_count": 0,
      "outputs": []
    },
    {
      "metadata": {
        "id": "fsh-k-EpxL0s",
        "colab_type": "code",
        "colab": {}
      },
      "cell_type": "code",
      "source": [
        "os.chdir('/content/drive/My Drive/Plant-Breed/test')\n",
        "Final.to_csv('Score.csv', index = False)"
      ],
      "execution_count": 0,
      "outputs": []
    }
  ]
}