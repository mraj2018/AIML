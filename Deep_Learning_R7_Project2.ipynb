{
  "nbformat": 4,
  "nbformat_minor": 0,
  "metadata": {
    "colab": {
      "name": "Deep Learning_R7_Project2.ipynb",
      "version": "0.3.2",
      "provenance": [],
      "include_colab_link": true
    },
    "kernelspec": {
      "name": "python3",
      "display_name": "Python 3"
    },
    "accelerator": "GPU"
  },
  "cells": [
    {
      "cell_type": "markdown",
      "metadata": {
        "id": "view-in-github",
        "colab_type": "text"
      },
      "source": [
        "<a href=\"https://colab.research.google.com/github/mraj2018/AIML/blob/master/Deep_Learning_R7_Project2.ipynb\" target=\"_parent\"><img src=\"https://colab.research.google.com/assets/colab-badge.svg\" alt=\"Open In Colab\"/></a>"
      ]
    },
    {
      "metadata": {
        "id": "IU-Z0BzEH5KG",
        "colab_type": "text"
      },
      "cell_type": "markdown",
      "source": [
        "The objective of the project is to learn how to implement a simple image classification\n",
        "pipeline based on the k-Nearest Neighbour and a deep neural network. The goals of this\n",
        "assignment are as follows:\n",
        "\n",
        "\n",
        "● Understand the basic Image Classification pipeline and the data-driven\n",
        "approach (train/predict stages)\n",
        "\n",
        "● Data fetching and understand the train/val/test splits.\n",
        "\n",
        "● Implement and apply an optimal k-Nearest Neighbor (kNN) classifier (7.5\n",
        "points)\n",
        "\n",
        "● Print the classification metric report (2.5 points)\n",
        "\n",
        "● Implement and apply a deep neural network classifier including (feedforward\n",
        "neural network, RELU activations) (5 points)\n",
        "\n",
        "● Understand and be able to implement (vectorized) backpropagation (cost\n",
        "stochastic gradient descent, cross entropy loss, cost functions) (2.5 points)\n",
        "\n",
        "● Implement batch normalization for training the neural network (2.5 points)● Understand the differences and trade-offs between traditional and NN\n",
        "classifiers with the help of classification metrics (5 points)"
      ]
    },
    {
      "metadata": {
        "id": "OPOVQxrQg7ld",
        "colab_type": "text"
      },
      "cell_type": "markdown",
      "source": [
        ""
      ]
    },
    {
      "metadata": {
        "id": "PhKOsByQN0xf",
        "colab_type": "code",
        "outputId": "36acd0d1-4dd9-4b36-a211-0e5c26176c2a",
        "colab": {
          "base_uri": "https://localhost:8080/",
          "height": 34
        }
      },
      "cell_type": "code",
      "source": [
        "from google.colab import drive\n",
        "drive.mount('/content/drive')"
      ],
      "execution_count": 22,
      "outputs": [
        {
          "output_type": "stream",
          "text": [
            "Drive already mounted at /content/drive; to attempt to forcibly remount, call drive.mount(\"/content/drive\", force_remount=True).\n"
          ],
          "name": "stdout"
        }
      ]
    },
    {
      "metadata": {
        "id": "_yhm8ksVS7Qa",
        "colab_type": "code",
        "colab": {}
      },
      "cell_type": "code",
      "source": [
        "import h5py\n",
        "import pandas as pd\n",
        "import numpy as np\n",
        "import matplotlib.pylab as plt\n",
        "from __future__ import print_function\n",
        "import keras\n",
        "import keras.optimizers as opt\n",
        "from keras.preprocessing.image import ImageDataGenerator\n",
        "from keras.models import Sequential\n",
        "from keras.layers import Dense, Dropout, Activation, Flatten,BatchNormalization\n",
        "from keras.layers import Conv2D, MaxPooling2D\n",
        "import os\n",
        "import tensorflow as tf\n",
        "from tensorflow import keras\n",
        "from keras.models import Sequential\n",
        "\n",
        "##############################\n",
        "from sklearn.neighbors import KNeighborsClassifier\n",
        "from sklearn.metrics import classification_report\n",
        "from sklearn import datasets\n",
        "from skimage import exposure\n",
        "import numpy as np\n",
        "import imutils\n",
        "import cv2\n",
        "import sklearn"
      ],
      "execution_count": 0,
      "outputs": []
    },
    {
      "metadata": {
        "id": "TqJZ32TTOGeH",
        "colab_type": "code",
        "outputId": "2936e1e8-dcb4-45be-8b10-0d582e9c8b47",
        "colab": {
          "base_uri": "https://localhost:8080/",
          "height": 34
        }
      },
      "cell_type": "code",
      "source": [
        "!ls \"/content/drive/My Drive/SVHNN\"\n",
        "\n",
        "filename = '/content/drive/My Drive/SVHNN/SVHN_single_grey1.h5'\n",
        "root_dir = '/content/drive/My Drive/'\n"
      ],
      "execution_count": 24,
      "outputs": [
        {
          "output_type": "stream",
          "text": [
            "SVHN_single_grey1.h5\n"
          ],
          "name": "stdout"
        }
      ]
    },
    {
      "metadata": {
        "id": "ovd8Sb0tPS2R",
        "colab_type": "code",
        "outputId": "f5d81e76-b00c-417b-9a37-4b7b4042c69a",
        "colab": {
          "base_uri": "https://localhost:8080/",
          "height": 51
        }
      },
      "cell_type": "code",
      "source": [
        "f = h5py.File(filename, 'r')\n",
        "print(list(f.keys()))\n",
        "\n",
        "img_train = f[u'X_train']\n",
        "img_test = f[u'X_test']\n",
        "img_val = f[u'X_val']\n",
        "\n",
        "lbl_train = f[u'y_train']\n",
        "lbl_test = f[u'y_test']\n",
        "lbl_val = f[u'y_val']\n",
        "\n",
        "img_train.shape,img_test.shape,img_val.shape, lbl_train.shape,lbl_test.shape"
      ],
      "execution_count": 25,
      "outputs": [
        {
          "output_type": "stream",
          "text": [
            "['X_test', 'X_train', 'X_val', 'y_test', 'y_train', 'y_val']\n"
          ],
          "name": "stdout"
        },
        {
          "output_type": "execute_result",
          "data": {
            "text/plain": [
              "((42000, 32, 32), (18000, 32, 32), (60000, 32, 32), (42000,), (18000,))"
            ]
          },
          "metadata": {
            "tags": []
          },
          "execution_count": 25
        }
      ]
    },
    {
      "metadata": {
        "id": "4gIic-Wm5Ga9",
        "colab_type": "code",
        "outputId": "38b7c2b5-d955-4c1c-d2c5-1c04ef1778e8",
        "colab": {
          "base_uri": "https://localhost:8080/",
          "height": 51
        }
      },
      "cell_type": "code",
      "source": [
        "# retrieve the train ,test images and reshape them.\n",
        "\n",
        "x_train = np.array(img_train)\n",
        "x_test = np.array(img_test)\n",
        "x_val=np.array(img_val)\n",
        "\n",
        "#reshape data to fit model\n",
        "x_train = x_train.reshape(42000,32,32,1)\n",
        "x_test = x_test.reshape(18000,32,32,1)\n",
        "x_val=x_val.reshape(60000,32,32,1)\n",
        "\n",
        "print(x_test.shape)\n",
        "print(x_train.shape)"
      ],
      "execution_count": 26,
      "outputs": [
        {
          "output_type": "stream",
          "text": [
            "(18000, 32, 32, 1)\n",
            "(42000, 32, 32, 1)\n"
          ],
          "name": "stdout"
        }
      ]
    },
    {
      "metadata": {
        "id": "NBKAhkhTxoPD",
        "colab_type": "code",
        "colab": {}
      },
      "cell_type": "code",
      "source": [
        "def image_resize(image, width = None, height = None, inter = cv2.INTER_AREA):\n",
        "    # initialize the dimensions of the image to be resized and\n",
        "    # grab the image size\n",
        "    dim = None\n",
        "    (h, w) = image.shape[:2]\n",
        "\n",
        "    # if both the width and height are None, then return the\n",
        "    # original image\n",
        "    if width is None and height is None:\n",
        "        return image\n",
        "\n",
        "    # check to see if the width is None\n",
        "    if width is None:\n",
        "        # calculate the ratio of the height and construct the\n",
        "        # dimensions\n",
        "        r = height / float(h)\n",
        "        dim = (int(w * r), height)\n",
        "\n",
        "    # otherwise, the height is None\n",
        "    else:\n",
        "        # calculate the ratio of the width and construct the\n",
        "        # dimensions\n",
        "        r = width / float(w)\n",
        "        dim = (width, int(h * r))\n",
        "\n",
        "    # resize the image\n",
        "    resized = cv2.resize(image, dim, interpolation = inter)\n",
        "\n",
        "    # return the resized image\n",
        "    return resized"
      ],
      "execution_count": 0,
      "outputs": []
    },
    {
      "metadata": {
        "id": "Z7Pan9mWmFbI",
        "colab_type": "code",
        "outputId": "260d6b43-d5cd-48c2-ebeb-c7d3c9389a90",
        "colab": {
          "base_uri": "https://localhost:8080/",
          "height": 364
        }
      },
      "cell_type": "code",
      "source": [
        "# Check images and labels for their correctness\n",
        "print(lbl_train[1000])\n",
        "plt.imshow(x_train[1000].reshape(32,32));"
      ],
      "execution_count": 29,
      "outputs": [
        {
          "output_type": "stream",
          "text": [
            "6\n"
          ],
          "name": "stdout"
        },
        {
          "output_type": "display_data",
          "data": {
            "image/png": "[encoded data removed]",
            "text/plain": [
              "<Figure size 576x396 with 1 Axes>"
            ]
          },
          "metadata": {
            "tags": []
          }
        }
      ]
    },
    {
      "metadata": {
        "id": "DI3QnvcYiKJY",
        "colab_type": "code",
        "outputId": "301355f4-5aae-4674-f257-895405e3915f",
        "colab": {
          "base_uri": "https://localhost:8080/",
          "height": 34
        }
      },
      "cell_type": "code",
      "source": [
        "# Convert class vectors to binary class matrices.\n",
        "y_train = keras.utils.to_categorical(lbl_train, 10)\n",
        "y_test = keras.utils.to_categorical(lbl_test, 10)\n",
        "\n",
        "print(y_train.shape,y_test.shape)"
      ],
      "execution_count": 39,
      "outputs": [
        {
          "output_type": "stream",
          "text": [
            "(42000, 10) (18000, 10)\n"
          ],
          "name": "stdout"
        }
      ]
    },
    {
      "metadata": {
        "id": "sSljigr4Wh30",
        "colab_type": "code",
        "outputId": "ecfd127d-4e74-4851-8415-c8aa943958be",
        "colab": {
          "base_uri": "https://localhost:8080/",
          "height": 123
        }
      },
      "cell_type": "code",
      "source": [
        "def plot_images(img, labels, nrows, ncols):\n",
        "    \"\"\" Plot nrows x ncols images\n",
        "    \"\"\"\n",
        "    fig, axes = plt.subplots(nrows, ncols)\n",
        "    for i, ax in enumerate(axes.flat): \n",
        "        if img[i].shape == (32, 32, 3):\n",
        "            ax.imshow(img[i])\n",
        "        else:\n",
        "            ax.imshow(img[i,:,:,0])\n",
        "        ax.set_xticks([]); ax.set_yticks([])\n",
        "        ax.set_title(labels[i])\n",
        "        \n",
        "plot_images(x_train, lbl_train, 1, 5)"
      ],
      "execution_count": 31,
      "outputs": [
        {
          "output_type": "display_data",
          "data": {
            "image/png": "[encoded data removed]",
            "text/plain": [
              "<Figure size 576x396 with 5 Axes>"
            ]
          },
          "metadata": {
            "tags": []
          }
        }
      ]
    },
    {
      "metadata": {
        "id": "PZSf0Q2OYMpx",
        "colab_type": "code",
        "outputId": "5371cd19-2236-4db5-fcb6-10dfaa3968b6",
        "colab": {
          "base_uri": "https://localhost:8080/",
          "height": 68
        }
      },
      "cell_type": "code",
      "source": [
        "# normalize the data\n",
        "\n",
        "train_mean = np.mean(x_train, axis=0) #Shape (32,1)\n",
        "train_std = np.std(x_train, axis=0) #Shape (32,1)\n",
        "x_train_norm = (x_train - train_mean) / train_std\n",
        "x_train_255 = np.divide(x_train, 255)\n",
        "x_train_255 = np.array(x_train_255)\n",
        "\n",
        "x_test_255 = np.divide(x_test, 255)\n",
        "x_test_255 = np.array(x_test_255)\n",
        "\n",
        "print(\"X_train_norm Shape: \", x_train_norm.shape)\n",
        "print(\"X_train_255 Shape: \", x_train_255.shape)\n",
        "print(\"X_test_255 Shape: \", x_test_255.shape)"
      ],
      "execution_count": 33,
      "outputs": [
        {
          "output_type": "stream",
          "text": [
            "X_train_norm Shape:  (42000, 32, 32, 1)\n",
            "X_train_255 Shape:  (42000, 32, 32, 1)\n",
            "X_test_255 Shape:  (18000, 32, 32, 1)\n"
          ],
          "name": "stdout"
        }
      ]
    },
    {
      "metadata": {
        "id": "ZZnew_yrNDlV",
        "colab_type": "code",
        "colab": {
          "base_uri": "https://localhost:8080/",
          "height": 51
        },
        "outputId": "1804664d-954a-4b10-8e88-53610abaa9fb"
      },
      "cell_type": "code",
      "source": [
        "# Convert 3d images into 2d \n",
        "nsamples, nx, ny, gsc = x_train.shape\n",
        "msamples,mx,my,mgsc = x_test.shape\n",
        "xtrain = x_train.reshape((nsamples,nx*ny))\n",
        "xtest = x_test.reshape((msamples,mx*my))\n",
        "\n",
        "print(\"Xtrain 32*32: \", xtrain.shape)\n",
        "print(\"Xtest32*32: \", xtest.shape)\n",
        "\n"
      ],
      "execution_count": 34,
      "outputs": [
        {
          "output_type": "stream",
          "text": [
            "Xtrain 32*32:  (42000, 1024)\n",
            "Xtest32*32:  (18000, 1024)\n"
          ],
          "name": "stdout"
        }
      ]
    },
    {
      "metadata": {
        "id": "-4HdxKkp_Gdv",
        "colab_type": "code",
        "outputId": "820c552e-ccdf-4b33-a4db-170797d25c40",
        "colab": {
          "base_uri": "https://localhost:8080/",
          "height": 289
        }
      },
      "cell_type": "code",
      "source": [
        "#KNN expects 2d num arrays for the training dataset for a fit function.we need to reshape the array into a 2d. \n",
        "#Lets first try with original image resolution of 32*32\n",
        "\n",
        "# initialize the values of k for our k-Nearest Neighbor classifier along with the\n",
        "# list of accuracies for each value of k\n",
        "kVals = range(1, 30, 2)\n",
        "accuracies = []\n",
        "\n",
        "\n",
        "# loop over kVals\n",
        "for k in range(1, 30, 2):\n",
        "# train the classifier with the current value of `k`\n",
        "  model = KNeighborsClassifier(n_neighbors=k ,algorithm='brute',weights='distance')\n",
        "  model.fit(xtrain, y_train)\n",
        "\n",
        "    # evaluate the model and print the accuracies list\n",
        "  score = model.score(xtest, y_test)\n",
        "  print(\"k=%d, accuracy=%.2f%%\" % (k, score * 100))\n",
        "  accuracies.append(score)\n",
        "    \n",
        "# largest accuracy\n",
        "# np.argmax returns the indices of the maximum values along an axis\n",
        "i = np.argmax(accuracies)\n",
        "print(\"k=%d achieved highest accuracy of %.2f%% on validation data\" % (kVals[i],accuracies[i] * 100))"
      ],
      "execution_count": 11,
      "outputs": [
        {
          "output_type": "stream",
          "text": [
            "k=1, accuracy=45.92%\n",
            "k=3, accuracy=37.88%\n",
            "k=5, accuracy=32.44%\n",
            "k=7, accuracy=28.77%\n",
            "k=9, accuracy=26.04%\n",
            "k=11, accuracy=23.69%\n",
            "k=13, accuracy=21.73%\n",
            "k=15, accuracy=20.14%\n",
            "k=17, accuracy=18.74%\n",
            "k=19, accuracy=17.53%\n",
            "k=21, accuracy=16.38%\n",
            "k=23, accuracy=15.39%\n",
            "k=25, accuracy=14.60%\n",
            "k=27, accuracy=13.69%\n",
            "k=29, accuracy=13.14%\n",
            "k=1 achieved highest accuracy of 45.92% on validation data\n"
          ],
          "name": "stdout"
        }
      ]
    },
    {
      "metadata": {
        "id": "tM2CDndI_GQt",
        "colab_type": "code",
        "outputId": "7dca4c60-070f-450d-8bc3-d987a264e0cd",
        "colab": {
          "base_uri": "https://localhost:8080/",
          "height": 357
        }
      },
      "cell_type": "code",
      "source": [
        "# K value 1 gave the high accuracy. Use the 32*32 image source\n",
        "\n",
        "model = KNeighborsClassifier(n_neighbors=1,algorithm='brute')\n",
        "model.fit(xtrain, y_train)\n",
        "predictions = model.predict(xtest)\n",
        "\n",
        "score = model.score(xtest, y_test)\n",
        "print(\"Accuracy=\" , (score * 100))\n",
        "print(\"EVALUATION ON TESTING DATA\")\n",
        "print(classification_report(y_test, predictions))"
      ],
      "execution_count": 46,
      "outputs": [
        {
          "output_type": "stream",
          "text": [
            "Accuracy= 45.92222222222222\n",
            "EVALUATION ON TESTING DATA\n",
            "              precision    recall  f1-score   support\n",
            "\n",
            "           0       0.47      0.52      0.49      1814\n",
            "           1       0.50      0.57      0.53      1828\n",
            "           2       0.54      0.48      0.51      1803\n",
            "           3       0.37      0.35      0.36      1719\n",
            "           4       0.60      0.57      0.59      1812\n",
            "           5       0.38      0.33      0.36      1768\n",
            "           6       0.38      0.39      0.39      1832\n",
            "           7       0.63      0.59      0.61      1808\n",
            "           8       0.34      0.37      0.36      1812\n",
            "           9       0.39      0.40      0.40      1804\n",
            "\n",
            "   micro avg       0.46      0.46      0.46     18000\n",
            "   macro avg       0.46      0.46      0.46     18000\n",
            "weighted avg       0.46      0.46      0.46     18000\n",
            " samples avg       0.46      0.46      0.46     18000\n",
            "\n"
          ],
          "name": "stdout"
        }
      ]
    },
    {
      "metadata": {
        "id": "HKbyGjx4_GnC",
        "colab_type": "code",
        "colab": {}
      },
      "cell_type": "code",
      "source": [
        ""
      ],
      "execution_count": 0,
      "outputs": []
    },
    {
      "metadata": {
        "id": "Rdo7A9T__GNf",
        "colab_type": "code",
        "colab": {}
      },
      "cell_type": "code",
      "source": [
        ""
      ],
      "execution_count": 0,
      "outputs": []
    },
    {
      "metadata": {
        "id": "L8qAdTgM_GHy",
        "colab_type": "code",
        "colab": {}
      },
      "cell_type": "code",
      "source": [
        ""
      ],
      "execution_count": 0,
      "outputs": []
    },
    {
      "metadata": {
        "id": "R7PV_Q3P_F-I",
        "colab_type": "code",
        "colab": {}
      },
      "cell_type": "code",
      "source": [
        ""
      ],
      "execution_count": 0,
      "outputs": []
    },
    {
      "metadata": {
        "id": "0berOHPj_FyO",
        "colab_type": "code",
        "colab": {}
      },
      "cell_type": "code",
      "source": [
        ""
      ],
      "execution_count": 0,
      "outputs": []
    },
    {
      "metadata": {
        "id": "bXu_tLYE8WFs",
        "colab_type": "code",
        "colab": {}
      },
      "cell_type": "code",
      "source": [
        "#Implement and apply a deep neural network classifier including (feedforward neural network, RELU activations) (5 points)"
      ],
      "execution_count": 0,
      "outputs": []
    },
    {
      "metadata": {
        "id": "_YL2D6NvOp9e",
        "colab_type": "code",
        "colab": {
          "base_uri": "https://localhost:8080/",
          "height": 88
        },
        "outputId": "0eaea030-a2cb-48fe-e51b-4483090b4f67"
      },
      "cell_type": "code",
      "source": [
        "from keras.constraints import max_norm\n",
        "model2 = Sequential()\n",
        "model2.add(Conv2D(32, (3, 3), strides=1, activation='relu',input_shape=(32, 32, 1), kernel_constraint=max_norm(3)))\n",
        "model2.add(MaxPooling2D(pool_size=(3, 3), strides=2))\n",
        "model2.add(Conv2D(64, (3, 3), activation='relu', strides=1, kernel_constraint=max_norm(3)))\n",
        "model2.add(MaxPooling2D(pool_size=(3, 3), strides=2))\n",
        "model2.add(Conv2D(128, (3, 3), activation='relu', strides=1, kernel_constraint=max_norm(3)))\n",
        "model2.add(MaxPooling2D(pool_size=(3, 3), strides=2))\n",
        "model2.add(Flatten())\n",
        "model2.add(Dense(512))\n",
        "model2.add(Activation('relu'))\n",
        "model2.add(Dense(10))\n",
        "model2.add(Activation('softmax'))\n",
        "\n",
        "model2.compile(loss='categorical_crossentropy',\n",
        "              optimizer='adam',\n",
        "              metrics=['accuracy'])\n",
        "\n",
        "# Store Training Results\n",
        "early_stopping = keras.callbacks.EarlyStopping(monitor='acc', patience=3, verbose=1, mode='auto')\n",
        "callback_list = [early_stopping]# [stats, early_stopping]\n",
        "\n"
      ],
      "execution_count": 47,
      "outputs": [
        {
          "output_type": "stream",
          "text": [
            "WARNING:tensorflow:From /usr/local/lib/python3.6/dist-packages/tensorflow/python/framework/op_def_library.py:263: colocate_with (from tensorflow.python.framework.ops) is deprecated and will be removed in a future version.\n",
            "Instructions for updating:\n",
            "Colocations handled automatically by placer.\n"
          ],
          "name": "stdout"
        }
      ]
    },
    {
      "metadata": {
        "id": "LdJtkoJf9Qi6",
        "colab_type": "code",
        "outputId": "585f3234-ead5-4cec-e5d1-1a0f5aad6dab",
        "colab": {
          "base_uri": "https://localhost:8080/",
          "height": 445
        }
      },
      "cell_type": "code",
      "source": [
        "model2.fit(x_train_255, y_train,batch_size=32,epochs=10, callbacks=callback_list, verbose=True)"
      ],
      "execution_count": 48,
      "outputs": [
        {
          "output_type": "stream",
          "text": [
            "WARNING:tensorflow:From /usr/local/lib/python3.6/dist-packages/tensorflow/python/ops/math_ops.py:3066: to_int32 (from tensorflow.python.ops.math_ops) is deprecated and will be removed in a future version.\n",
            "Instructions for updating:\n",
            "Use tf.cast instead.\n",
            "Epoch 1/10\n",
            "42000/42000 [==============================] - 18s 430us/step - loss: 1.2072 - acc: 0.5920\n",
            "Epoch 2/10\n",
            "42000/42000 [==============================] - 13s 305us/step - loss: 0.5537 - acc: 0.8355\n",
            "Epoch 3/10\n",
            "42000/42000 [==============================] - 13s 306us/step - loss: 0.4231 - acc: 0.8737\n",
            "Epoch 4/10\n",
            "42000/42000 [==============================] - 13s 306us/step - loss: 0.3618 - acc: 0.8909\n",
            "Epoch 5/10\n",
            "42000/42000 [==============================] - 13s 302us/step - loss: 0.3191 - acc: 0.9048\n",
            "Epoch 6/10\n",
            "42000/42000 [==============================] - 13s 304us/step - loss: 0.2907 - acc: 0.9133\n",
            "Epoch 7/10\n",
            "42000/42000 [==============================] - 13s 303us/step - loss: 0.2682 - acc: 0.9196\n",
            "Epoch 8/10\n",
            "42000/42000 [==============================] - 13s 304us/step - loss: 0.2496 - acc: 0.9241\n",
            "Epoch 9/10\n",
            "42000/42000 [==============================] - 13s 305us/step - loss: 0.2312 - acc: 0.9300\n",
            "Epoch 10/10\n",
            "42000/42000 [==============================] - 13s 306us/step - loss: 0.2148 - acc: 0.9351\n"
          ],
          "name": "stdout"
        },
        {
          "output_type": "execute_result",
          "data": {
            "text/plain": [
              "<keras.callbacks.History at 0x7faca4b894e0>"
            ]
          },
          "metadata": {
            "tags": []
          },
          "execution_count": 48
        }
      ]
    },
    {
      "metadata": {
        "id": "ils3n2pbFrM4",
        "colab_type": "code",
        "outputId": "12aa20bf-1010-4f35-8dc6-d2056828812f",
        "colab": {
          "base_uri": "https://localhost:8080/",
          "height": 68
        }
      },
      "cell_type": "code",
      "source": [
        "print('Evaluation')\n",
        "loss, acc = model2.evaluate(x_test_255,y_test,batch_size=32)\n",
        "print('Test loss / test accuracy = {:.4f} / {:.4f}'.format(loss, acc))"
      ],
      "execution_count": 49,
      "outputs": [
        {
          "output_type": "stream",
          "text": [
            "Evaluation\n",
            "18000/18000 [==============================] - 2s 92us/step\n",
            "Test loss / test accuracy = 0.3393 / 0.9031\n"
          ],
          "name": "stdout"
        }
      ]
    },
    {
      "metadata": {
        "id": "hnO5VRRHF9cF",
        "colab_type": "code",
        "colab": {}
      },
      "cell_type": "code",
      "source": [
        "#Understand and be able to implement (vectorized) backpropagation (cost stochastic gradient descent, \n",
        "#cross entropy loss, cost functions) (2.5 points)"
      ],
      "execution_count": 0,
      "outputs": []
    },
    {
      "metadata": {
        "id": "59vzJNMK7t4t",
        "colab_type": "code",
        "colab": {
          "base_uri": "https://localhost:8080/",
          "height": 88
        },
        "outputId": "5581ac41-da01-4c72-f98c-221bf71766ff"
      },
      "cell_type": "code",
      "source": [
        "#create model\n",
        "\n",
        "model = Sequential()\n",
        "model.add(Conv2D(32, (3, 3), padding='same',\n",
        "                 input_shape=x_train.shape[1:]))\n",
        "model.add(Activation('relu'))\n",
        "\n",
        "model.add(Conv2D(32, (3, 3)))\n",
        "model.add(Activation('relu'))\n",
        "model.add(MaxPooling2D(pool_size=(2, 2)))\n",
        "model.add(Dropout(0.25))\n",
        "\n",
        "model.add(Conv2D(64, (3, 3), padding='same'))\n",
        "model.add(Activation('relu'))\n",
        "\n",
        "model.add(Conv2D(64, (3, 3)))\n",
        "model.add(Activation('relu'))\n",
        "model.add(MaxPooling2D(pool_size=(2, 2)))\n",
        "model.add(Dropout(0.25))\n",
        "\n",
        "model.add(Flatten())\n",
        "model.add(Dense(512))\n",
        "model.add(Activation('relu'))\n",
        "\n",
        "model.add(Dense(10))\n",
        "model.add(Activation('softmax'))\n",
        "\n",
        "sgd_optimizer = opt.SGD(lr=0.01, decay=1e-6, momentum=0.9, nesterov=True)\n",
        "\n",
        "model.compile(optimizer=sgd_optimizer, loss='categorical_crossentropy', metrics=['accuracy'])\n",
        "\n",
        "early_stopping = keras.callbacks.EarlyStopping(monitor='acc', patience=5, verbose=1, mode='auto')\n",
        "callback_list = [early_stopping]# [stats, early_stopping]"
      ],
      "execution_count": 50,
      "outputs": [
        {
          "output_type": "stream",
          "text": [
            "WARNING:tensorflow:From /usr/local/lib/python3.6/dist-packages/keras/backend/tensorflow_backend.py:3445: calling dropout (from tensorflow.python.ops.nn_ops) with keep_prob is deprecated and will be removed in a future version.\n",
            "Instructions for updating:\n",
            "Please use `rate` instead of `keep_prob`. Rate should be set to `rate = 1 - keep_prob`.\n"
          ],
          "name": "stdout"
        }
      ]
    },
    {
      "metadata": {
        "id": "FwTBMr9a77Vl",
        "colab_type": "code",
        "outputId": "97151653-318c-4d22-fab9-e8fd78a9aa93",
        "colab": {
          "base_uri": "https://localhost:8080/",
          "height": 374
        }
      },
      "cell_type": "code",
      "source": [
        "model.fit(x_train_255, y_train,\n",
        "              batch_size=32,\n",
        "              epochs=10,callbacks=callback_list, verbose=True)"
      ],
      "execution_count": 51,
      "outputs": [
        {
          "output_type": "stream",
          "text": [
            "Epoch 1/10\n",
            "42000/42000 [==============================] - 14s 327us/step - loss: 2.3032 - acc: 0.1026\n",
            "Epoch 2/10\n",
            "42000/42000 [==============================] - 13s 314us/step - loss: 1.0011 - acc: 0.6707\n",
            "Epoch 3/10\n",
            "42000/42000 [==============================] - 13s 317us/step - loss: 0.4485 - acc: 0.8605\n",
            "Epoch 4/10\n",
            "42000/42000 [==============================] - 13s 317us/step - loss: 0.3482 - acc: 0.8926\n",
            "Epoch 5/10\n",
            "42000/42000 [==============================] - 13s 315us/step - loss: 0.2936 - acc: 0.9109\n",
            "Epoch 6/10\n",
            "42000/42000 [==============================] - 13s 316us/step - loss: 0.2490 - acc: 0.9247\n",
            "Epoch 7/10\n",
            "42000/42000 [==============================] - 13s 314us/step - loss: 0.2132 - acc: 0.9341\n",
            "Epoch 8/10\n",
            "42000/42000 [==============================] - 13s 315us/step - loss: 0.1895 - acc: 0.9413\n",
            "Epoch 9/10\n",
            "42000/42000 [==============================] - 13s 315us/step - loss: 0.1670 - acc: 0.9476\n",
            "Epoch 10/10\n",
            "42000/42000 [==============================] - 13s 315us/step - loss: 0.1500 - acc: 0.9529\n"
          ],
          "name": "stdout"
        },
        {
          "output_type": "execute_result",
          "data": {
            "text/plain": [
              "<keras.callbacks.History at 0x7faca4d3b9e8>"
            ]
          },
          "metadata": {
            "tags": []
          },
          "execution_count": 51
        }
      ]
    },
    {
      "metadata": {
        "id": "tdrpQ9ab0BXF",
        "colab_type": "code",
        "outputId": "85a53bd2-9792-4e05-c251-a85362079efd",
        "colab": {
          "base_uri": "https://localhost:8080/",
          "height": 68
        }
      },
      "cell_type": "code",
      "source": [
        "print('Evaluation')\n",
        "loss, acc = model.evaluate(x_test_255,y_test,batch_size=32)\n",
        "print('Test loss / test accuracy = {:.4f} / {:.4f}'.format(loss, acc))"
      ],
      "execution_count": 52,
      "outputs": [
        {
          "output_type": "stream",
          "text": [
            "Evaluation\n",
            "18000/18000 [==============================] - 2s 127us/step\n",
            "Test loss / test accuracy = 0.2909 / 0.9259\n"
          ],
          "name": "stdout"
        }
      ]
    },
    {
      "metadata": {
        "id": "ukXYcEfoGsco",
        "colab_type": "code",
        "colab": {}
      },
      "cell_type": "code",
      "source": [
        "#Implement batch normalization for training the neural network (2.5 points)● \n"
      ],
      "execution_count": 0,
      "outputs": []
    },
    {
      "metadata": {
        "id": "ZMgjHOd91y_e",
        "colab_type": "code",
        "colab": {}
      },
      "cell_type": "code",
      "source": [
        "##create model with SGD & Batchnorm\n",
        "\n",
        "\n",
        "model_sgd = Sequential()\n",
        "model_sgd.add(Conv2D(32, (3, 3),padding='same',input_shape=x_train.shape[1:]))\n",
        "model_sgd.add(BatchNormalization())\n",
        "model_sgd.add(Activation('relu'))\n",
        "\n",
        "model_sgd.add(Conv2D(64, (5, 5),padding='same'))\n",
        "model_sgd.add(BatchNormalization())\n",
        "model_sgd.add(Activation('relu'))\n",
        "model_sgd.add(MaxPooling2D(pool_size=(2, 2)))\n",
        "model_sgd.add(Dropout(0.25))\n",
        "\n",
        "model_sgd.add(Conv2D(64, (3, 3), padding='same'))\n",
        "model_sgd.add(BatchNormalization())\n",
        "model_sgd.add(Activation('relu'))\n",
        "\n",
        "\n",
        "model_sgd.add(Conv2D(64, (3, 3),padding='same'))\n",
        "model_sgd.add(BatchNormalization())\n",
        "model_sgd.add(Activation('relu'))\n",
        "\n",
        "\n",
        "model_sgd.add(MaxPooling2D(pool_size=(2, 2)))\n",
        "model_sgd.add(Dropout(0.25))\n",
        "\n",
        "model_sgd.add(Flatten())\n",
        "model_sgd.add(Dense(512))\n",
        "model_sgd.add(Activation('relu'))\n",
        "\n",
        "model_sgd.add(Dense(10))\n",
        "model_sgd.add(Activation('softmax'))\n",
        "\n",
        "\n",
        "#Create optimizer with non-default learning rate\n",
        "\n",
        "\n",
        "sgd_optimizer = opt.SGD(lr=0.01, decay=1e-6, momentum=0.9, nesterov=True)\n",
        "\n",
        "model_sgd.compile(optimizer=sgd_optimizer, loss='categorical_crossentropy', metrics=['accuracy'])\n",
        "\n",
        "# Store Training Results\n",
        "early_stopping = keras.callbacks.EarlyStopping(monitor='val_acc', patience=3, verbose=1, mode='auto')\n",
        "callback_list = [early_stopping]# [stats, early_stopping]"
      ],
      "execution_count": 0,
      "outputs": []
    },
    {
      "metadata": {
        "id": "Q_Z-m_KZ2mqW",
        "colab_type": "code",
        "outputId": "fa7fcb8e-df8f-4de2-cbcc-e62988569614",
        "colab": {
          "base_uri": "https://localhost:8080/",
          "height": 391
        }
      },
      "cell_type": "code",
      "source": [
        "model_sgd.fit(x_train_255, y_train,batch_size=32,epochs=10,validation_data=(x_test_255, y_test), callbacks=callback_list, verbose=True)"
      ],
      "execution_count": 54,
      "outputs": [
        {
          "output_type": "stream",
          "text": [
            "Train on 42000 samples, validate on 18000 samples\n",
            "Epoch 1/10\n",
            "42000/42000 [==============================] - 36s 850us/step - loss: 1.7826 - acc: 0.3937 - val_loss: 0.7534 - val_acc: 0.7590\n",
            "Epoch 2/10\n",
            "42000/42000 [==============================] - 35s 829us/step - loss: 0.5312 - acc: 0.8318 - val_loss: 0.4429 - val_acc: 0.8682\n",
            "Epoch 3/10\n",
            "42000/42000 [==============================] - 35s 826us/step - loss: 0.3550 - acc: 0.8901 - val_loss: 0.3558 - val_acc: 0.8911\n",
            "Epoch 4/10\n",
            "42000/42000 [==============================] - 35s 825us/step - loss: 0.2857 - acc: 0.9127 - val_loss: 0.3220 - val_acc: 0.9018\n",
            "Epoch 5/10\n",
            "42000/42000 [==============================] - 35s 826us/step - loss: 0.2431 - acc: 0.9264 - val_loss: 0.2941 - val_acc: 0.9129\n",
            "Epoch 6/10\n",
            "42000/42000 [==============================] - 35s 828us/step - loss: 0.2075 - acc: 0.9372 - val_loss: 0.2575 - val_acc: 0.9239\n",
            "Epoch 7/10\n",
            "42000/42000 [==============================] - 35s 826us/step - loss: 0.1834 - acc: 0.9447 - val_loss: 0.2466 - val_acc: 0.9276\n",
            "Epoch 8/10\n",
            "42000/42000 [==============================] - 35s 827us/step - loss: 0.1573 - acc: 0.9525 - val_loss: 0.2610 - val_acc: 0.9276\n",
            "Epoch 9/10\n",
            "42000/42000 [==============================] - 35s 828us/step - loss: 0.1388 - acc: 0.9571 - val_loss: 0.2489 - val_acc: 0.9325\n",
            "Epoch 10/10\n",
            "42000/42000 [==============================] - 35s 830us/step - loss: 0.1223 - acc: 0.9625 - val_loss: 0.2620 - val_acc: 0.9283\n"
          ],
          "name": "stdout"
        },
        {
          "output_type": "execute_result",
          "data": {
            "text/plain": [
              "<keras.callbacks.History at 0x7faca0185d68>"
            ]
          },
          "metadata": {
            "tags": []
          },
          "execution_count": 54
        }
      ]
    },
    {
      "metadata": {
        "id": "8igpfC1b2OfC",
        "colab_type": "code",
        "outputId": "dc7e4420-5d36-4a74-8b81-ffe9e1fb7632",
        "colab": {
          "base_uri": "https://localhost:8080/",
          "height": 378
        }
      },
      "cell_type": "code",
      "source": [
        "import seaborn as sns\n",
        "# Predicting the Test set results & Printing the confusion matrix\n",
        "y_pred = model_sgd.predict(x_test)\n",
        "y_pred = (y_pred > 0.5)\n",
        "# Creating the Confusion Matrix\n",
        "from sklearn.metrics import confusion_matrix\n",
        "cm = confusion_matrix(y_test.argmax(axis=1), y_pred.argmax(axis=1))\n",
        "\n",
        "#print(cm)\n",
        "\n",
        "fig2=plt.figure()\n",
        "fig2.add_subplot(111)\n",
        "sns.heatmap(cm,annot=True,square=True,cbar=False,fmt=\"d\")\n",
        "plt.xlabel(\"predicted label\")\n",
        "plt.ylabel(\"true label\")"
      ],
      "execution_count": 55,
      "outputs": [
        {
          "output_type": "execute_result",
          "data": {
            "text/plain": [
              "Text(124.71000000000001, 0.5, 'true label')"
            ]
          },
          "metadata": {
            "tags": []
          },
          "execution_count": 55
        },
        {
          "output_type": "display_data",
          "data": {
            "image/png": "[encoded data removed]",
            "text/plain": [
              "<Figure size 576x396 with 1 Axes>"
            ]
          },
          "metadata": {
            "tags": []
          }
        }
      ]
    },
    {
      "metadata": {
        "id": "mRGWlfQtQIT7",
        "colab_type": "code",
        "colab": {}
      },
      "cell_type": "code",
      "source": [
        "#Understand the differences and trade-offs between traditional and NN classifiers with the help of classification metrics (5 points)"
      ],
      "execution_count": 0,
      "outputs": []
    },
    {
      "metadata": {
        "id": "7fPQ-sBCF478",
        "colab_type": "text"
      },
      "cell_type": "markdown",
      "source": [
        " The observation with Street view images with KNN and NN is as below\n",
        " \n",
        " 1. **KNN was able to predict the images of size (32*32) with 45.92 % accuracy** . KNN captures available cases within the training set and classifies new cases based on a similarity measure (e.g., distance functions). KNN has been used in statistical estimation and traditional pattern recognition algorithm until CNN and deep learning came into existense\n",
        " 2. ** KNN doesn't learn a discriminative function from the training data but memorizes the training dataset instead**.So everytime you wanted to classify a test set it compares with entire training set which is time consuming and resource constraint.\n",
        " 3. Whereas ** CNNs can be thought of automatic feature extractors from the image ** . it uses a algorithm with pixel vector and spatial interaction between pixels. **a CNN effectively uses adjacent pixel information to effectively downsample the image first by convolution and then uses a prediction layer at the end** to predict. Hence the accuracy of **Simple NN classifiers started at 90% and went on to increase with backpropagation and batch normalization** .\n",
        " "
      ]
    }
  ]
}